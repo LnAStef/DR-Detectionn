{
  "nbformat": 4,
  "nbformat_minor": 0,
  "metadata": {
    "kernelspec": {
      "display_name": "Python 3",
      "language": "python",
      "name": "python3"
    },
    "language_info": {
      "codemirror_mode": {
        "name": "ipython",
        "version": 3
      },
      "file_extension": ".py",
      "mimetype": "text/x-python",
      "name": "python",
      "nbconvert_exporter": "python",
      "pygments_lexer": "ipython3",
      "version": "3.7.4"
    },
    "colab": {
      "name": "DL models (Part 2).ipynb",
      "provenance": [],
      "collapsed_sections": []
    }
  },
  "cells": [
    {
      "cell_type": "code",
      "metadata": {
        "colab": {
          "base_uri": "https://localhost:8080/"
        },
        "id": "2BUdI2Emw-40",
        "outputId": "e9e0d0f2-060b-4855-fc04-48205360828c"
      },
      "source": [
        "from google.colab import drive\n",
        "\n",
        "drive.mount('/content/drive')"
      ],
      "execution_count": 1,
      "outputs": [
        {
          "output_type": "stream",
          "text": [
            "Mounted at /content/drive\n"
          ],
          "name": "stdout"
        }
      ]
    },
    {
      "cell_type": "markdown",
      "metadata": {
        "id": "tvYACNr5xxFy"
      },
      "source": [
        "# Creating a dataframe containing the image path and label"
      ]
    },
    {
      "cell_type": "code",
      "metadata": {
        "id": "pgY5q99i9Ywd"
      },
      "source": [
        "'''\n",
        "This function reads data from the respective train and test directories\n",
        "'''\n",
        "import os\n",
        "import pandas as pd\n",
        "\n",
        "def load_data():\n",
        "    train = pd.read_csv('drive/MyDrive/Pattern Recognition/trainLabels.csv')\n",
        "    \n",
        "    train_dir = os.path.join('','drive/MyDrive/Pattern Recognition/train_DR_prepr/scale_300/')\n",
        "    \n",
        "    train['file_path'] = train['image'].map(lambda x: os.path.join(train_dir,'{}_p.jpeg'.format(x)))\n",
        "    \n",
        "    train['file_name'] = train[\"image\"].apply(lambda x: x + \"_p.jpeg\")\n",
        "    \n",
        "    train['level'] = train['level'].astype(str)\n",
        "    \n",
        "    return train"
      ],
      "execution_count": 10,
      "outputs": []
    },
    {
      "cell_type": "code",
      "metadata": {
        "colab": {
          "base_uri": "https://localhost:8080/",
          "height": 267
        },
        "id": "Rqhv2tN39kFb",
        "outputId": "ee57f842-70be-40eb-d85b-acfe69584b3c"
      },
      "source": [
        "df_train = load_data()\n",
        "print(df_train.shape,'\\n')\n",
        "df_train.head(6)"
      ],
      "execution_count": 11,
      "outputs": [
        {
          "output_type": "stream",
          "text": [
            "(35126, 4) \n",
            "\n"
          ],
          "name": "stdout"
        },
        {
          "output_type": "execute_result",
          "data": {
            "text/html": [
              "<div>\n",
              "<style scoped>\n",
              "    .dataframe tbody tr th:only-of-type {\n",
              "        vertical-align: middle;\n",
              "    }\n",
              "\n",
              "    .dataframe tbody tr th {\n",
              "        vertical-align: top;\n",
              "    }\n",
              "\n",
              "    .dataframe thead th {\n",
              "        text-align: right;\n",
              "    }\n",
              "</style>\n",
              "<table border=\"1\" class=\"dataframe\">\n",
              "  <thead>\n",
              "    <tr style=\"text-align: right;\">\n",
              "      <th></th>\n",
              "      <th>image</th>\n",
              "      <th>level</th>\n",
              "      <th>file_path</th>\n",
              "      <th>file_name</th>\n",
              "    </tr>\n",
              "  </thead>\n",
              "  <tbody>\n",
              "    <tr>\n",
              "      <th>0</th>\n",
              "      <td>10_left</td>\n",
              "      <td>0</td>\n",
              "      <td>drive/MyDrive/Pattern Recognition/train_DR_pre...</td>\n",
              "      <td>10_left_p.jpeg</td>\n",
              "    </tr>\n",
              "    <tr>\n",
              "      <th>1</th>\n",
              "      <td>10_right</td>\n",
              "      <td>0</td>\n",
              "      <td>drive/MyDrive/Pattern Recognition/train_DR_pre...</td>\n",
              "      <td>10_right_p.jpeg</td>\n",
              "    </tr>\n",
              "    <tr>\n",
              "      <th>2</th>\n",
              "      <td>13_left</td>\n",
              "      <td>0</td>\n",
              "      <td>drive/MyDrive/Pattern Recognition/train_DR_pre...</td>\n",
              "      <td>13_left_p.jpeg</td>\n",
              "    </tr>\n",
              "    <tr>\n",
              "      <th>3</th>\n",
              "      <td>13_right</td>\n",
              "      <td>0</td>\n",
              "      <td>drive/MyDrive/Pattern Recognition/train_DR_pre...</td>\n",
              "      <td>13_right_p.jpeg</td>\n",
              "    </tr>\n",
              "    <tr>\n",
              "      <th>4</th>\n",
              "      <td>15_left</td>\n",
              "      <td>1</td>\n",
              "      <td>drive/MyDrive/Pattern Recognition/train_DR_pre...</td>\n",
              "      <td>15_left_p.jpeg</td>\n",
              "    </tr>\n",
              "    <tr>\n",
              "      <th>5</th>\n",
              "      <td>15_right</td>\n",
              "      <td>2</td>\n",
              "      <td>drive/MyDrive/Pattern Recognition/train_DR_pre...</td>\n",
              "      <td>15_right_p.jpeg</td>\n",
              "    </tr>\n",
              "  </tbody>\n",
              "</table>\n",
              "</div>"
            ],
            "text/plain": [
              "      image  ...        file_name\n",
              "0   10_left  ...   10_left_p.jpeg\n",
              "1  10_right  ...  10_right_p.jpeg\n",
              "2   13_left  ...   13_left_p.jpeg\n",
              "3  13_right  ...  13_right_p.jpeg\n",
              "4   15_left  ...   15_left_p.jpeg\n",
              "5  15_right  ...  15_right_p.jpeg\n",
              "\n",
              "[6 rows x 4 columns]"
            ]
          },
          "metadata": {
            "tags": []
          },
          "execution_count": 11
        }
      ]
    },
    {
      "cell_type": "code",
      "metadata": {
        "id": "Lw2hl1P0jZqW"
      },
      "source": [
        "df_train_unbalanced = df_train"
      ],
      "execution_count": 12,
      "outputs": []
    },
    {
      "cell_type": "markdown",
      "metadata": {
        "id": "pqYQ1Ltmx5nt"
      },
      "source": [
        "## Balancing the data entries by upsampling"
      ]
    },
    {
      "cell_type": "code",
      "metadata": {
        "id": "8iACUmU04QQg"
      },
      "source": [
        "def balance_data(class_size,df):\n",
        "    train_df = df.groupby(['level']).apply(lambda x: x.sample(class_size, replace = True)).reset_index(drop = True)\n",
        "    train_df = train_df.sample(frac=1).reset_index(drop=True)\n",
        "    print('New Data Size:', train_df.shape[0], 'Old Size:', df.shape[0])\n",
        "    train_df['level'].hist(figsize = (10, 5))\n",
        "    return train_df"
      ],
      "execution_count": 13,
      "outputs": []
    },
    {
      "cell_type": "code",
      "metadata": {
        "colab": {
          "base_uri": "https://localhost:8080/",
          "height": 354
        },
        "id": "1C_NADz_4edQ",
        "outputId": "2e6b28bc-e5af-4c36-c1d2-36b947054d91"
      },
      "source": [
        "df_train = balance_data(df_train.pivot_table(index='level', aggfunc=len).max().max(),df_train) # oversample such that all classes have the same number of images as the maximum\n",
        "df_train['level'].hist(figsize = (10, 5))"
      ],
      "execution_count": 14,
      "outputs": [
        {
          "output_type": "stream",
          "text": [
            "New Data Size: 129050 Old Size: 35126\n"
          ],
          "name": "stdout"
        },
        {
          "output_type": "execute_result",
          "data": {
            "text/plain": [
              "<matplotlib.axes._subplots.AxesSubplot at 0x7faa5b5b30d0>"
            ]
          },
          "metadata": {
            "tags": []
          },
          "execution_count": 14
        },
        {
          "output_type": "display_data",
          "data": {
            "image/png": "[encoded data removed]",
            "text/plain": [
              "<Figure size 720x360 with 1 Axes>"
            ]
          },
          "metadata": {
            "tags": []
          }
        }
      ]
    },
    {
      "cell_type": "code",
      "metadata": {
        "colab": {
          "base_uri": "https://localhost:8080/",
          "height": 267
        },
        "id": "lstE-CMb40Tx",
        "outputId": "042c8bd0-eb61-4012-c346-f9cd99d9c981"
      },
      "source": [
        "print(df_train.shape,'\\n')\n",
        "df_train.head(6)\n",
        "#train_df['level'].hist(figsize = (10, 5))"
      ],
      "execution_count": 15,
      "outputs": [
        {
          "output_type": "stream",
          "text": [
            "(129050, 4) \n",
            "\n"
          ],
          "name": "stdout"
        },
        {
          "output_type": "execute_result",
          "data": {
            "text/html": [
              "<div>\n",
              "<style scoped>\n",
              "    .dataframe tbody tr th:only-of-type {\n",
              "        vertical-align: middle;\n",
              "    }\n",
              "\n",
              "    .dataframe tbody tr th {\n",
              "        vertical-align: top;\n",
              "    }\n",
              "\n",
              "    .dataframe thead th {\n",
              "        text-align: right;\n",
              "    }\n",
              "</style>\n",
              "<table border=\"1\" class=\"dataframe\">\n",
              "  <thead>\n",
              "    <tr style=\"text-align: right;\">\n",
              "      <th></th>\n",
              "      <th>image</th>\n",
              "      <th>level</th>\n",
              "      <th>file_path</th>\n",
              "      <th>file_name</th>\n",
              "    </tr>\n",
              "  </thead>\n",
              "  <tbody>\n",
              "    <tr>\n",
              "      <th>0</th>\n",
              "      <td>3868_right</td>\n",
              "      <td>3</td>\n",
              "      <td>drive/MyDrive/Pattern Recognition/train_DR_pre...</td>\n",
              "      <td>3868_right_p.jpeg</td>\n",
              "    </tr>\n",
              "    <tr>\n",
              "      <th>1</th>\n",
              "      <td>21205_left</td>\n",
              "      <td>4</td>\n",
              "      <td>drive/MyDrive/Pattern Recognition/train_DR_pre...</td>\n",
              "      <td>21205_left_p.jpeg</td>\n",
              "    </tr>\n",
              "    <tr>\n",
              "      <th>2</th>\n",
              "      <td>670_right</td>\n",
              "      <td>4</td>\n",
              "      <td>drive/MyDrive/Pattern Recognition/train_DR_pre...</td>\n",
              "      <td>670_right_p.jpeg</td>\n",
              "    </tr>\n",
              "    <tr>\n",
              "      <th>3</th>\n",
              "      <td>32247_right</td>\n",
              "      <td>3</td>\n",
              "      <td>drive/MyDrive/Pattern Recognition/train_DR_pre...</td>\n",
              "      <td>32247_right_p.jpeg</td>\n",
              "    </tr>\n",
              "    <tr>\n",
              "      <th>4</th>\n",
              "      <td>25949_right</td>\n",
              "      <td>2</td>\n",
              "      <td>drive/MyDrive/Pattern Recognition/train_DR_pre...</td>\n",
              "      <td>25949_right_p.jpeg</td>\n",
              "    </tr>\n",
              "    <tr>\n",
              "      <th>5</th>\n",
              "      <td>22160_right</td>\n",
              "      <td>4</td>\n",
              "      <td>drive/MyDrive/Pattern Recognition/train_DR_pre...</td>\n",
              "      <td>22160_right_p.jpeg</td>\n",
              "    </tr>\n",
              "  </tbody>\n",
              "</table>\n",
              "</div>"
            ],
            "text/plain": [
              "         image  ...           file_name\n",
              "0   3868_right  ...   3868_right_p.jpeg\n",
              "1   21205_left  ...   21205_left_p.jpeg\n",
              "2    670_right  ...    670_right_p.jpeg\n",
              "3  32247_right  ...  32247_right_p.jpeg\n",
              "4  25949_right  ...  25949_right_p.jpeg\n",
              "5  22160_right  ...  22160_right_p.jpeg\n",
              "\n",
              "[6 rows x 4 columns]"
            ]
          },
          "metadata": {
            "tags": []
          },
          "execution_count": 15
        }
      ]
    },
    {
      "cell_type": "markdown",
      "metadata": {
        "id": "2q2c2ljoyCHn"
      },
      "source": [
        "## Initial class distribution"
      ]
    },
    {
      "cell_type": "code",
      "metadata": {
        "id": "xlRY0hQ7CZko"
      },
      "source": [
        "'''This Function Plots a Bar plot of output Classes Distribution'''\n",
        "import seaborn as sns\n",
        "import matplotlib.pyplot as plt\n",
        "%matplotlib inline\n",
        "\n",
        "def plot_classes(df):\n",
        "    df_group = pd.DataFrame(df.groupby('level').agg('size').reset_index())\n",
        "    df_group.columns = ['level','count']\n",
        "\n",
        "    sns.set(rc={'figure.figsize':(10,5)}, style = 'whitegrid')\n",
        "    sns.barplot(x = 'level',y='count',data = df_group,palette = \"Blues_d\")\n",
        "    plt.title('Output Class Distribution')\n",
        "    plt.show()"
      ],
      "execution_count": 16,
      "outputs": []
    },
    {
      "cell_type": "code",
      "metadata": {
        "colab": {
          "base_uri": "https://localhost:8080/",
          "height": 359
        },
        "id": "vKi_FK5nCZko",
        "outputId": "bbb57c8d-12e1-4608-ac7b-0868bcd2c4a6"
      },
      "source": [
        "plot_classes(df_train_unbalanced)"
      ],
      "execution_count": 17,
      "outputs": [
        {
          "output_type": "display_data",
          "data": {
            "image/png": "[encoded data removed]",
            "text/plain": [
              "<Figure size 720x360 with 1 Axes>"
            ]
          },
          "metadata": {
            "tags": []
          }
        }
      ]
    },
    {
      "cell_type": "markdown",
      "metadata": {
        "id": "zVSRIqE-CZks"
      },
      "source": [
        "# Creating the models "
      ]
    },
    {
      "cell_type": "markdown",
      "metadata": {
        "id": "aw2q7EnmCZks"
      },
      "source": [
        "*About Fractional Max Pooling:*\n",
        "\n",
        "The pooling fraction α which determines the ratio between the spatial sizes of the input and the output of the pooling layer (N_in/N_out). Regular 2 × 2 max-pooling corresponds to the special case α = 2.\n",
        "\n",
        "The pooling regions can either be chosen in a random or a pseudorandom\n",
        "fashion.\n",
        "\n",
        "The pooling regions can be either disjoint or overlapping. Disjoint regions\n",
        "are easier to picture, but we find that overlapping regions work better."
      ]
    },
    {
      "cell_type": "markdown",
      "metadata": {
        "id": "f9VV3xw5T_uo"
      },
      "source": [
        "Models are generated using the following code:"
      ]
    },
    {
      "cell_type": "code",
      "metadata": {
        "id": "efmDT555CZkt"
      },
      "source": [
        "# Model parameters\n",
        "BATCH_SIZE = 8\n",
        "EPOCHS = 40\n",
        "WARMUP_EPOCHS = 2\n",
        "LEARNING_RATE = 1e-4\n",
        "WARMUP_LEARNING_RATE = 1e-3\n",
        "HEIGHT = 3000\n",
        "WIDTH = 3000\n",
        "CANAL = 3\n",
        "N_CLASSES = 5 \n",
        "ES_PATIENCE = 5\n",
        "RLROP_PATIENCE = 3\n",
        "DECAY_DROP = 0.5"
      ],
      "execution_count": null,
      "outputs": []
    },
    {
      "cell_type": "markdown",
      "metadata": {
        "id": "7ZqcUW_h0mvE"
      },
      "source": [
        "Max pooling model:"
      ]
    },
    {
      "cell_type": "code",
      "metadata": {
        "id": "XFpYWFw0CZku"
      },
      "source": [
        "import tensorflow as tf\n",
        "from keras import optimizers,Model,Sequential\n",
        "from keras.layers import Input,GlobalAveragePooling2D,Dropout,Dense,Activation, Conv2D, MaxPooling2D, Flatten\n",
        "from keras import applications\n",
        "\n",
        "\n",
        "def create_model(input_shape, n_out):\n",
        "    input_tensor = Input(shape=input_shape)\n",
        "    base_model = Sequential()\n",
        "    #base_model.load_weights('resnet50_weights_tf_dim_ordering_tf_kernels_notop.h5')\n",
        "   \n",
        "    #32C5-*-64C3-*-96C3-*-  128C3-*-160C3-*-192C3-*-  224C3-*-256C3-*-228C3-*-  320C2-352C1-5N\n",
        "    x = Conv2D(filters=32,kernel_size=5,strides=1,activation='relu')(input_tensor)\n",
        "    x = MaxPooling2D(pool_size=3, strides=2)(x)\n",
        "    x = Conv2D(filters=64,kernel_size=3,strides=1,activation='relu')(x)\n",
        "    x = MaxPooling2D(pool_size=3, strides=2)(x)\n",
        "    x = Conv2D(filters=96,kernel_size=3,strides=1,activation='relu')(x)\n",
        "    x = MaxPooling2D(pool_size=3, strides=2)(x)\n",
        "    x = Conv2D(filters=96,kernel_size=3,strides=1,activation='relu')(x)\n",
        "    x = MaxPooling2D(pool_size=3, strides=2)(x)\n",
        "   \n",
        "\n",
        "    x = Conv2D(filters=64,kernel_size=3,strides=1,activation='relu')(x)\n",
        "    x = Dropout(0.1)(x)\n",
        "    \n",
        "    x = MaxPooling2D(pool_size=3, strides=2)(x)\n",
        "    x = Dropout(0.1)(x)\n",
        "    \n",
        "    \n",
        "   \n",
        "    \n",
        "    x = Flatten()(x)\n",
        "    final_output = Dense(n_out, activation='softmax', name='final_output')(x)\n",
        "    print(final_output)\n",
        "    model = Model(input_tensor, final_output) \n",
        "\n",
        "    return model"
      ],
      "execution_count": null,
      "outputs": []
    },
    {
      "cell_type": "code",
      "metadata": {
        "colab": {
          "base_uri": "https://localhost:8080/"
        },
        "id": "qxZ3cCqpuOmk",
        "outputId": "d63ddc7f-75a9-45d3-bcfa-6e6efc6a950d"
      },
      "source": [
        "model = create_model(input_shape=(HEIGHT, WIDTH, CANAL), n_out=N_CLASSES)"
      ],
      "execution_count": null,
      "outputs": [
        {
          "output_type": "stream",
          "text": [
            "KerasTensor(type_spec=TensorSpec(shape=(None, 5), dtype=tf.float32, name=None), name='final_output/Softmax:0', description=\"created by layer 'final_output'\")\n"
          ],
          "name": "stdout"
        }
      ]
    },
    {
      "cell_type": "code",
      "metadata": {
        "colab": {
          "base_uri": "https://localhost:8080/"
        },
        "id": "BHGPDoonwQw5",
        "outputId": "29481307-c308-4b01-99a4-9e5d998bafe6"
      },
      "source": [
        "model.summary()"
      ],
      "execution_count": null,
      "outputs": [
        {
          "output_type": "stream",
          "text": [
            "Model: \"model_2\"\n",
            "_________________________________________________________________\n",
            "Layer (type)                 Output Shape              Param #   \n",
            "=================================================================\n",
            "input_3 (InputLayer)         [(None, 632, 948, 3)]     0         \n",
            "_________________________________________________________________\n",
            "conv2d_10 (Conv2D)           (None, 628, 944, 32)      2432      \n",
            "_________________________________________________________________\n",
            "max_pooling2d_10 (MaxPooling (None, 313, 471, 32)      0         \n",
            "_________________________________________________________________\n",
            "conv2d_11 (Conv2D)           (None, 311, 469, 64)      18496     \n",
            "_________________________________________________________________\n",
            "max_pooling2d_11 (MaxPooling (None, 155, 234, 64)      0         \n",
            "_________________________________________________________________\n",
            "conv2d_12 (Conv2D)           (None, 153, 232, 96)      55392     \n",
            "_________________________________________________________________\n",
            "max_pooling2d_12 (MaxPooling (None, 76, 115, 96)       0         \n",
            "_________________________________________________________________\n",
            "conv2d_13 (Conv2D)           (None, 74, 113, 96)       83040     \n",
            "_________________________________________________________________\n",
            "max_pooling2d_13 (MaxPooling (None, 36, 56, 96)        0         \n",
            "_________________________________________________________________\n",
            "conv2d_14 (Conv2D)           (None, 34, 54, 64)        55360     \n",
            "_________________________________________________________________\n",
            "dropout_4 (Dropout)          (None, 34, 54, 64)        0         \n",
            "_________________________________________________________________\n",
            "max_pooling2d_14 (MaxPooling (None, 16, 26, 64)        0         \n",
            "_________________________________________________________________\n",
            "dropout_5 (Dropout)          (None, 16, 26, 64)        0         \n",
            "_________________________________________________________________\n",
            "flatten_2 (Flatten)          (None, 26624)             0         \n",
            "_________________________________________________________________\n",
            "final_output (Dense)         (None, 5)                 133125    \n",
            "=================================================================\n",
            "Total params: 347,845\n",
            "Trainable params: 347,845\n",
            "Non-trainable params: 0\n",
            "_________________________________________________________________\n"
          ],
          "name": "stdout"
        }
      ]
    },
    {
      "cell_type": "markdown",
      "metadata": {
        "id": "K7T1G85m8sNL"
      },
      "source": [
        "Source: https://analysiscenter.github.io/batchflow/_modules/batchflow/models/tf/layers/pooling.html"
      ]
    },
    {
      "cell_type": "markdown",
      "metadata": {
        "id": "uta8OKDU7j8v"
      },
      "source": [
        "Fractional-Max Pooling:"
      ]
    },
    {
      "cell_type": "code",
      "metadata": {
        "id": "rq3t7jCoCZkt"
      },
      "source": [
        "import numpy as np\n",
        "import tensorflow as tf\n",
        "import tensorflow.keras.layers as K #pylint: disable=import-error\n",
        "from tensorflow.keras.layers import Layer\n",
        "\n",
        "\n",
        "#add_as_function\n",
        "class FractionalMaxPooling2D (Layer):\n",
        "    \"\"\" Fractional max-pooling layer.\n",
        "\n",
        "    Parameters\n",
        "    ----------\n",
        "    pool_size : float\n",
        "        pooling ratio (default=1.4142).\n",
        "    pseudo_random : bool\n",
        "        Default is False.\n",
        "    overlapping : bool\n",
        "        Default is False.\n",
        "    strides: int\n",
        "        The strides of the pooling operation.\n",
        "    padding: str\n",
        "        'same' or 'valid'\n",
        "    data_format: str\n",
        "        'channels_last' or 'channels_first'\n",
        "    name: str\n",
        "        Scope name.\n",
        "\n",
        "    Notes\n",
        "    -----\n",
        "    Be aware that it is not thread safe.\n",
        "    ``tf.nn.fractional_max_pool>`` will likely cause segmentation fault in a multi-threading environment\n",
        "    (e.g. in a pipeline with prefetch)\n",
        "    \"\"\"\n",
        "    def __init__(self, op, pool_size=1.8, pseudo_random=True, overlapping=True,\n",
        "                 data_format='channels_last', name=None, **kwargs):\n",
        "        self.op, self.pseudo_random, self.overlapping = op, pseudo_random, overlapping\n",
        "        self.pool_size = pool_size\n",
        "        self.data_format = data_format\n",
        "        #self.name = name\n",
        "        self.kwargs = kwargs\n",
        "        \n",
        "    def build(self, input_shape):   # Create the state of the layer (weights)\n",
        "                                    # Create a trainable weight variable for this layer.\n",
        "                                    # This kind of layer doesn't have any variable\n",
        "        w_init = tf.random_normal_initializer()\n",
        "        self.w = tf.Variable(\n",
        "        initial_value=w_init(shape=(input_shape[-1], self.units),\n",
        "                             dtype='float32'),\n",
        "        trainable=True)\n",
        "    \n",
        "        pass\n",
        "\n",
        "    def __call__(self, inputs): # Defines the computation from inputs to outputs\n",
        "        dim = inputs.shape.ndims - 2\n",
        "\n",
        "        if self.op == 'max':\n",
        "            op = tf.nn.fractional_max_pool\n",
        "        elif self.op in ['mean', 'average', 'avg']:\n",
        "            op = tf.nn.fractional_avg_pool\n",
        "\n",
        "        _pooling_ratio = np.ones(inputs.shape.ndims)\n",
        "        axis = 1 if self.data_format == 'channels_last' else 2\n",
        "        _pooling_ratio[axis:axis+dim] = self.pool_size\n",
        "        _pooling_ratio = list(_pooling_ratio)\n",
        "\n",
        "        if dim == 1:\n",
        "            with Lambda(lambda: variable_scope(self.kwargs.get('name') or 'fractional_pooling')): # tf.variable_scope(self.kwargs.get('name') or 'fractional_pooling'):\n",
        "                axis = 2 if self.data_format == 'channels_last' else -1\n",
        "                x = tf.expand_dims(inputs, axis=axis)\n",
        "                _pooling_ratio[axis] = 1\n",
        "                x, _, _ = op(x, _pooling_ratio, self.pseudo_random, self.overlapping, **self.kwargs)\n",
        "                x = tf.squeeze(x, [axis])\n",
        "        elif dim in [2, 3]:\n",
        "            x, _, _ = op(inputs, _pooling_ratio, self.pseudo_random, self.overlapping, **self.kwargs)\n",
        "        else:\n",
        "            raise ValueError(\"Number of dimensions in the inputs tensor should be 1, 2 or 3, but given %d\" % dim)\n",
        "        \n",
        "\n",
        "        return x\n",
        "    \n",
        "\n"
      ],
      "execution_count": 66,
      "outputs": []
    },
    {
      "cell_type": "markdown",
      "metadata": {
        "id": "ohisLZUc8yQE"
      },
      "source": [
        "Source: https://github.com/debayanmitra1993-data/Blindness-Detection-Diabetic-Retinopathy-/blob/master/3_resnet50(colab).ipynb"
      ]
    },
    {
      "cell_type": "code",
      "metadata": {
        "id": "aZj6247V156b"
      },
      "source": [
        "BATCH_SIZE = 50 \n",
        "EPOCHS = 30\n",
        "WARMUP_EPOCHS = 2\n",
        "LEARNING_RATE = 1e-4\n",
        "WARMUP_LEARNING_RATE = 1e-3\n",
        "HEIGHT = 632\n",
        "WIDTH = 948\n",
        "CANAL = 3\n",
        "N_CLASSES = 5 \n",
        "ES_PATIENCE = 5\n",
        "RLROP_PATIENCE = 3\n",
        "DECAY_DROP = 0.5"
      ],
      "execution_count": 18,
      "outputs": []
    },
    {
      "cell_type": "code",
      "metadata": {
        "id": "YXTX6EhOCjn1"
      },
      "source": [
        "import tensorflow as tf\n",
        "from keras import optimizers,Model,Sequential\n",
        "from keras.layers import Input,GlobalAveragePooling2D,Dropout,Dense,Activation, Conv2D, MaxPooling2D, Flatten\n",
        "from keras import applications\n",
        "\n",
        "\n",
        "def create_model(input_shape, n_out):\n",
        "    input_tensor = Input(shape=input_shape)\n",
        "    base_model = Sequential()\n",
        "   \n",
        "    # Network architecture: 32C5-*-64C3-*-96C3-*-  128C3-*-160C3-*-192C3-*-  224C3-*-256C3-*-228C3-*-  320C2-352C1-5N -> 16C5-*-32C3-*-64C3-*- 96C3-*-128C3-*-5N\n",
        "    \n",
        "    x = Conv2D(filters=16,kernel_size=5,strides=1,activation='relu')(input_tensor)\n",
        "    x = FractionalMaxPooling2D(op = 'max')(x)\n",
        "    x = Conv2D(filters=32,kernel_size=3,strides=1,activation='relu')(x)\n",
        "    x = FractionalMaxPooling2D(op = 'max')(x)\n",
        "    x = Conv2D(filters=64,kernel_size=3,strides=1,activation='relu')(x)\n",
        "    x = FractionalMaxPooling2D(op = 'max')(x)\n",
        "    x = Conv2D(filters=96,kernel_size=3,strides=1,activation='relu')(x)\n",
        "    x = FractionalMaxPooling2D(op = 'max')(x)\n",
        "    \n",
        "    '''\n",
        "    x = Conv2D(filters=128,kernel_size=3,strides=1,activation='relu')(x)\n",
        "    x = FractionalMaxPooling2D(op = 'max', pool_size=3)(x)\n",
        "    \n",
        "    x = Conv2D(filters=160,kernel_size=3,strides=1,activation='relu')(x)\n",
        "    x = FractionalMaxPooling2D(op = 'max', pool_size=3)(x)\n",
        "    x = Conv2D(filters=192,kernel_size=3,strides=1,activation='relu')(x)\n",
        "    x = FractionalMaxPooling2D(op = 'max', pool_size=3)(x)\n",
        "   \n",
        "    x = Conv2D(filters=224,kernel_size=3,strides=1,activation='relu')(x)\n",
        "    x = FractionalMaxPooling2D(op = 'max', pool_size=3)(x)\n",
        "    x = Conv2D(filters=256,kernel_size=3,strides=1,activation='relu')(x)\n",
        "    x = FractionalMaxPooling2D(op = 'max', pool_size=3)(x)\n",
        "    '''\n",
        "    x = Conv2D(filters=128,kernel_size=3,strides=1,activation='relu')(x)\n",
        "    x = Dropout(0.1)(x)\n",
        "    x = FractionalMaxPooling2D(op = 'max')(x)\n",
        "    #x = Dropout(0.1)(x)\n",
        "    #x = Conv2D(filters=320,kernel_size=2,strides=1,activation='relu')(x) \n",
        "    #x = Dropout(0.1)(x)\n",
        "    #x = Conv2D(filters=352,kernel_size=1,strides=1,activation='relu')(x)\n",
        "    x = Dropout(0.1)(x)\n",
        "    \n",
        "   \n",
        "    \n",
        "    x = Flatten()(x)\n",
        "    final_output = Dense(n_out, activation='softmax', name='final_output')(x)\n",
        "    print(final_output)\n",
        "    model = Model(input_tensor, final_output) \n",
        "\n",
        "    return model"
      ],
      "execution_count": 98,
      "outputs": []
    },
    {
      "cell_type": "code",
      "metadata": {
        "colab": {
          "base_uri": "https://localhost:8080/"
        },
        "id": "6m98FV7cCZku",
        "outputId": "a029ae5f-f98c-48bc-ef34-8114d095200c"
      },
      "source": [
        "model = create_model(input_shape=(HEIGHT, WIDTH, CANAL), n_out=N_CLASSES)"
      ],
      "execution_count": 99,
      "outputs": [
        {
          "output_type": "stream",
          "text": [
            "KerasTensor(type_spec=TensorSpec(shape=(None, 5), dtype=tf.float32, name=None), name='final_output/Softmax:0', description=\"created by layer 'final_output'\")\n"
          ],
          "name": "stdout"
        }
      ]
    },
    {
      "cell_type": "code",
      "metadata": {
        "colab": {
          "base_uri": "https://localhost:8080/"
        },
        "id": "eyRYrVfGCZku",
        "outputId": "b5b0cff2-d0f7-42c1-b4f9-7ac7c82d374a"
      },
      "source": [
        "model.summary()"
      ],
      "execution_count": 100,
      "outputs": [
        {
          "output_type": "stream",
          "text": [
            "Model: \"model_19\"\n",
            "_________________________________________________________________\n",
            "Layer (type)                 Output Shape              Param #   \n",
            "=================================================================\n",
            "input_21 (InputLayer)        [(None, 632, 948, 3)]     0         \n",
            "_________________________________________________________________\n",
            "conv2d_87 (Conv2D)           (None, 628, 944, 16)      1216      \n",
            "_________________________________________________________________\n",
            "tf.nn.fractional_max_pool_82 FractionalMaxPool(output= 0         \n",
            "_________________________________________________________________\n",
            "conv2d_88 (Conv2D)           (None, 346, 522, 32)      4640      \n",
            "_________________________________________________________________\n",
            "tf.nn.fractional_max_pool_83 FractionalMaxPool(output= 0         \n",
            "_________________________________________________________________\n",
            "conv2d_89 (Conv2D)           (None, 190, 288, 64)      18496     \n",
            "_________________________________________________________________\n",
            "tf.nn.fractional_max_pool_84 FractionalMaxPool(output= 0         \n",
            "_________________________________________________________________\n",
            "conv2d_90 (Conv2D)           (None, 103, 158, 96)      55392     \n",
            "_________________________________________________________________\n",
            "tf.nn.fractional_max_pool_85 FractionalMaxPool(output= 0         \n",
            "_________________________________________________________________\n",
            "conv2d_91 (Conv2D)           (None, 55, 85, 128)       110720    \n",
            "_________________________________________________________________\n",
            "dropout_43 (Dropout)         (None, 55, 85, 128)       0         \n",
            "_________________________________________________________________\n",
            "tf.nn.fractional_max_pool_86 FractionalMaxPool(output= 0         \n",
            "_________________________________________________________________\n",
            "dropout_44 (Dropout)         (None, 30, 47, 128)       0         \n",
            "_________________________________________________________________\n",
            "flatten_19 (Flatten)         (None, 180480)            0         \n",
            "_________________________________________________________________\n",
            "final_output (Dense)         (None, 5)                 902405    \n",
            "=================================================================\n",
            "Total params: 1,092,869\n",
            "Trainable params: 1,092,869\n",
            "Non-trainable params: 0\n",
            "_________________________________________________________________\n"
          ],
          "name": "stdout"
        }
      ]
    },
    {
      "cell_type": "markdown",
      "metadata": {
        "id": "Bgho_UN6UJP6"
      },
      "source": [
        "## Generating the images data using Image Generator from Keras"
      ]
    },
    {
      "cell_type": "markdown",
      "metadata": {
        "id": "sDpxFjWR9ElR"
      },
      "source": [
        "Source: https://github.com/debayanmitra1993-data/Blindness-Detection-Diabetic-Retinopathy-/blob/master/3_resnet50(colab).ipynb"
      ]
    },
    {
      "cell_type": "code",
      "metadata": {
        "id": "6S_FCQvYCZkv"
      },
      "source": [
        "from keras.preprocessing.image import ImageDataGenerator,img_to_array,array_to_img,load_img\n",
        "\n",
        "def img_generator(train): #test):\n",
        "    train_datagen=ImageDataGenerator(rescale=1./255, validation_split=0.2,horizontal_flip=True)\n",
        "    \n",
        "    train_generator=train_datagen.flow_from_dataframe(dataframe=df_train,\n",
        "                                                      directory='drive/My Drive/Pattern Recognition/train_DR_prepr/scale_300',\n",
        "                                                      x_col=\"file_name\",\n",
        "                                                      y_col=\"level\",\n",
        "                                                      batch_size=BATCH_SIZE,\n",
        "                                                      class_mode=\"categorical\",\n",
        "                                                      target_size=(HEIGHT, WIDTH),\n",
        "                                                      subset='training')\n",
        "    \n",
        "    valid_generator=train_datagen.flow_from_dataframe(dataframe=df_train,\n",
        "                                                      directory='drive/My Drive/Pattern Recognition/train_DR_prepr/scale_300',\n",
        "                                                      x_col=\"file_name\",\n",
        "                                                      y_col=\"level\",\n",
        "                                                      batch_size=BATCH_SIZE,\n",
        "                                                      class_mode=\"categorical\",    \n",
        "                                                      target_size=(HEIGHT, WIDTH),\n",
        "                                                      subset='validation')\n",
        "    \n",
        "    \n",
        "    test_datagen = ImageDataGenerator(rescale=1./255)\n",
        "    test_generator = test_datagen.flow_from_dataframe(dataframe=df_train,\n",
        "                                                      directory = 'drive/My Drive/Pattern Recognition/test_DR_prepr/scale_300',\n",
        "                                                      x_col=\"file_name\",\n",
        "                                                      y_col=\"level\",\n",
        "                                                      target_size=(HEIGHT, WIDTH),\n",
        "                                                      batch_size=50,\n",
        "                                                      shuffle=False,\n",
        "                                                      class_mode='categorical')\n",
        "    \n",
        "    return train_generator,valid_generator, test_generator"
      ],
      "execution_count": 21,
      "outputs": []
    },
    {
      "cell_type": "code",
      "metadata": {
        "id": "TEom4ZB2CZkv",
        "colab": {
          "base_uri": "https://localhost:8080/"
        },
        "outputId": "00e6c6fe-9553-4780-db9e-a304d3b46da3"
      },
      "source": [
        "train_generator,valid_generator,test_generator = img_generator(df_train) #,df_train)\n"
      ],
      "execution_count": 22,
      "outputs": [
        {
          "output_type": "stream",
          "text": [
            "/usr/local/lib/python3.7/dist-packages/keras_preprocessing/image/dataframe_iterator.py:282: UserWarning: Found 114104 invalid image filename(s) in x_col=\"file_name\". These filename(s) will be ignored.\n",
            "  .format(n_invalid, x_col)\n"
          ],
          "name": "stderr"
        },
        {
          "output_type": "stream",
          "text": [
            "Found 11957 validated image filenames belonging to 5 classes.\n"
          ],
          "name": "stdout"
        },
        {
          "output_type": "stream",
          "text": [
            "/usr/local/lib/python3.7/dist-packages/keras_preprocessing/image/dataframe_iterator.py:282: UserWarning: Found 114104 invalid image filename(s) in x_col=\"file_name\". These filename(s) will be ignored.\n",
            "  .format(n_invalid, x_col)\n"
          ],
          "name": "stderr"
        },
        {
          "output_type": "stream",
          "text": [
            "Found 2989 validated image filenames belonging to 5 classes.\n",
            "Found 2403 validated image filenames belonging to 5 classes.\n"
          ],
          "name": "stdout"
        },
        {
          "output_type": "stream",
          "text": [
            "/usr/local/lib/python3.7/dist-packages/keras_preprocessing/image/dataframe_iterator.py:282: UserWarning: Found 126647 invalid image filename(s) in x_col=\"file_name\". These filename(s) will be ignored.\n",
            "  .format(n_invalid, x_col)\n"
          ],
          "name": "stderr"
        }
      ]
    },
    {
      "cell_type": "markdown",
      "metadata": {
        "id": "csLU5GvxVG8v"
      },
      "source": [
        "# Experiments"
      ]
    },
    {
      "cell_type": "markdown",
      "metadata": {
        "id": "aoOP7oimUzA_"
      },
      "source": [
        "# Models compilation, training and evaluation"
      ]
    },
    {
      "cell_type": "code",
      "metadata": {
        "colab": {
          "base_uri": "https://localhost:8080/"
        },
        "id": "Px-_-NPlCZkv",
        "outputId": "e7de831e-f48a-433a-d717-ce3199b909ca"
      },
      "source": [
        "from keras import optimizers\n",
        "\n",
        "model.compile(optimizer = optimizers.Adam(lr=WARMUP_LEARNING_RATE),loss = 'categorical_crossentropy',metrics = ['accuracy'])\n",
        "\n",
        "history_warmup = model.fit_generator(generator=train_generator,\n",
        "                                     steps_per_epoch=2,  # STEP_SIZE_TRAIN,\n",
        "                                     validation_data=valid_generator,validation_steps= 7, #STEP_SIZE_VALID,\n",
        "                                     epochs=WARMUP_EPOCHS,\n",
        "                                     verbose=1).history"
      ],
      "execution_count": 23,
      "outputs": [
        {
          "output_type": "stream",
          "text": [
            "/usr/local/lib/python3.7/dist-packages/tensorflow/python/keras/optimizer_v2/optimizer_v2.py:375: UserWarning: The `lr` argument is deprecated, use `learning_rate` instead.\n",
            "  \"The `lr` argument is deprecated, use `learning_rate` instead.\")\n",
            "/usr/local/lib/python3.7/dist-packages/keras/engine/training.py:1915: UserWarning: `Model.fit_generator` is deprecated and will be removed in a future version. Please use `Model.fit`, which supports generators.\n",
            "  warnings.warn('`Model.fit_generator` is deprecated and '\n"
          ],
          "name": "stderr"
        },
        {
          "output_type": "stream",
          "text": [
            "Epoch 1/2\n",
            "2/2 [==============================] - 89s 53s/step - loss: 2.3884 - accuracy: 0.3833 - val_loss: 1.7482 - val_accuracy: 0.2571\n",
            "Epoch 2/2\n",
            "2/2 [==============================] - 65s 46s/step - loss: 1.7715 - accuracy: 0.2333 - val_loss: 1.6268 - val_accuracy: 0.2286\n"
          ],
          "name": "stdout"
        }
      ]
    },
    {
      "cell_type": "code",
      "metadata": {
        "colab": {
          "base_uri": "https://localhost:8080/"
        },
        "id": "43M_pjXdrGaq",
        "outputId": "2b4545c4-47ca-45bc-bb64-15ce8303cecd"
      },
      "source": [
        "history_warmup"
      ],
      "execution_count": 24,
      "outputs": [
        {
          "output_type": "execute_result",
          "data": {
            "text/plain": [
              "{'accuracy': [0.32499998807907104, 0.22499999403953552],\n",
              " 'loss': [3.067397356033325, 1.7711780071258545],\n",
              " 'val_accuracy': [0.2571428716182709, 0.22857142984867096],\n",
              " 'val_loss': [1.7482482194900513, 1.6267868280410767]}"
            ]
          },
          "metadata": {
            "tags": []
          },
          "execution_count": 24
        }
      ]
    },
    {
      "cell_type": "code",
      "metadata": {
        "colab": {
          "base_uri": "https://localhost:8080/"
        },
        "id": "bsaoeaAICZkw",
        "outputId": "7f9ef385-f268-4253-ffa3-4c3cf524ae06"
      },
      "source": [
        "from keras.callbacks import EarlyStopping,ReduceLROnPlateau, ModelCheckpoint\n",
        "from keras import optimizers\n",
        "from keras.callbacks import CSVLogger\n",
        "\n",
        "csv_logger = CSVLogger(\"drive/My Drive/Pattern Recognition/DR models/model_14_3_history_log.csv\", append=True)\n",
        "\n",
        "\n",
        "for layer in model.layers:\n",
        "    layer.trainable = True\n",
        "\n",
        "es = EarlyStopping(monitor='val_loss', mode='min', patience=ES_PATIENCE, restore_best_weights=True, verbose=1)\n",
        "rlrop = ReduceLROnPlateau(monitor='val_loss', mode='min', patience=RLROP_PATIENCE, factor=DECAY_DROP, min_lr=1e-6, verbose=1)\n",
        "\n",
        "# define the checkpoint\n",
        "filepath = \"drive/My Drive/Pattern Recognition/DR models/model_14_4.h5\"\n",
        "checkpoint = ModelCheckpoint(filepath, monitor='loss', verbose=1, save_best_only=True, mode='min')\n",
        "#callbacks_list = [checkpoint]\n",
        "\n",
        "callback_list = [es, rlrop, checkpoint, csv_logger]\n",
        "optimizer = optimizers.Adam(lr=LEARNING_RATE)\n",
        "model.compile(optimizer=optimizer, loss=\"categorical_crossentropy\",  metrics=['accuracy'])\n",
        "model.summary()\n",
        "\n",
        "\n",
        "\n"
      ],
      "execution_count": 43,
      "outputs": [
        {
          "output_type": "stream",
          "text": [
            "Model: \"model_19\"\n",
            "_________________________________________________________________\n",
            "Layer (type)                 Output Shape              Param #   \n",
            "=================================================================\n",
            "input_21 (InputLayer)        [(None, 632, 948, 3)]     0         \n",
            "_________________________________________________________________\n",
            "conv2d_87 (Conv2D)           (None, 628, 944, 16)      1216      \n",
            "_________________________________________________________________\n",
            "tf.nn.fractional_max_pool_82 FractionalMaxPool(output= 0         \n",
            "_________________________________________________________________\n",
            "conv2d_88 (Conv2D)           (None, 346, 522, 32)      4640      \n",
            "_________________________________________________________________\n",
            "tf.nn.fractional_max_pool_83 FractionalMaxPool(output= 0         \n",
            "_________________________________________________________________\n",
            "conv2d_89 (Conv2D)           (None, 190, 288, 64)      18496     \n",
            "_________________________________________________________________\n",
            "tf.nn.fractional_max_pool_84 FractionalMaxPool(output= 0         \n",
            "_________________________________________________________________\n",
            "conv2d_90 (Conv2D)           (None, 103, 158, 96)      55392     \n",
            "_________________________________________________________________\n",
            "tf.nn.fractional_max_pool_85 FractionalMaxPool(output= 0         \n",
            "_________________________________________________________________\n",
            "conv2d_91 (Conv2D)           (None, 55, 85, 128)       110720    \n",
            "_________________________________________________________________\n",
            "dropout_43 (Dropout)         (None, 55, 85, 128)       0         \n",
            "_________________________________________________________________\n",
            "tf.nn.fractional_max_pool_86 FractionalMaxPool(output= 0         \n",
            "_________________________________________________________________\n",
            "dropout_44 (Dropout)         (None, 30, 47, 128)       0         \n",
            "_________________________________________________________________\n",
            "flatten_19 (Flatten)         (None, 180480)            0         \n",
            "_________________________________________________________________\n",
            "final_output (Dense)         (None, 5)                 902405    \n",
            "=================================================================\n",
            "Total params: 1,092,869\n",
            "Trainable params: 1,092,869\n",
            "Non-trainable params: 0\n",
            "_________________________________________________________________\n"
          ],
          "name": "stdout"
        },
        {
          "output_type": "stream",
          "text": [
            "/usr/local/lib/python3.7/dist-packages/tensorflow/python/keras/optimizer_v2/optimizer_v2.py:375: UserWarning: The `lr` argument is deprecated, use `learning_rate` instead.\n",
            "  \"The `lr` argument is deprecated, use `learning_rate` instead.\")\n"
          ],
          "name": "stderr"
        }
      ]
    },
    {
      "cell_type": "markdown",
      "metadata": {
        "id": "2WasXONNyPPR"
      },
      "source": [
        "Class distribution in the balanced train generator:"
      ]
    },
    {
      "cell_type": "code",
      "metadata": {
        "colab": {
          "base_uri": "https://localhost:8080/",
          "height": 322
        },
        "id": "VJoGkxl63MkY",
        "outputId": "09e31198-26ce-4fd3-fd17-434d7bc1939a"
      },
      "source": [
        "import matplotlib.pyplot as plt\n",
        "\n",
        "x = train_generator.classes\n",
        "plt.hist(x, bins = 5)\n",
        "plt.show()"
      ],
      "execution_count": 20,
      "outputs": [
        {
          "output_type": "display_data",
          "data": {
            "image/png": "[encoded data removed]",
            "text/plain": [
              "<Figure size 720x360 with 1 Axes>"
            ]
          },
          "metadata": {
            "tags": []
          }
        }
      ]
    },
    {
      "cell_type": "markdown",
      "metadata": {
        "id": "3fSsi9fQRnUP"
      },
      "source": [
        "###Calculating class weights:"
      ]
    },
    {
      "cell_type": "code",
      "metadata": {
        "id": "eApTVQbY3XWR"
      },
      "source": [
        "zero_num = 0\n",
        "one_num = 0\n",
        "two_num = 0\n",
        "three_num = 0\n",
        "four_num = 0\n",
        "\n",
        "\n",
        "\n",
        "for cl in train_generator.classes:\n",
        "  if cl == 0:\n",
        "    zero_num += 1\n",
        "  if cl == 1:\n",
        "    one_num += 1\n",
        "  if cl == 2:\n",
        "    two_num += 1\n",
        "  if cl == 3:\n",
        "    three_num += 1\n",
        "  if cl == 4:\n",
        "    four_num += 1"
      ],
      "execution_count": 21,
      "outputs": []
    },
    {
      "cell_type": "code",
      "metadata": {
        "colab": {
          "base_uri": "https://localhost:8080/"
        },
        "id": "yy6vi1ym3Lho",
        "outputId": "3dc305ee-1a16-4852-e0b6-85917a38fbec"
      },
      "source": [
        "# Scaling by total/2 helps keep the loss to a similar magnitude.\n",
        "# The sum of the weights of all examples stays the same.\n",
        "\n",
        "total = zero_num + one_num +  two_num + three_num + four_num\n",
        "weight_for_0 = (1 / zero_num)*(total)/2.0 \n",
        "weight_for_1 = (1 / one_num)*(total)/2.0\n",
        "weight_for_2 = (1 / two_num)*(total)/2.0 \n",
        "weight_for_3 = (1 / three_num)*(total)/2.0\n",
        "weight_for_4 = (1 / four_num)*(total)/2.0\n",
        "\n",
        "\n",
        "class_weight = {0: weight_for_0, 1: weight_for_1, 2: weight_for_2, 3: weight_for_3, 4: weight_for_4}\n",
        "\n",
        "print('Weight for class 0: {:.2f}'.format(weight_for_0))\n",
        "print('Weight for class 1: {:.2f}'.format(weight_for_1))\n",
        "print('Weight for class 2: {:.2f}'.format(weight_for_2))\n",
        "print('Weight for class 3: {:.2f}'.format(weight_for_3))\n",
        "print('Weight for class 4: {:.2f}'.format(weight_for_4))\n"
      ],
      "execution_count": 22,
      "outputs": [
        {
          "output_type": "stream",
          "text": [
            "Weight for class 0: 2.58\n",
            "Weight for class 1: 2.57\n",
            "Weight for class 2: 2.46\n",
            "Weight for class 3: 2.24\n",
            "Weight for class 4: 2.70\n"
          ],
          "name": "stdout"
        }
      ]
    },
    {
      "cell_type": "markdown",
      "metadata": {
        "id": "oLFjjkDyya-5"
      },
      "source": [
        "## Training and testing the best model"
      ]
    },
    {
      "cell_type": "markdown",
      "metadata": {
        "id": "l7S6o4VTbhCR"
      },
      "source": [
        "FMP = 1.8"
      ]
    },
    {
      "cell_type": "code",
      "metadata": {
        "colab": {
          "base_uri": "https://localhost:8080/"
        },
        "id": "a-DFkLWkzK9i",
        "outputId": "d09fea1a-f982-420d-f297-46529eaa64ec"
      },
      "source": [
        "history_finetunning = model.fit_generator(generator=train_generator,\n",
        "                                          steps_per_epoch=25,\n",
        "                                          validation_data=valid_generator,\n",
        "                                          validation_steps=20,\n",
        "                                          epochs=30,\n",
        "                                          callbacks=callback_list,\n",
        "                                          class_weight = class_weight,\n",
        "                                          verbose=1).history\n",
        "\n",
        "model.save(\"drive/My Drive/Pattern Recognition/DR models/model_14.h5\")"
      ],
      "execution_count": null,
      "outputs": [
        {
          "output_type": "stream",
          "text": [
            "/usr/local/lib/python3.7/dist-packages/keras/engine/training.py:1915: UserWarning: `Model.fit_generator` is deprecated and will be removed in a future version. Please use `Model.fit`, which supports generators.\n",
            "  warnings.warn('`Model.fit_generator` is deprecated and '\n"
          ],
          "name": "stderr"
        },
        {
          "output_type": "stream",
          "text": [
            "Epoch 1/30\n",
            "25/25 [==============================] - 576s 23s/step - loss: 4.0387 - accuracy: 0.2160 - val_loss: 1.6133 - val_accuracy: 0.2025\n",
            "\n",
            "Epoch 00001: loss improved from inf to 4.03873, saving model to drive/My Drive/Pattern Recognition/DR models/model_14_1.h5\n",
            "Epoch 2/30\n",
            "25/25 [==============================] - 573s 23s/step - loss: 4.0212 - accuracy: 0.2060 - val_loss: 1.6040 - val_accuracy: 0.2150\n",
            "\n",
            "Epoch 00002: loss improved from 4.03873 to 4.02117, saving model to drive/My Drive/Pattern Recognition/DR models/model_14_1.h5\n",
            "Epoch 3/30\n",
            "25/25 [==============================] - 575s 23s/step - loss: 3.9839 - accuracy: 0.2200 - val_loss: 1.5900 - val_accuracy: 0.2275\n",
            "\n",
            "Epoch 00003: loss improved from 4.02117 to 3.98390, saving model to drive/My Drive/Pattern Recognition/DR models/model_14_1.h5\n",
            "Epoch 4/30\n",
            "25/25 [==============================] - 574s 23s/step - loss: 4.0105 - accuracy: 0.2020 - val_loss: 1.5680 - val_accuracy: 0.2750\n",
            "\n",
            "Epoch 00004: loss did not improve from 3.98390\n",
            "Epoch 5/30\n",
            "25/25 [==============================] - 573s 23s/step - loss: 3.9124 - accuracy: 0.2760 - val_loss: 1.5482 - val_accuracy: 0.3150\n",
            "\n",
            "Epoch 00005: loss improved from 3.98390 to 3.91244, saving model to drive/My Drive/Pattern Recognition/DR models/model_14_1.h5\n",
            "Epoch 6/30\n",
            "25/25 [==============================] - 573s 23s/step - loss: 3.8589 - accuracy: 0.2760 - val_loss: 1.5390 - val_accuracy: 0.2650\n",
            "\n",
            "Epoch 00006: loss improved from 3.91244 to 3.85886, saving model to drive/My Drive/Pattern Recognition/DR models/model_14_1.h5\n",
            "Epoch 7/30\n",
            "25/25 [==============================] - 573s 23s/step - loss: 3.7736 - accuracy: 0.2980 - val_loss: 1.5205 - val_accuracy: 0.3325\n",
            "\n",
            "Epoch 00007: loss improved from 3.85886 to 3.77359, saving model to drive/My Drive/Pattern Recognition/DR models/model_14_1.h5\n",
            "Epoch 8/30\n",
            "25/25 [==============================] - 572s 23s/step - loss: 3.7938 - accuracy: 0.2900 - val_loss: 1.4796 - val_accuracy: 0.3425\n",
            "\n",
            "Epoch 00008: loss did not improve from 3.77359\n",
            "Epoch 9/30\n",
            "25/25 [==============================] - 566s 23s/step - loss: 3.7114 - accuracy: 0.3415 - val_loss: 1.5282 - val_accuracy: 0.3450\n",
            "\n",
            "Epoch 00009: loss improved from 3.77359 to 3.71142, saving model to drive/My Drive/Pattern Recognition/DR models/model_14_1.h5\n",
            "Epoch 10/30\n",
            "25/25 [==============================] - 573s 23s/step - loss: 3.6265 - accuracy: 0.3560 - val_loss: 1.4534 - val_accuracy: 0.3800\n",
            "\n",
            "Epoch 00010: loss improved from 3.71142 to 3.62653, saving model to drive/My Drive/Pattern Recognition/DR models/model_14_1.h5\n",
            "Epoch 11/30\n",
            "25/25 [==============================] - 572s 23s/step - loss: 3.6050 - accuracy: 0.3960 - val_loss: 1.4569 - val_accuracy: 0.3850\n",
            "\n",
            "Epoch 00011: loss improved from 3.62653 to 3.60499, saving model to drive/My Drive/Pattern Recognition/DR models/model_14_1.h5\n",
            "Epoch 12/30\n",
            "25/25 [==============================] - 573s 23s/step - loss: 3.6227 - accuracy: 0.3640 - val_loss: 1.4847 - val_accuracy: 0.3450\n",
            "\n",
            "Epoch 00012: loss did not improve from 3.60499\n",
            "Epoch 13/30\n",
            "25/25 [==============================] - 572s 23s/step - loss: 3.6378 - accuracy: 0.3420 - val_loss: 1.4100 - val_accuracy: 0.3925\n",
            "\n",
            "Epoch 00013: loss did not improve from 3.60499\n",
            "Epoch 14/30\n",
            "25/25 [==============================] - 572s 23s/step - loss: 3.5192 - accuracy: 0.3980 - val_loss: 1.4119 - val_accuracy: 0.4075\n",
            "\n",
            "Epoch 00014: loss improved from 3.60499 to 3.51924, saving model to drive/My Drive/Pattern Recognition/DR models/model_14_1.h5\n",
            "Epoch 15/30\n",
            "25/25 [==============================] - 568s 23s/step - loss: 3.6046 - accuracy: 0.3760 - val_loss: 1.4045 - val_accuracy: 0.3900\n",
            "\n",
            "Epoch 00015: loss did not improve from 3.51924\n",
            "Epoch 16/30\n",
            "25/25 [==============================] - 567s 23s/step - loss: 3.4666 - accuracy: 0.3980 - val_loss: 1.3828 - val_accuracy: 0.4150\n",
            "\n",
            "Epoch 00016: loss improved from 3.51924 to 3.46657, saving model to drive/My Drive/Pattern Recognition/DR models/model_14_1.h5\n",
            "Epoch 17/30\n",
            "17/25 [===================>..........] - ETA: 2:32 - loss: 3.3619 - accuracy: 0.4235"
          ],
          "name": "stdout"
        }
      ]
    },
    {
      "cell_type": "code",
      "metadata": {
        "colab": {
          "base_uri": "https://localhost:8080/"
        },
        "id": "PS8qxjtTgISG",
        "outputId": "f716bef4-cd34-4a70-e1b0-1d0a353457ec"
      },
      "source": [
        "history_finetunning = model.fit_generator(generator=train_generator,\n",
        "                                          steps_per_epoch=25,\n",
        "                                          validation_data=valid_generator,\n",
        "                                          validation_steps=20,\n",
        "                                          epochs=30,\n",
        "                                          callbacks=callback_list,\n",
        "                                          class_weight = class_weight,\n",
        "                                          verbose=1).history\n",
        "\n",
        "model.save(\"drive/My Drive/Pattern Recognition/DR models/model_14.h5\")"
      ],
      "execution_count": null,
      "outputs": [
        {
          "output_type": "stream",
          "text": [
            "/usr/local/lib/python3.7/dist-packages/keras/engine/training.py:1915: UserWarning: `Model.fit_generator` is deprecated and will be removed in a future version. Please use `Model.fit`, which supports generators.\n",
            "  warnings.warn('`Model.fit_generator` is deprecated and '\n"
          ],
          "name": "stderr"
        },
        {
          "output_type": "stream",
          "text": [
            "WARNING:tensorflow:From /usr/local/lib/python3.7/dist-packages/tensorflow/python/ops/array_ops.py:5049: calling gather (from tensorflow.python.ops.array_ops) with validate_indices is deprecated and will be removed in a future version.\n",
            "Instructions for updating:\n",
            "The `validate_indices` argument has no effect. Indices are always validated on CPU and never validated on GPU.\n",
            "Epoch 1/30\n",
            "25/25 [==============================] - 1446s 57s/step - loss: 3.4839 - accuracy: 0.3952 - val_loss: 1.3492 - val_accuracy: 0.4120\n",
            "\n",
            "Epoch 00001: loss improved from inf to 3.44002, saving model to drive/My Drive/Pattern Recognition/DR models/model_14_2.h5\n",
            "Epoch 2/30\n",
            "25/25 [==============================] - 1385s 55s/step - loss: 3.3535 - accuracy: 0.4247 - val_loss: 1.3381 - val_accuracy: 0.4370\n",
            "\n",
            "Epoch 00002: loss improved from 3.44002 to 3.31382, saving model to drive/My Drive/Pattern Recognition/DR models/model_14_2.h5\n",
            "Epoch 3/30\n",
            "25/25 [==============================] - 1377s 55s/step - loss: 3.2687 - accuracy: 0.4413 - val_loss: 1.3148 - val_accuracy: 0.4090\n",
            "\n",
            "Epoch 00003: loss improved from 3.31382 to 3.22443, saving model to drive/My Drive/Pattern Recognition/DR models/model_14_2.h5\n",
            "Epoch 4/30\n",
            "25/25 [==============================] - 1371s 55s/step - loss: 3.1664 - accuracy: 0.4487 - val_loss: 1.2490 - val_accuracy: 0.4650\n",
            "\n",
            "Epoch 00004: loss improved from 3.22443 to 3.21424, saving model to drive/My Drive/Pattern Recognition/DR models/model_14_2.h5\n",
            "Epoch 5/30\n",
            "25/25 [==============================] - 1367s 55s/step - loss: 3.1506 - accuracy: 0.4609 - val_loss: 1.2144 - val_accuracy: 0.4800\n",
            "\n",
            "Epoch 00005: loss improved from 3.21424 to 3.10804, saving model to drive/My Drive/Pattern Recognition/DR models/model_14_2.h5\n",
            "Epoch 6/30\n",
            "25/25 [==============================] - 1370s 55s/step - loss: 3.0520 - accuracy: 0.4963 - val_loss: 1.2006 - val_accuracy: 0.5190\n",
            "\n",
            "Epoch 00006: loss improved from 3.10804 to 3.04131, saving model to drive/My Drive/Pattern Recognition/DR models/model_14_2.h5\n",
            "Epoch 7/30\n",
            "25/25 [==============================] - 1371s 55s/step - loss: 2.9672 - accuracy: 0.5194 - val_loss: 1.1632 - val_accuracy: 0.5080\n",
            "\n",
            "Epoch 00007: loss improved from 3.04131 to 2.89996, saving model to drive/My Drive/Pattern Recognition/DR models/model_14_2.h5\n",
            "Epoch 8/30\n",
            "25/25 [==============================] - 1407s 57s/step - loss: 2.8662 - accuracy: 0.5331 - val_loss: 1.1687 - val_accuracy: 0.5330\n",
            "\n",
            "Epoch 00008: loss improved from 2.89996 to 2.84151, saving model to drive/My Drive/Pattern Recognition/DR models/model_14_2.h5\n",
            "Epoch 9/30\n",
            "25/25 [==============================] - 1363s 55s/step - loss: 2.7917 - accuracy: 0.5488 - val_loss: 1.1077 - val_accuracy: 0.5480\n",
            "\n",
            "Epoch 00009: loss improved from 2.84151 to 2.81994, saving model to drive/My Drive/Pattern Recognition/DR models/model_14_2.h5\n",
            "Epoch 10/30\n",
            "25/25 [==============================] - 1365s 55s/step - loss: 2.7096 - accuracy: 0.5684 - val_loss: 1.1790 - val_accuracy: 0.4990\n",
            "\n",
            "Epoch 00010: loss improved from 2.81994 to 2.73192, saving model to drive/My Drive/Pattern Recognition/DR models/model_14_2.h5\n",
            "Epoch 11/30\n",
            "25/25 [==============================] - 1369s 55s/step - loss: 2.7085 - accuracy: 0.5448 - val_loss: 1.0078 - val_accuracy: 0.6030\n",
            "\n",
            "Epoch 00011: loss improved from 2.73192 to 2.58104, saving model to drive/My Drive/Pattern Recognition/DR models/model_14_2.h5\n",
            "Epoch 12/30\n",
            "21/25 [========================>.....] - ETA: 3:02 - loss: 2.5864 - accuracy: 0.5932"
          ],
          "name": "stdout"
        }
      ]
    },
    {
      "cell_type": "code",
      "metadata": {
        "colab": {
          "base_uri": "https://localhost:8080/"
        },
        "id": "NdoQ2D_ux1dN",
        "outputId": "dc389de6-edda-424f-f556-4a1996bde51c"
      },
      "source": [
        "history_finetunning = model.fit_generator(generator=train_generator,\n",
        "                                          steps_per_epoch=25,\n",
        "                                          validation_data=valid_generator,\n",
        "                                          validation_steps=20,\n",
        "                                          epochs=30,\n",
        "                                          callbacks=callback_list,\n",
        "                                          class_weight = class_weight,\n",
        "                                          verbose=1).history\n",
        "\n",
        "model.save(\"drive/My Drive/Pattern Recognition/DR models/model_14.h5\")"
      ],
      "execution_count": null,
      "outputs": [
        {
          "output_type": "stream",
          "text": [
            "/usr/local/lib/python3.7/dist-packages/keras/engine/training.py:1915: UserWarning: `Model.fit_generator` is deprecated and will be removed in a future version. Please use `Model.fit`, which supports generators.\n",
            "  warnings.warn('`Model.fit_generator` is deprecated and '\n"
          ],
          "name": "stderr"
        },
        {
          "output_type": "stream",
          "text": [
            "Epoch 1/30\n",
            "25/25 [==============================] - 1584s 63s/step - loss: 2.3410 - accuracy: 0.6120 - val_loss: 0.9633 - val_accuracy: 0.6170\n",
            "\n",
            "Epoch 00001: loss improved from inf to 2.34104, saving model to drive/My Drive/Pattern Recognition/DR models/model_14_3.h5\n",
            "Epoch 2/30\n",
            "25/25 [==============================] - 1571s 63s/step - loss: 2.2248 - accuracy: 0.6408 - val_loss: 1.0214 - val_accuracy: 0.5820\n",
            "\n",
            "Epoch 00002: loss improved from 2.34104 to 2.22484, saving model to drive/My Drive/Pattern Recognition/DR models/model_14_3.h5\n",
            "Epoch 3/30\n",
            "25/25 [==============================] - 1622s 65s/step - loss: 2.3098 - accuracy: 0.6368 - val_loss: 0.8514 - val_accuracy: 0.6610\n",
            "\n",
            "Epoch 00003: loss did not improve from 2.22484\n",
            "Epoch 4/30\n",
            "25/25 [==============================] - 1634s 66s/step - loss: 2.1471 - accuracy: 0.6624 - val_loss: 0.8162 - val_accuracy: 0.6750\n",
            "\n",
            "Epoch 00004: loss improved from 2.22484 to 2.14706, saving model to drive/My Drive/Pattern Recognition/DR models/model_14_3.h5\n",
            "Epoch 5/30\n",
            "25/25 [==============================] - 1575s 63s/step - loss: 2.0610 - accuracy: 0.6808 - val_loss: 0.8758 - val_accuracy: 0.6550\n",
            "\n",
            "Epoch 00005: loss improved from 2.14706 to 2.06104, saving model to drive/My Drive/Pattern Recognition/DR models/model_14_3.h5\n",
            "Epoch 6/30\n",
            "25/25 [==============================] - 1623s 65s/step - loss: 2.0722 - accuracy: 0.6768 - val_loss: 0.7872 - val_accuracy: 0.7020\n",
            "\n",
            "Epoch 00006: loss did not improve from 2.06104\n",
            "Epoch 7/30\n",
            "25/25 [==============================] - 1576s 63s/step - loss: 1.9274 - accuracy: 0.7016 - val_loss: 0.7854 - val_accuracy: 0.6950\n",
            "\n",
            "Epoch 00007: loss improved from 2.06104 to 1.92737, saving model to drive/My Drive/Pattern Recognition/DR models/model_14_3.h5\n",
            "Epoch 8/30\n",
            "25/25 [==============================] - 1648s 66s/step - loss: 1.8516 - accuracy: 0.6960 - val_loss: 0.7561 - val_accuracy: 0.7050\n",
            "\n",
            "Epoch 00008: loss improved from 1.92737 to 1.85160, saving model to drive/My Drive/Pattern Recognition/DR models/model_14_3.h5\n",
            "Epoch 9/30\n",
            "25/25 [==============================] - 1587s 64s/step - loss: 1.7654 - accuracy: 0.7472 - val_loss: 0.8024 - val_accuracy: 0.6790\n",
            "\n",
            "Epoch 00009: loss improved from 1.85160 to 1.76545, saving model to drive/My Drive/Pattern Recognition/DR models/model_14_3.h5\n",
            "Epoch 10/30\n",
            "25/25 [==============================] - 1572s 63s/step - loss: 1.7685 - accuracy: 0.7264 - val_loss: 0.7338 - val_accuracy: 0.7090\n",
            "\n",
            "Epoch 00010: loss did not improve from 1.76545\n",
            "Epoch 11/30\n",
            "25/25 [==============================] - 1652s 66s/step - loss: 1.6604 - accuracy: 0.7424 - val_loss: 0.7689 - val_accuracy: 0.6870\n",
            "\n",
            "Epoch 00011: loss improved from 1.76545 to 1.66037, saving model to drive/My Drive/Pattern Recognition/DR models/model_14_3.h5\n",
            "Epoch 12/30\n",
            "25/25 [==============================] - 1630s 66s/step - loss: 1.7653 - accuracy: 0.7312 - val_loss: 0.7589 - val_accuracy: 0.7130\n",
            "\n",
            "Epoch 00012: loss did not improve from 1.66037\n",
            "Epoch 13/30\n",
            "25/25 [==============================] - 1576s 63s/step - loss: 1.7304 - accuracy: 0.7256 - val_loss: 0.6660 - val_accuracy: 0.7590\n",
            "\n",
            "Epoch 00013: loss did not improve from 1.66037\n",
            "Epoch 14/30\n",
            "25/25 [==============================] - 1577s 63s/step - loss: 1.7609 - accuracy: 0.7232 - val_loss: 0.6774 - val_accuracy: 0.7340\n",
            "\n",
            "Epoch 00014: loss did not improve from 1.66037\n",
            "Epoch 15/30\n",
            "25/25 [==============================] - 1619s 65s/step - loss: 1.5413 - accuracy: 0.7551 - val_loss: 0.6297 - val_accuracy: 0.7510\n",
            "\n",
            "Epoch 00015: loss improved from 1.66037 to 1.54126, saving model to drive/My Drive/Pattern Recognition/DR models/model_14_3.h5\n",
            "Epoch 16/30\n",
            "25/25 [==============================] - 1578s 63s/step - loss: 1.4863 - accuracy: 0.7672 - val_loss: 0.6350 - val_accuracy: 0.7610\n",
            "\n",
            "Epoch 00016: loss improved from 1.54126 to 1.48630, saving model to drive/My Drive/Pattern Recognition/DR models/model_14_3.h5\n",
            "Epoch 17/30\n",
            "25/25 [==============================] - 1640s 66s/step - loss: 1.4838 - accuracy: 0.7688 - val_loss: 0.6347 - val_accuracy: 0.7510\n",
            "\n",
            "Epoch 00017: loss improved from 1.48630 to 1.48380, saving model to drive/My Drive/Pattern Recognition/DR models/model_14_3.h5\n",
            "Epoch 18/30\n",
            "25/25 [==============================] - 1649s 66s/step - loss: 1.5379 - accuracy: 0.7720 - val_loss: 0.6780 - val_accuracy: 0.7560\n",
            "\n",
            "Epoch 00018: ReduceLROnPlateau reducing learning rate to 4.999999873689376e-05.\n",
            "\n",
            "Epoch 00018: loss did not improve from 1.48380\n",
            "Epoch 19/30\n",
            "25/25 [==============================] - 1590s 64s/step - loss: 1.2774 - accuracy: 0.8088 - val_loss: 0.5536 - val_accuracy: 0.8120\n",
            "\n",
            "Epoch 00019: loss improved from 1.48380 to 1.27736, saving model to drive/My Drive/Pattern Recognition/DR models/model_14_3.h5\n",
            "Epoch 20/30\n",
            "25/25 [==============================] - 1629s 66s/step - loss: 1.2614 - accuracy: 0.8176 - val_loss: 0.5976 - val_accuracy: 0.7890\n",
            "\n",
            "Epoch 00020: loss improved from 1.27736 to 1.26139, saving model to drive/My Drive/Pattern Recognition/DR models/model_14_3.h5\n",
            "Epoch 21/30\n",
            "25/25 [==============================] - 1583s 64s/step - loss: 1.3512 - accuracy: 0.7888 - val_loss: 0.5846 - val_accuracy: 0.7850\n",
            "\n",
            "Epoch 00021: loss did not improve from 1.26139\n",
            "Epoch 22/30\n",
            "25/25 [==============================] - 1591s 64s/step - loss: 1.3684 - accuracy: 0.7872 - val_loss: 0.5904 - val_accuracy: 0.7890\n",
            "\n",
            "Epoch 00022: ReduceLROnPlateau reducing learning rate to 2.499999936844688e-05.\n",
            "\n",
            "Epoch 00022: loss did not improve from 1.26139\n",
            "Epoch 23/30\n",
            "25/25 [==============================] - 1573s 63s/step - loss: 1.3536 - accuracy: 0.8024 - val_loss: 0.5532 - val_accuracy: 0.7940\n",
            "\n",
            "Epoch 00023: loss did not improve from 1.26139\n",
            "Epoch 24/30\n",
            "11/25 [============>.................] - ETA: 12:26 - loss: 1.3500 - accuracy: 0.8091"
          ],
          "name": "stdout"
        }
      ]
    },
    {
      "cell_type": "code",
      "metadata": {
        "colab": {
          "base_uri": "https://localhost:8080/"
        },
        "id": "K-WnGFbjJQrg",
        "outputId": "77d42b56-2c0f-460f-ceac-257eadfbc272"
      },
      "source": [
        "history_finetunning = model.fit_generator(generator=train_generator,\n",
        "                                          steps_per_epoch=25,\n",
        "                                          validation_data=valid_generator,\n",
        "                                          validation_steps=20,\n",
        "                                          epochs=30,\n",
        "                                          callbacks=callback_list,\n",
        "                                          class_weight = class_weight,\n",
        "                                          verbose=1).history\n",
        "\n",
        "model.save(\"drive/My Drive/Pattern Recognition/DR models/model_14.h5\")"
      ],
      "execution_count": 44,
      "outputs": [
        {
          "output_type": "stream",
          "text": [
            "/usr/local/lib/python3.7/dist-packages/keras/engine/training.py:1915: UserWarning: `Model.fit_generator` is deprecated and will be removed in a future version. Please use `Model.fit`, which supports generators.\n",
            "  warnings.warn('`Model.fit_generator` is deprecated and '\n"
          ],
          "name": "stderr"
        },
        {
          "output_type": "stream",
          "text": [
            "Epoch 1/30\n",
            "25/25 [==============================] - 1578s 63s/step - loss: 1.6662 - accuracy: 0.7368 - val_loss: 0.5813 - val_accuracy: 0.7760\n",
            "\n",
            "Epoch 00001: loss improved from inf to 1.64264, saving model to drive/My Drive/Pattern Recognition/DR models/model_14_4.h5\n",
            "Epoch 2/30\n",
            "25/25 [==============================] - 1623s 65s/step - loss: 1.5422 - accuracy: 0.7466 - val_loss: 0.6791 - val_accuracy: 0.7510\n",
            "\n",
            "Epoch 00002: loss improved from 1.64264 to 1.58382, saving model to drive/My Drive/Pattern Recognition/DR models/model_14_4.h5\n",
            "Epoch 3/30\n",
            "25/25 [==============================] - 1566s 63s/step - loss: 1.4089 - accuracy: 0.7815 - val_loss: 0.6024 - val_accuracy: 0.7570\n",
            "\n",
            "Epoch 00003: loss improved from 1.58382 to 1.46092, saving model to drive/My Drive/Pattern Recognition/DR models/model_14_4.h5\n",
            "Epoch 4/30\n",
            "25/25 [==============================] - 1687s 68s/step - loss: 1.6546 - accuracy: 0.7442 - val_loss: 0.6769 - val_accuracy: 0.7120\n",
            "\n",
            "Epoch 00004: ReduceLROnPlateau reducing learning rate to 4.999999873689376e-05.\n",
            "\n",
            "Epoch 00004: loss did not improve from 1.46092\n",
            "Epoch 5/30\n",
            "25/25 [==============================] - 1718s 69s/step - loss: 1.6753 - accuracy: 0.7291 - val_loss: 0.6094 - val_accuracy: 0.7570\n",
            "\n",
            "Epoch 00005: loss did not improve from 1.46092\n",
            "Epoch 6/30\n",
            "25/25 [==============================] - 1735s 70s/step - loss: 1.4437 - accuracy: 0.7794 - val_loss: 0.5009 - val_accuracy: 0.8100\n",
            "\n",
            "Epoch 00006: loss improved from 1.46092 to 1.41894, saving model to drive/My Drive/Pattern Recognition/DR models/model_14_4.h5\n",
            "Epoch 7/30\n",
            "25/25 [==============================] - 1618s 65s/step - loss: 1.3935 - accuracy: 0.8157 - val_loss: 0.5466 - val_accuracy: 0.7960\n",
            "\n",
            "Epoch 00007: loss improved from 1.41894 to 1.35139, saving model to drive/My Drive/Pattern Recognition/DR models/model_14_4.h5\n",
            "Epoch 8/30\n",
            "25/25 [==============================] - 1667s 67s/step - loss: 1.3185 - accuracy: 0.7917 - val_loss: 0.5428 - val_accuracy: 0.7830\n",
            "\n",
            "Epoch 00008: loss improved from 1.35139 to 1.28011, saving model to drive/My Drive/Pattern Recognition/DR models/model_14_4.h5\n",
            "Epoch 9/30\n",
            "25/25 [==============================] - 1724s 69s/step - loss: 1.3376 - accuracy: 0.8065 - val_loss: 0.5845 - val_accuracy: 0.7550\n",
            "\n",
            "Epoch 00009: ReduceLROnPlateau reducing learning rate to 2.499999936844688e-05.\n",
            "\n",
            "Epoch 00009: loss did not improve from 1.28011\n",
            "Epoch 10/30\n",
            "25/25 [==============================] - 1698s 68s/step - loss: 1.3508 - accuracy: 0.7932 - val_loss: 0.5380 - val_accuracy: 0.8000\n",
            "\n",
            "Epoch 00010: loss improved from 1.28011 to 1.27854, saving model to drive/My Drive/Pattern Recognition/DR models/model_14_4.h5\n",
            "Epoch 11/30\n",
            "25/25 [==============================] - 1753s 71s/step - loss: 1.0952 - accuracy: 0.8362 - val_loss: 0.5290 - val_accuracy: 0.8090\n",
            "Restoring model weights from the end of the best epoch.\n",
            "\n",
            "Epoch 00011: loss improved from 1.27854 to 1.07382, saving model to drive/My Drive/Pattern Recognition/DR models/model_14_4.h5\n",
            "Epoch 00011: early stopping\n"
          ],
          "name": "stdout"
        }
      ]
    },
    {
      "cell_type": "code",
      "metadata": {
        "id": "Zd4rVuk8eu0l"
      },
      "source": [
        "from keras.models import load_model\n",
        "\n",
        "model = load_model(\"drive/My Drive/Pattern Recognition/DR models/model_14.h5\")"
      ],
      "execution_count": 23,
      "outputs": []
    },
    {
      "cell_type": "code",
      "metadata": {
        "id": "pn3n0oMXKBaS"
      },
      "source": [
        "predictions = model.predict(test_generator)"
      ],
      "execution_count": 24,
      "outputs": []
    },
    {
      "cell_type": "code",
      "metadata": {
        "colab": {
          "base_uri": "https://localhost:8080/"
        },
        "id": "23OEQFr3KBaS",
        "outputId": "16aac7c5-9565-46bc-aadf-42976a7007d7"
      },
      "source": [
        "# model 14_3\n",
        "import numpy as np\n",
        "from sklearn.metrics import precision_recall_fscore_support, classification_report\n",
        "\n",
        "preds_classes = np.argmax(predictions, axis=-1)\n",
        "\n",
        "y_true = test_generator.classes\n",
        "y_pred = preds_classes\n",
        "\n",
        "print(precision_recall_fscore_support(y_true, y_pred, average='macro'))\n",
        "print(precision_recall_fscore_support(y_true, y_pred, average='micro'))\n",
        "print(precision_recall_fscore_support(y_true, y_pred, average='weighted'))\n",
        "print(classification_report(y_true, y_pred))"
      ],
      "execution_count": 17,
      "outputs": [
        {
          "output_type": "stream",
          "text": [
            "(0.20819314371371372, 0.21349532931983672, 0.1922382747569619, None)\n",
            "(0.45607701564380265, 0.45607701564380265, 0.45607701564380265, None)\n",
            "(0.6443296670710261, 0.4560770156438026, 0.5221874145094481, None)\n",
            "              precision    recall  f1-score   support\n",
            "\n",
            "           0       0.80      0.52      0.63       644\n",
            "           1       0.05      0.11      0.07        57\n",
            "           2       0.17      0.35      0.23       113\n",
            "           3       0.00      0.00      0.00         7\n",
            "           4       0.02      0.10      0.04        10\n",
            "\n",
            "    accuracy                           0.46       831\n",
            "   macro avg       0.21      0.21      0.19       831\n",
            "weighted avg       0.64      0.46      0.52       831\n",
            "\n"
          ],
          "name": "stdout"
        }
      ]
    },
    {
      "cell_type": "code",
      "metadata": {
        "id": "A82TwPswdTGL"
      },
      "source": [
        "predictions = model.predict(test_generator)"
      ],
      "execution_count": null,
      "outputs": []
    },
    {
      "cell_type": "code",
      "metadata": {
        "colab": {
          "base_uri": "https://localhost:8080/"
        },
        "id": "9yKEXcE2dTGY",
        "outputId": "94e8fe59-bfd8-4e20-bc3d-210fc4381250"
      },
      "source": [
        "# model 14\n",
        "import numpy as np\n",
        "from sklearn.metrics import precision_recall_fscore_support, classification_report\n",
        "\n",
        "preds_classes = np.argmax(predictions, axis=-1)\n",
        "\n",
        "y_true = test_generator.classes\n",
        "y_pred = preds_classes\n",
        "\n",
        "print(precision_recall_fscore_support(y_true, y_pred, average='macro'))\n",
        "print(precision_recall_fscore_support(y_true, y_pred, average='micro'))\n",
        "print(precision_recall_fscore_support(y_true, y_pred, average='weighted'))\n",
        "print(classification_report(y_true, y_pred))"
      ],
      "execution_count": null,
      "outputs": [
        {
          "output_type": "stream",
          "text": [
            "(0.20983774065172386, 0.211884000111861, 0.20184822350670206, None)\n",
            "(0.5222623345367028, 0.5222623345367028, 0.5222623345367028, None)\n",
            "(0.6429340057709922, 0.5222623345367028, 0.5733956393658991, None)\n",
            "              precision    recall  f1-score   support\n",
            "\n",
            "           0       0.79      0.62      0.70       644\n",
            "           1       0.06      0.12      0.08        57\n",
            "           2       0.17      0.21      0.19       113\n",
            "           3       0.00      0.00      0.00         7\n",
            "           4       0.02      0.10      0.04        10\n",
            "\n",
            "    accuracy                           0.52       831\n",
            "   macro avg       0.21      0.21      0.20       831\n",
            "weighted avg       0.64      0.52      0.57       831\n",
            "\n"
          ],
          "name": "stdout"
        }
      ]
    },
    {
      "cell_type": "code",
      "metadata": {
        "colab": {
          "base_uri": "https://localhost:8080/",
          "height": 474
        },
        "id": "tlPPoyTNKURB",
        "outputId": "aedd3464-c010-424e-c60b-6382cb413701"
      },
      "source": [
        "from sklearn.metrics import confusion_matrix\n",
        "import pandas as pd\n",
        "\n",
        "labels = ['0 - No DR', '1 - Mild', '2 - Moderate', '3 - Severe', '4 - Proliferative DR']\n",
        "cnf_matrix = confusion_matrix(y_true, y_pred)\n",
        "cnf_matrix_norm = cnf_matrix.astype('float') / cnf_matrix.sum(axis=1)[:, np.newaxis]\n",
        "df_cm = pd.DataFrame(cnf_matrix_norm, index=labels, columns=labels)\n",
        "plt.figure(figsize=(16, 7))\n",
        "sns.heatmap(df_cm, annot=True, fmt='.2f', cmap=\"Blues\")\n",
        "plt.show()"
      ],
      "execution_count": 47,
      "outputs": [
        {
          "output_type": "display_data",
          "data": {
            "image/png": "[encoded data removed]",
            "text/plain": [
              "<Figure size 1152x504 with 2 Axes>"
            ]
          },
          "metadata": {
            "tags": []
          }
        }
      ]
    },
    {
      "cell_type": "code",
      "metadata": {
        "colab": {
          "base_uri": "https://localhost:8080/",
          "height": 476
        },
        "id": "61opuFhhAOUF",
        "outputId": "6a0581da-c075-4c56-aff1-9ae68b7f985c"
      },
      "source": [
        "from sklearn.metrics import confusion_matrix\n",
        "import pandas as pd\n",
        "\n",
        "labels = ['0 - No DR', '1 - Mild', '2 - Moderate', '3 - Severe', '4 - Proliferative DR']\n",
        "cnf_matrix = confusion_matrix(y_true, y_pred)\n",
        "cnf_matrix_norm = cnf_matrix.astype('float') / cnf_matrix.sum(axis=1)[:, np.newaxis]\n",
        "df_cm = pd.DataFrame(cnf_matrix_norm, index=labels, columns=labels)\n",
        "plt.figure(figsize=(16, 7))\n",
        "sns.heatmap(df_cm, annot=True, fmt='.2f', cmap=\"Blues\")\n",
        "plt.show()"
      ],
      "execution_count": 26,
      "outputs": [
        {
          "output_type": "display_data",
          "data": {
            "image/png": "[encoded data removed]",
            "text/plain": [
              "<Figure size 1152x504 with 2 Axes>"
            ]
          },
          "metadata": {
            "tags": []
          }
        }
      ]
    },
    {
      "cell_type": "markdown",
      "metadata": {
        "id": "lYdRePsfywpQ"
      },
      "source": [
        "### Analyzing the history of the best model"
      ]
    },
    {
      "cell_type": "code",
      "metadata": {
        "colab": {
          "base_uri": "https://localhost:8080/",
          "height": 417
        },
        "id": "WEknh3o4y1LG",
        "outputId": "4c17cc77-77aa-488d-a085-2113d57b27d0"
      },
      "source": [
        "import pandas as pd\n",
        "from functools import reduce\n",
        "\n",
        "df_history1 = pd.read_csv('drive/My Drive/Pattern Recognition/DR models/model_14_history_log.csv')\n",
        "df_history2 = pd.read_csv('drive/My Drive/Pattern Recognition/DR models/model_14_1_history_log.csv')\n",
        "df_history3 = pd.read_csv('drive/My Drive/Pattern Recognition/DR models/model_14_2_history_log.csv')\n",
        "df_history4 = pd.read_csv('drive/My Drive/Pattern Recognition/DR models/model_14_3_history_log.csv')\n",
        "\n",
        "data_frames = [df_history1, df_history2, df_history3, df_history4]\n",
        "df_merged = reduce(lambda  left,right: pd.merge(left,right, how='outer'), data_frames)\n",
        "df_merged"
      ],
      "execution_count": 1,
      "outputs": [
        {
          "output_type": "execute_result",
          "data": {
            "text/html": [
              "<div>\n",
              "<style scoped>\n",
              "    .dataframe tbody tr th:only-of-type {\n",
              "        vertical-align: middle;\n",
              "    }\n",
              "\n",
              "    .dataframe tbody tr th {\n",
              "        vertical-align: top;\n",
              "    }\n",
              "\n",
              "    .dataframe thead th {\n",
              "        text-align: right;\n",
              "    }\n",
              "</style>\n",
              "<table border=\"1\" class=\"dataframe\">\n",
              "  <thead>\n",
              "    <tr style=\"text-align: right;\">\n",
              "      <th></th>\n",
              "      <th>epoch</th>\n",
              "      <th>accuracy</th>\n",
              "      <th>loss</th>\n",
              "      <th>lr</th>\n",
              "      <th>val_accuracy</th>\n",
              "      <th>val_loss</th>\n",
              "    </tr>\n",
              "  </thead>\n",
              "  <tbody>\n",
              "    <tr>\n",
              "      <th>0</th>\n",
              "      <td>0</td>\n",
              "      <td>0.223577</td>\n",
              "      <td>4.058310</td>\n",
              "      <td>0.000100</td>\n",
              "      <td>0.185000</td>\n",
              "      <td>1.610960</td>\n",
              "    </tr>\n",
              "    <tr>\n",
              "      <th>1</th>\n",
              "      <td>1</td>\n",
              "      <td>0.208000</td>\n",
              "      <td>4.003336</td>\n",
              "      <td>0.000100</td>\n",
              "      <td>0.216667</td>\n",
              "      <td>1.598781</td>\n",
              "    </tr>\n",
              "    <tr>\n",
              "      <th>2</th>\n",
              "      <td>0</td>\n",
              "      <td>0.216000</td>\n",
              "      <td>4.038730</td>\n",
              "      <td>0.000100</td>\n",
              "      <td>0.202500</td>\n",
              "      <td>1.613306</td>\n",
              "    </tr>\n",
              "    <tr>\n",
              "      <th>3</th>\n",
              "      <td>1</td>\n",
              "      <td>0.206000</td>\n",
              "      <td>4.021168</td>\n",
              "      <td>0.000100</td>\n",
              "      <td>0.215000</td>\n",
              "      <td>1.604038</td>\n",
              "    </tr>\n",
              "    <tr>\n",
              "      <th>4</th>\n",
              "      <td>2</td>\n",
              "      <td>0.220000</td>\n",
              "      <td>3.983903</td>\n",
              "      <td>0.000100</td>\n",
              "      <td>0.227500</td>\n",
              "      <td>1.590017</td>\n",
              "    </tr>\n",
              "    <tr>\n",
              "      <th>...</th>\n",
              "      <td>...</td>\n",
              "      <td>...</td>\n",
              "      <td>...</td>\n",
              "      <td>...</td>\n",
              "      <td>...</td>\n",
              "      <td>...</td>\n",
              "    </tr>\n",
              "    <tr>\n",
              "      <th>61</th>\n",
              "      <td>6</td>\n",
              "      <td>0.810400</td>\n",
              "      <td>1.351391</td>\n",
              "      <td>0.000050</td>\n",
              "      <td>0.796000</td>\n",
              "      <td>0.546631</td>\n",
              "    </tr>\n",
              "    <tr>\n",
              "      <th>62</th>\n",
              "      <td>7</td>\n",
              "      <td>0.805600</td>\n",
              "      <td>1.280109</td>\n",
              "      <td>0.000050</td>\n",
              "      <td>0.783000</td>\n",
              "      <td>0.542817</td>\n",
              "    </tr>\n",
              "    <tr>\n",
              "      <th>63</th>\n",
              "      <td>8</td>\n",
              "      <td>0.814400</td>\n",
              "      <td>1.296692</td>\n",
              "      <td>0.000050</td>\n",
              "      <td>0.755000</td>\n",
              "      <td>0.584509</td>\n",
              "    </tr>\n",
              "    <tr>\n",
              "      <th>64</th>\n",
              "      <td>9</td>\n",
              "      <td>0.811200</td>\n",
              "      <td>1.278538</td>\n",
              "      <td>0.000025</td>\n",
              "      <td>0.800000</td>\n",
              "      <td>0.537990</td>\n",
              "    </tr>\n",
              "    <tr>\n",
              "      <th>65</th>\n",
              "      <td>10</td>\n",
              "      <td>0.836800</td>\n",
              "      <td>1.073824</td>\n",
              "      <td>0.000025</td>\n",
              "      <td>0.809000</td>\n",
              "      <td>0.529019</td>\n",
              "    </tr>\n",
              "  </tbody>\n",
              "</table>\n",
              "<p>66 rows × 6 columns</p>\n",
              "</div>"
            ],
            "text/plain": [
              "    epoch  accuracy      loss        lr  val_accuracy  val_loss\n",
              "0       0  0.223577  4.058310  0.000100      0.185000  1.610960\n",
              "1       1  0.208000  4.003336  0.000100      0.216667  1.598781\n",
              "2       0  0.216000  4.038730  0.000100      0.202500  1.613306\n",
              "3       1  0.206000  4.021168  0.000100      0.215000  1.604038\n",
              "4       2  0.220000  3.983903  0.000100      0.227500  1.590017\n",
              "..    ...       ...       ...       ...           ...       ...\n",
              "61      6  0.810400  1.351391  0.000050      0.796000  0.546631\n",
              "62      7  0.805600  1.280109  0.000050      0.783000  0.542817\n",
              "63      8  0.814400  1.296692  0.000050      0.755000  0.584509\n",
              "64      9  0.811200  1.278538  0.000025      0.800000  0.537990\n",
              "65     10  0.836800  1.073824  0.000025      0.809000  0.529019\n",
              "\n",
              "[66 rows x 6 columns]"
            ]
          },
          "metadata": {
            "tags": []
          },
          "execution_count": 1
        }
      ]
    },
    {
      "cell_type": "code",
      "metadata": {
        "id": "fCaIIqx605sw"
      },
      "source": [
        "accuracy_list =[]\n",
        "loss_list = []\n",
        "lr_list = []\n",
        "val_acc_list = []\n",
        "val_loss_list = []\n",
        "\n",
        "for idx, row in df_merged.iloc[:,1:2].iterrows():\n",
        "  accuracy_list.append(row[0])\n",
        "\n",
        "for idx, row in df_merged.iloc[:,2:3].iterrows():\n",
        "  loss_list.append(row[0])\n",
        "\n",
        "for idx, row in df_merged.iloc[:,3:4].iterrows():\n",
        "  lr_list.append(row[0])\n",
        "\n",
        "for idx, row in df_merged.iloc[:,4:5].iterrows():\n",
        "  val_acc_list.append(row[0])\n",
        "\n",
        "for idx, row in df_merged.iloc[:,5:6].iterrows():\n",
        "  val_loss_list.append(row[0])\n",
        "\n"
      ],
      "execution_count": 2,
      "outputs": []
    },
    {
      "cell_type": "code",
      "metadata": {
        "colab": {
          "base_uri": "https://localhost:8080/",
          "height": 345
        },
        "id": "JY5ose7b0nY8",
        "outputId": "3a8f2697-ce7a-4df6-d52d-8e525e297d11"
      },
      "source": [
        "# ref - https://stackoverflow.com/questions/29188757/matplotlib-specify-format-of-floats-for-tick-lables\n",
        "import matplotlib.pyplot as plt\n",
        "plt.style.use(['seaborn-bright', 'seaborn-whitegrid'])\n",
        "plt.figure(figsize=(8,5))\n",
        "\n",
        "plt.plot(accuracy_list)\n",
        "plt.plot(val_acc_list)\n",
        "plt.title('Model Accuracy')\n",
        "plt.ylabel('Accuracy')\n",
        "plt.xlabel('Epoch')\n",
        "plt.legend(['Train', 'Validation'], loc='upper left')\n",
        "plt.gca().ticklabel_format(axis='both', useOffset=False)\n",
        "plt.show()"
      ],
      "execution_count": 5,
      "outputs": [
        {
          "output_type": "display_data",
          "data": {
            "image/png": "[encoded data removed]",
            "text/plain": [
              "<Figure size 576x360 with 1 Axes>"
            ]
          },
          "metadata": {
            "tags": []
          }
        }
      ]
    },
    {
      "cell_type": "code",
      "metadata": {
        "colab": {
          "base_uri": "https://localhost:8080/",
          "height": 349
        },
        "id": "Go-HOslt2cAA",
        "outputId": "594a06d9-9029-46c5-fe23-73c85b3ddc95"
      },
      "source": [
        "# ref - https://stackoverflow.com/questions/29188757/matplotlib-specify-format-of-floats-for-tick-lables\n",
        "import matplotlib.pyplot as plt\n",
        "plt.style.use(['seaborn-bright', 'seaborn-whitegrid'])\n",
        "plt.figure(figsize=(8,5))\n",
        "\n",
        "plt.plot(loss_list)\n",
        "plt.plot(val_loss_list)\n",
        "plt.title('Model Loss')\n",
        "plt.ylabel('Loss')\n",
        "plt.xlabel('Epoch')\n",
        "plt.legend(['Train', 'Validation'], loc='upper left')\n",
        "plt.gca().ticklabel_format(axis='both', useOffset=False)\n",
        "plt.show()"
      ],
      "execution_count": 9,
      "outputs": [
        {
          "output_type": "display_data",
          "data": {
            "image/png": "[encoded data removed]",
            "text/plain": [
              "<Figure size 576x360 with 1 Axes>"
            ]
          },
          "metadata": {
            "tags": []
          }
        }
      ]
    },
    {
      "cell_type": "markdown",
      "metadata": {
        "id": "T_z1Um6Ay2rH"
      },
      "source": [
        "## Previous model experiments"
      ]
    },
    {
      "cell_type": "markdown",
      "metadata": {
        "id": "kqK9QSKMbvqB"
      },
      "source": [
        "Validation_steps = 20, start over with batch=20."
      ]
    },
    {
      "cell_type": "code",
      "metadata": {
        "colab": {
          "base_uri": "https://localhost:8080/"
        },
        "id": "emo1-LLXXU-q",
        "outputId": "9f70e440-433e-4c6b-fa1e-7b244228e199"
      },
      "source": [
        "history_finetunning = model.fit_generator(generator=train_generator,\n",
        "                                          steps_per_epoch=25,\n",
        "                                          validation_data=valid_generator,\n",
        "                                          validation_steps=20,\n",
        "                                          epochs=30,\n",
        "                                          callbacks=callback_list,\n",
        "                                          class_weight = class_weight,\n",
        "                                          verbose=1).history\n",
        "\n",
        "model.save(\"drive/My Drive/Pattern Recognition/DR models/model_10_final.h5\")"
      ],
      "execution_count": 21,
      "outputs": [
        {
          "output_type": "stream",
          "text": [
            "/usr/local/lib/python3.7/dist-packages/keras/engine/training.py:1915: UserWarning: `Model.fit_generator` is deprecated and will be removed in a future version. Please use `Model.fit`, which supports generators.\n",
            "  warnings.warn('`Model.fit_generator` is deprecated and '\n"
          ],
          "name": "stderr"
        },
        {
          "output_type": "stream",
          "text": [
            "WARNING:tensorflow:From /usr/local/lib/python3.7/dist-packages/tensorflow/python/ops/array_ops.py:5049: calling gather (from tensorflow.python.ops.array_ops) with validate_indices is deprecated and will be removed in a future version.\n",
            "Instructions for updating:\n",
            "The `validate_indices` argument has no effect. Indices are always validated on CPU and never validated on GPU.\n",
            "Epoch 1/30\n",
            "25/25 [==============================] - 480s 18s/step - loss: 4.0325 - accuracy: 0.2388 - val_loss: 1.6087 - val_accuracy: 0.1975\n",
            "\n",
            "Epoch 00001: loss improved from inf to 4.04518, saving model to drive/My Drive/Pattern Recognition/DR models/model_10_3.h5\n",
            "Epoch 2/30\n",
            "25/25 [==============================] - 454s 18s/step - loss: 4.0337 - accuracy: 0.1748 - val_loss: 1.6076 - val_accuracy: 0.1850\n",
            "\n",
            "Epoch 00002: loss improved from 4.04518 to 4.02804, saving model to drive/My Drive/Pattern Recognition/DR models/model_10_3.h5\n",
            "Epoch 3/30\n",
            "25/25 [==============================] - 452s 18s/step - loss: 4.0352 - accuracy: 0.2030 - val_loss: 1.6092 - val_accuracy: 0.2650\n",
            "\n",
            "Epoch 00003: loss did not improve from 4.02804\n",
            "Epoch 4/30\n",
            "25/25 [==============================] - 448s 18s/step - loss: 4.0256 - accuracy: 0.2238 - val_loss: 1.6082 - val_accuracy: 0.1900\n",
            "\n",
            "Epoch 00004: loss improved from 4.02804 to 4.02687, saving model to drive/My Drive/Pattern Recognition/DR models/model_10_3.h5\n",
            "Epoch 5/30\n",
            "25/25 [==============================] - 447s 18s/step - loss: 4.0231 - accuracy: 0.2096 - val_loss: 1.6033 - val_accuracy: 0.2125\n",
            "\n",
            "Epoch 00005: loss improved from 4.02687 to 4.01036, saving model to drive/My Drive/Pattern Recognition/DR models/model_10_3.h5\n",
            "Epoch 6/30\n",
            "25/25 [==============================] - 446s 18s/step - loss: 4.0451 - accuracy: 0.1741 - val_loss: 1.5990 - val_accuracy: 0.2200\n",
            "\n",
            "Epoch 00006: loss did not improve from 4.01036\n",
            "Epoch 7/30\n",
            "25/25 [==============================] - 445s 18s/step - loss: 3.9844 - accuracy: 0.2370 - val_loss: 1.6015 - val_accuracy: 0.2475\n",
            "\n",
            "Epoch 00007: loss improved from 4.01036 to 3.99683, saving model to drive/My Drive/Pattern Recognition/DR models/model_10_3.h5\n",
            "Epoch 8/30\n",
            "25/25 [==============================] - 443s 18s/step - loss: 4.0184 - accuracy: 0.2704 - val_loss: 1.5963 - val_accuracy: 0.2675\n",
            "\n",
            "Epoch 00008: loss did not improve from 3.99683\n",
            "Epoch 9/30\n",
            "25/25 [==============================] - 442s 18s/step - loss: 3.9776 - accuracy: 0.2457 - val_loss: 1.5667 - val_accuracy: 0.3050\n",
            "\n",
            "Epoch 00009: loss improved from 3.99683 to 3.96272, saving model to drive/My Drive/Pattern Recognition/DR models/model_10_3.h5\n",
            "Epoch 10/30\n",
            "25/25 [==============================] - 441s 18s/step - loss: 3.8688 - accuracy: 0.2864 - val_loss: 1.5734 - val_accuracy: 0.3175\n",
            "\n",
            "Epoch 00010: loss improved from 3.96272 to 3.92814, saving model to drive/My Drive/Pattern Recognition/DR models/model_10_3.h5\n",
            "Epoch 11/30\n",
            "25/25 [==============================] - 443s 18s/step - loss: 3.9179 - accuracy: 0.3164 - val_loss: 1.5618 - val_accuracy: 0.2750\n",
            "\n",
            "Epoch 00011: loss did not improve from 3.92814\n",
            "Epoch 12/30\n",
            "25/25 [==============================] - 438s 18s/step - loss: 3.9024 - accuracy: 0.2938 - val_loss: 1.5249 - val_accuracy: 0.3375\n",
            "\n",
            "Epoch 00012: loss improved from 3.92814 to 3.88565, saving model to drive/My Drive/Pattern Recognition/DR models/model_10_3.h5\n",
            "Epoch 13/30\n",
            "25/25 [==============================] - 437s 18s/step - loss: 3.9400 - accuracy: 0.2379 - val_loss: 1.5874 - val_accuracy: 0.2425\n",
            "\n",
            "Epoch 00013: loss did not improve from 3.88565\n",
            "Epoch 14/30\n",
            "25/25 [==============================] - 438s 18s/step - loss: 3.9480 - accuracy: 0.2474 - val_loss: 1.5606 - val_accuracy: 0.2750\n",
            "\n",
            "Epoch 00014: loss did not improve from 3.88565\n",
            "Epoch 15/30\n",
            "25/25 [==============================] - 437s 18s/step - loss: 3.9002 - accuracy: 0.2869 - val_loss: 1.5328 - val_accuracy: 0.3150\n",
            "\n",
            "Epoch 00015: ReduceLROnPlateau reducing learning rate to 4.999999873689376e-05.\n",
            "\n",
            "Epoch 00015: loss did not improve from 3.88565\n",
            "Epoch 16/30\n",
            "25/25 [==============================] - 435s 17s/step - loss: 3.8590 - accuracy: 0.3353 - val_loss: 1.5369 - val_accuracy: 0.3000\n",
            "\n",
            "Epoch 00016: loss improved from 3.88565 to 3.85738, saving model to drive/My Drive/Pattern Recognition/DR models/model_10_3.h5\n",
            "Epoch 17/30\n",
            "25/25 [==============================] - 438s 18s/step - loss: 3.8158 - accuracy: 0.3355 - val_loss: 1.4886 - val_accuracy: 0.3400\n",
            "\n",
            "Epoch 00017: loss improved from 3.85738 to 3.80773, saving model to drive/My Drive/Pattern Recognition/DR models/model_10_3.h5\n",
            "Epoch 18/30\n",
            "25/25 [==============================] - 438s 18s/step - loss: 3.7270 - accuracy: 0.3565 - val_loss: 1.5363 - val_accuracy: 0.3025\n",
            "\n",
            "Epoch 00018: loss did not improve from 3.80773\n",
            "Epoch 19/30\n",
            "25/25 [==============================] - 436s 18s/step - loss: 3.8075 - accuracy: 0.3303 - val_loss: 1.5058 - val_accuracy: 0.3175\n",
            "\n",
            "Epoch 00019: loss did not improve from 3.80773\n",
            "Epoch 20/30\n",
            "25/25 [==============================] - 437s 18s/step - loss: 3.8613 - accuracy: 0.2853 - val_loss: 1.4929 - val_accuracy: 0.3450\n",
            "\n",
            "Epoch 00020: ReduceLROnPlateau reducing learning rate to 2.499999936844688e-05.\n",
            "\n",
            "Epoch 00020: loss did not improve from 3.80773\n",
            "Epoch 21/30\n",
            "25/25 [==============================] - 435s 17s/step - loss: 3.7528 - accuracy: 0.3216 - val_loss: 1.5141 - val_accuracy: 0.3525\n",
            "\n",
            "Epoch 00021: loss improved from 3.80773 to 3.75098, saving model to drive/My Drive/Pattern Recognition/DR models/model_10_3.h5\n",
            "Epoch 22/30\n",
            "25/25 [==============================] - 436s 18s/step - loss: 3.7691 - accuracy: 0.3158 - val_loss: 1.4567 - val_accuracy: 0.4000\n",
            "\n",
            "Epoch 00022: loss did not improve from 3.75098\n",
            "Epoch 23/30\n",
            "25/25 [==============================] - 438s 18s/step - loss: 3.7599 - accuracy: 0.3084 - val_loss: 1.4550 - val_accuracy: 0.3625\n",
            "\n",
            "Epoch 00023: loss improved from 3.75098 to 3.73239, saving model to drive/My Drive/Pattern Recognition/DR models/model_10_3.h5\n",
            "Epoch 24/30\n",
            "25/25 [==============================] - 430s 17s/step - loss: 3.7130 - accuracy: 0.3259 - val_loss: 1.4879 - val_accuracy: 0.3100\n",
            "\n",
            "Epoch 00024: loss did not improve from 3.73239\n",
            "Epoch 25/30\n",
            "25/25 [==============================] - 437s 18s/step - loss: 3.7170 - accuracy: 0.3070 - val_loss: 1.5134 - val_accuracy: 0.2900\n",
            "\n",
            "Epoch 00025: loss improved from 3.73239 to 3.71639, saving model to drive/My Drive/Pattern Recognition/DR models/model_10_3.h5\n",
            "Epoch 26/30\n",
            "25/25 [==============================] - 436s 18s/step - loss: 3.7982 - accuracy: 0.3241 - val_loss: 1.4712 - val_accuracy: 0.3525\n",
            "\n",
            "Epoch 00026: ReduceLROnPlateau reducing learning rate to 1.249999968422344e-05.\n",
            "\n",
            "Epoch 00026: loss did not improve from 3.71639\n",
            "Epoch 27/30\n",
            "25/25 [==============================] - 433s 17s/step - loss: 3.7297 - accuracy: 0.3230 - val_loss: 1.5047 - val_accuracy: 0.3150\n",
            "\n",
            "Epoch 00027: loss did not improve from 3.71639\n",
            "Epoch 28/30\n",
            "25/25 [==============================] - 433s 17s/step - loss: 3.6913 - accuracy: 0.3450 - val_loss: 1.4879 - val_accuracy: 0.3300\n",
            "Restoring model weights from the end of the best epoch.\n",
            "\n",
            "Epoch 00028: loss did not improve from 3.71639\n",
            "Epoch 00028: early stopping\n"
          ],
          "name": "stdout"
        }
      ]
    },
    {
      "cell_type": "code",
      "metadata": {
        "colab": {
          "base_uri": "https://localhost:8080/",
          "height": 355
        },
        "id": "VzSF8Hp9rWLg",
        "outputId": "7f855123-fd1c-4c6f-ba00-8467da699023"
      },
      "source": [
        "# ref - https://stackoverflow.com/questions/29188757/matplotlib-specify-format-of-floats-for-tick-lables\n",
        "plt.figure(figsize=(8,5))\n",
        "\n",
        "plt.plot(history_finetunning['accuracy'])\n",
        "plt.plot(history_finetunning['val_accuracy'])\n",
        "plt.title('Model Accuracy')\n",
        "plt.ylabel('Accuracy')\n",
        "plt.xlabel('Epoch')\n",
        "plt.legend(['Train', 'Validation'], loc='upper left')\n",
        "plt.gca().ticklabel_format(axis='both', style='plain', useOffset=False)\n",
        "plt.show()"
      ],
      "execution_count": null,
      "outputs": [
        {
          "output_type": "display_data",
          "data": {
            "image/png": "[encoded data removed]",
            "text/plain": [
              "<Figure size 576x360 with 1 Axes>"
            ]
          },
          "metadata": {
            "tags": []
          }
        }
      ]
    },
    {
      "cell_type": "code",
      "metadata": {
        "colab": {
          "base_uri": "https://localhost:8080/",
          "height": 355
        },
        "id": "eTBBbe_hRJgU",
        "outputId": "6a2c6170-0bd5-4493-c9e4-b13fb7ef1afd"
      },
      "source": [
        "# ref - https://stackoverflow.com/questions/29188757/matplotlib-specify-format-of-floats-for-tick-lables\n",
        "plt.figure(figsize=(8,5))\n",
        "\n",
        "plt.plot(history_finetunning['loss'])\n",
        "plt.plot(history_finetunning['val_loss'])\n",
        "plt.title('Model Accuracy')\n",
        "plt.ylabel('Accuracy')\n",
        "plt.xlabel('Epoch')\n",
        "plt.legend(['Train', 'Validation'], loc='upper left')\n",
        "plt.gca().ticklabel_format(axis='both', style='plain', useOffset=False)\n",
        "plt.show()"
      ],
      "execution_count": null,
      "outputs": [
        {
          "output_type": "display_data",
          "data": {
            "image/png": "[encoded data removed]",
            "text/plain": [
              "<Figure size 576x360 with 1 Axes>"
            ]
          },
          "metadata": {
            "tags": []
          }
        }
      ]
    },
    {
      "cell_type": "code",
      "metadata": {
        "id": "ZG38G34BRKYf"
      },
      "source": [
        "model = load_model(\"drive/My Drive/Pattern Recognition/DR models/model_10_final.h5\")"
      ],
      "execution_count": 39,
      "outputs": []
    },
    {
      "cell_type": "code",
      "metadata": {
        "id": "m1oWpolVRKYf"
      },
      "source": [
        "predictions = model.predict(test_generator)"
      ],
      "execution_count": 40,
      "outputs": []
    },
    {
      "cell_type": "markdown",
      "metadata": {
        "id": "zf0p4v0tSSWh"
      },
      "source": [
        "With batch=20, FMP=2.0:"
      ]
    },
    {
      "cell_type": "code",
      "metadata": {
        "colab": {
          "base_uri": "https://localhost:8080/"
        },
        "id": "6EMXzvgnRKYg",
        "outputId": "26b3fc89-7114-41fb-c964-698c52a63edd"
      },
      "source": [
        "# model 10_final\n",
        "import numpy as np\n",
        "from sklearn.metrics import precision_recall_fscore_support, classification_report\n",
        "\n",
        "preds_classes = np.argmax(predictions, axis=-1)\n",
        "\n",
        "y_true = test_generator.classes\n",
        "y_pred = preds_classes\n",
        "\n",
        "print(precision_recall_fscore_support(y_true, y_pred, average='macro'))\n",
        "print(precision_recall_fscore_support(y_true, y_pred, average='micro'))\n",
        "print(precision_recall_fscore_support(y_true, y_pred, average='weighted'))\n",
        "print(classification_report(y_true, y_pred))"
      ],
      "execution_count": 41,
      "outputs": [
        {
          "output_type": "stream",
          "text": [
            "(0.2061538461538462, 0.1498364803891221, 0.07692551811852286, None)\n",
            "(0.10469314079422383, 0.10469314079422383, 0.10469314079422383, None)\n",
            "(0.6661513216025852, 0.10469314079422383, 0.14445213325117168, None)\n",
            "              precision    recall  f1-score   support\n",
            "\n",
            "           0       0.83      0.08      0.15       644\n",
            "           1       0.05      0.02      0.03        57\n",
            "           2       0.14      0.25      0.18       113\n",
            "           3       0.00      0.00      0.00         7\n",
            "           4       0.01      0.40      0.03        10\n",
            "\n",
            "    accuracy                           0.10       831\n",
            "   macro avg       0.21      0.15      0.08       831\n",
            "weighted avg       0.67      0.10      0.14       831\n",
            "\n"
          ],
          "name": "stdout"
        }
      ]
    },
    {
      "cell_type": "code",
      "metadata": {
        "colab": {
          "base_uri": "https://localhost:8080/"
        },
        "id": "Pii62_NqLGev",
        "outputId": "11b501fc-741e-4506-bad2-31611bb28e06"
      },
      "source": [
        "import pickle\n",
        "\n",
        "a_file = open(\"drive/MyDrive/Pattern Recognition/hft_10_3.pkl\", \"wb\")\n",
        "pickle.dump(history_finetunning, a_file)\n",
        "a_file.close()\n",
        "\n",
        "a_file = open(\"drive/MyDrive/Pattern Recognition/hft_10_3.pkl\", \"rb\")\n",
        "output = pickle.load(a_file)\n",
        "print(output)"
      ],
      "execution_count": 23,
      "outputs": [
        {
          "output_type": "stream",
          "text": [
            "{'loss': [4.0451836585998535, 4.028039932250977, 4.038781642913818, 4.026873588562012, 4.010360240936279, 4.031231880187988, 3.9968323707580566, 4.017909526824951, 3.9627175331115723, 3.9281442165374756, 3.9509875774383545, 3.8856496810913086, 3.9274260997772217, 3.8950817584991455, 3.9053728580474854, 3.8573811054229736, 3.8077280521392822, 3.8255579471588135, 3.817826271057129, 3.8420932292938232, 3.7509799003601074, 3.75178861618042, 3.732388496398926, 3.775348424911499, 3.71639347076416, 3.74277400970459, 3.759873151779175, 3.744926691055298], 'accuracy': [0.20800000429153442, 0.18000000715255737, 0.19200000166893005, 0.20999999344348907, 0.22599999606609344, 0.21199999749660492, 0.2460000067949295, 0.2460000067949295, 0.2619999945163727, 0.26600000262260437, 0.2980000078678131, 0.29600000381469727, 0.24799999594688416, 0.2759999930858612, 0.27799999713897705, 0.3179999887943268, 0.3440000116825104, 0.29600000381469727, 0.3140000104904175, 0.3019999861717224, 0.3160000145435333, 0.33799999952316284, 0.3179999887943268, 0.30894309282302856, 0.32199999690055847, 0.3440000116825104, 0.31200000643730164, 0.33000001311302185], 'val_loss': [1.6087288856506348, 1.6075811386108398, 1.6091575622558594, 1.6082130670547485, 1.6032609939575195, 1.5990403890609741, 1.601456880569458, 1.596308946609497, 1.5667319297790527, 1.573420763015747, 1.561824917793274, 1.5249065160751343, 1.5874234437942505, 1.5606423616409302, 1.532761812210083, 1.536949634552002, 1.4886077642440796, 1.5362907648086548, 1.5057711601257324, 1.492913842201233, 1.5141366720199585, 1.4567025899887085, 1.4549919366836548, 1.4878921508789062, 1.5134494304656982, 1.471163034439087, 1.5047458410263062, 1.4878544807434082], 'val_accuracy': [0.19750000536441803, 0.1850000023841858, 0.26499998569488525, 0.1899999976158142, 0.21250000596046448, 0.2199999988079071, 0.2475000023841858, 0.26750001311302185, 0.3050000071525574, 0.3174999952316284, 0.2750000059604645, 0.3375000059604645, 0.24250000715255737, 0.2750000059604645, 0.3149999976158142, 0.30000001192092896, 0.3400000035762787, 0.30250000953674316, 0.3174999952316284, 0.3449999988079071, 0.35249999165534973, 0.4000000059604645, 0.36250001192092896, 0.3100000023841858, 0.28999999165534973, 0.35249999165534973, 0.3149999976158142, 0.33000001311302185], 'lr': [1e-04, 1e-04, 1e-04, 1e-04, 1e-04, 1e-04, 1e-04, 1e-04, 1e-04, 1e-04, 1e-04, 1e-04, 1e-04, 1e-04, 1e-04, 5e-05, 5e-05, 5e-05, 5e-05, 5e-05, 2.5e-05, 2.5e-05, 2.5e-05, 2.5e-05, 2.5e-05, 2.5e-05, 1.25e-05, 1.25e-05]}\n"
          ],
          "name": "stdout"
        }
      ]
    },
    {
      "cell_type": "code",
      "metadata": {
        "colab": {
          "base_uri": "https://localhost:8080/",
          "height": 350
        },
        "id": "fpU-Lwi7LS3_",
        "outputId": "7436def0-d636-4749-9a6e-4a6cee1db6b5"
      },
      "source": [
        "# ref - https://stackoverflow.com/questions/29188757/matplotlib-specify-format-of-floats-for-tick-lables\n",
        "plt.figure(figsize=(8,5))\n",
        "\n",
        "plt.plot(history_finetunning['accuracy'])\n",
        "plt.plot(history_finetunning['val_accuracy'])\n",
        "plt.title('Model Accuracy')\n",
        "plt.ylabel('Accuracy')\n",
        "plt.xlabel('Epoch')\n",
        "plt.legend(['Train', 'Validation'], loc='upper left')\n",
        "plt.gca().ticklabel_format(axis='both', style='plain', useOffset=False)\n",
        "plt.show()"
      ],
      "execution_count": 24,
      "outputs": [
        {
          "output_type": "display_data",
          "data": {
            "image/png": "[encoded data removed]",
            "text/plain": [
              "<Figure size 576x360 with 1 Axes>"
            ]
          },
          "metadata": {
            "tags": [],
            "needs_background": "light"
          }
        }
      ]
    },
    {
      "cell_type": "code",
      "metadata": {
        "colab": {
          "base_uri": "https://localhost:8080/",
          "height": 350
        },
        "id": "rvvD5SsvLS4A",
        "outputId": "5066bd1d-811b-4d89-e246-0d1a7bac1cec"
      },
      "source": [
        "# ref - https://stackoverflow.com/questions/29188757/matplotlib-specify-format-of-floats-for-tick-lables\n",
        "plt.figure(figsize=(8,5))\n",
        "\n",
        "plt.plot(history_finetunning['loss'])\n",
        "plt.plot(history_finetunning['val_loss'])\n",
        "plt.title('Model Accuracy')\n",
        "plt.ylabel('Accuracy')\n",
        "plt.xlabel('Epoch')\n",
        "plt.legend(['Train', 'Validation'], loc='upper left')\n",
        "plt.gca().ticklabel_format(axis='both', style='plain', useOffset=False)\n",
        "plt.show()"
      ],
      "execution_count": 25,
      "outputs": [
        {
          "output_type": "display_data",
          "data": {
            "image/png": "[encoded data removed]",
            "text/plain": [
              "<Figure size 576x360 with 1 Axes>"
            ]
          },
          "metadata": {
            "tags": [],
            "needs_background": "light"
          }
        }
      ]
    },
    {
      "cell_type": "code",
      "metadata": {
        "colab": {
          "base_uri": "https://localhost:8080/"
        },
        "id": "aJ_Y7T4AM-KI",
        "outputId": "76f520c6-af2e-4794-a90e-8a8f5eba72a8"
      },
      "source": [
        "history_finetunning = model.fit_generator(generator=train_generator,\n",
        "                                          steps_per_epoch=25,\n",
        "                                          validation_data=valid_generator,\n",
        "                                          validation_steps=30,\n",
        "                                          epochs=30,\n",
        "                                          callbacks=callback_list,\n",
        "                                          class_weight = class_weight,\n",
        "                                          verbose=1).history\n",
        "\n",
        "model.save(\"drive/My Drive/Pattern Recognition/DR models/model_10_final_1.h5\")"
      ],
      "execution_count": 28,
      "outputs": [
        {
          "output_type": "stream",
          "text": [
            "/usr/local/lib/python3.7/dist-packages/keras/engine/training.py:1915: UserWarning: `Model.fit_generator` is deprecated and will be removed in a future version. Please use `Model.fit`, which supports generators.\n",
            "  warnings.warn('`Model.fit_generator` is deprecated and '\n"
          ],
          "name": "stderr"
        },
        {
          "output_type": "stream",
          "text": [
            "Epoch 1/30\n",
            "25/25 [==============================] - 498s 20s/step - loss: 3.6530 - accuracy: 0.3620 - val_loss: 1.4659 - val_accuracy: 0.3467\n",
            "\n",
            "Epoch 00001: loss improved from 3.71639 to 3.65301, saving model to drive/My Drive/Pattern Recognition/DR models/model_10_3.h5\n",
            "Epoch 2/30\n",
            "25/25 [==============================] - 473s 19s/step - loss: 3.7522 - accuracy: 0.3040 - val_loss: 1.4482 - val_accuracy: 0.3433\n",
            "\n",
            "Epoch 00002: loss did not improve from 3.65301\n",
            "Epoch 3/30\n",
            "25/25 [==============================] - 497s 20s/step - loss: 3.6036 - accuracy: 0.3780 - val_loss: 1.5001 - val_accuracy: 0.2950\n",
            "\n",
            "Epoch 00003: loss improved from 3.65301 to 3.60357, saving model to drive/My Drive/Pattern Recognition/DR models/model_10_3.h5\n",
            "Epoch 4/30\n",
            "25/25 [==============================] - 469s 19s/step - loss: 3.7368 - accuracy: 0.3516 - val_loss: 1.4985 - val_accuracy: 0.3200\n",
            "\n",
            "Epoch 00004: loss did not improve from 3.60357\n",
            "Epoch 5/30\n",
            "25/25 [==============================] - 474s 19s/step - loss: 3.6795 - accuracy: 0.3400 - val_loss: 1.4608 - val_accuracy: 0.3583\n",
            "\n",
            "Epoch 00005: ReduceLROnPlateau reducing learning rate to 6.24999984211172e-06.\n",
            "\n",
            "Epoch 00005: loss did not improve from 3.60357\n",
            "Epoch 6/30\n",
            "25/25 [==============================] - 474s 19s/step - loss: 3.7036 - accuracy: 0.2960 - val_loss: 1.4863 - val_accuracy: 0.3050\n",
            "\n",
            "Epoch 00006: loss did not improve from 3.60357\n",
            "Epoch 7/30\n",
            "25/25 [==============================] - 497s 20s/step - loss: 3.7308 - accuracy: 0.3120 - val_loss: 1.4383 - val_accuracy: 0.3783\n",
            "\n",
            "Epoch 00007: loss did not improve from 3.60357\n",
            "Epoch 8/30\n",
            "25/25 [==============================] - 475s 19s/step - loss: 3.6817 - accuracy: 0.3640 - val_loss: 1.4542 - val_accuracy: 0.3517\n",
            "\n",
            "Epoch 00008: loss did not improve from 3.60357\n",
            "Epoch 9/30\n",
            "25/25 [==============================] - 475s 19s/step - loss: 3.7086 - accuracy: 0.3540 - val_loss: 1.4714 - val_accuracy: 0.3100\n",
            "\n",
            "Epoch 00009: loss did not improve from 3.60357\n",
            "Epoch 10/30\n",
            "25/25 [==============================] - 498s 20s/step - loss: 3.6488 - accuracy: 0.3860 - val_loss: 1.4882 - val_accuracy: 0.3283\n",
            "\n",
            "Epoch 00010: ReduceLROnPlateau reducing learning rate to 3.12499992105586e-06.\n",
            "\n",
            "Epoch 00010: loss did not improve from 3.60357\n",
            "Epoch 11/30\n",
            "25/25 [==============================] - 473s 19s/step - loss: 3.6733 - accuracy: 0.3320 - val_loss: 1.4610 - val_accuracy: 0.3667\n",
            "\n",
            "Epoch 00011: loss did not improve from 3.60357\n",
            "Epoch 12/30\n",
            "25/25 [==============================] - 474s 19s/step - loss: 3.6960 - accuracy: 0.3260 - val_loss: 1.4732 - val_accuracy: 0.3500\n",
            "Restoring model weights from the end of the best epoch.\n",
            "\n",
            "Epoch 00012: loss did not improve from 3.60357\n",
            "Epoch 00012: early stopping\n"
          ],
          "name": "stdout"
        }
      ]
    },
    {
      "cell_type": "code",
      "metadata": {
        "colab": {
          "base_uri": "https://localhost:8080/"
        },
        "id": "e_zRAKBMs4NE",
        "outputId": "7fa948fd-91c7-407a-f378-6d9ea98cea17"
      },
      "source": [
        "history_finetunning = model.fit_generator(generator=train_generator,\n",
        "                                          steps_per_epoch=25,\n",
        "                                          validation_data=valid_generator,\n",
        "                                          validation_steps=20,\n",
        "                                          epochs=30,\n",
        "                                          callbacks=callback_list,\n",
        "                                          class_weight = class_weight,\n",
        "                                          verbose=1).history\n",
        "\n",
        "model.save(\"drive/My Drive/Pattern Recognition/DR models/model_10_additional.h5\")"
      ],
      "execution_count": 35,
      "outputs": [
        {
          "output_type": "stream",
          "text": [
            "/usr/local/lib/python3.7/dist-packages/keras/engine/training.py:1915: UserWarning: `Model.fit_generator` is deprecated and will be removed in a future version. Please use `Model.fit`, which supports generators.\n",
            "  warnings.warn('`Model.fit_generator` is deprecated and '\n"
          ],
          "name": "stderr"
        },
        {
          "output_type": "stream",
          "text": [
            "WARNING:tensorflow:From /usr/local/lib/python3.7/dist-packages/tensorflow/python/ops/array_ops.py:5049: calling gather (from tensorflow.python.ops.array_ops) with validate_indices is deprecated and will be removed in a future version.\n",
            "Instructions for updating:\n",
            "The `validate_indices` argument has no effect. Indices are always validated on CPU and never validated on GPU.\n",
            "Epoch 1/30\n",
            "25/25 [==============================] - 453s 18s/step - loss: 2.5665 - accuracy: 0.5688 - val_loss: 0.9864 - val_accuracy: 0.5650\n",
            "\n",
            "Epoch 00001: loss improved from inf to 2.46529, saving model to drive/My Drive/Pattern Recognition/DR models/model_10_2.h5\n",
            "Epoch 2/30\n",
            "25/25 [==============================] - 510s 21s/step - loss: 2.5304 - accuracy: 0.5662 - val_loss: 0.9923 - val_accuracy: 0.5375\n",
            "\n",
            "Epoch 00002: loss did not improve from 2.46529\n",
            "Epoch 3/30\n",
            "25/25 [==============================] - 449s 18s/step - loss: 2.3939 - accuracy: 0.5567 - val_loss: 1.0101 - val_accuracy: 0.6000\n",
            "\n",
            "Epoch 00003: loss improved from 2.46529 to 2.41671, saving model to drive/My Drive/Pattern Recognition/DR models/model_10_2.h5\n",
            "Epoch 4/30\n",
            "25/25 [==============================] - 450s 18s/step - loss: 2.4823 - accuracy: 0.5876 - val_loss: 0.9964 - val_accuracy: 0.5700\n",
            "\n",
            "Epoch 00004: ReduceLROnPlateau reducing learning rate to 4.999999873689376e-05.\n",
            "\n",
            "Epoch 00004: loss did not improve from 2.41671\n",
            "Epoch 5/30\n",
            "25/25 [==============================] - 514s 21s/step - loss: 2.3514 - accuracy: 0.5996 - val_loss: 1.0069 - val_accuracy: 0.6100\n",
            "\n",
            "Epoch 00005: loss improved from 2.41671 to 2.36988, saving model to drive/My Drive/Pattern Recognition/DR models/model_10_2.h5\n",
            "Epoch 6/30\n",
            "25/25 [==============================] - 508s 20s/step - loss: 2.5187 - accuracy: 0.5768 - val_loss: 0.9078 - val_accuracy: 0.6250\n",
            "\n",
            "Epoch 00006: loss did not improve from 2.36988\n",
            "Epoch 7/30\n",
            "25/25 [==============================] - 442s 18s/step - loss: 2.4751 - accuracy: 0.5481 - val_loss: 0.9813 - val_accuracy: 0.6325\n",
            "\n",
            "Epoch 00007: loss improved from 2.36988 to 2.32175, saving model to drive/My Drive/Pattern Recognition/DR models/model_10_2.h5\n",
            "Epoch 8/30\n",
            "25/25 [==============================] - 452s 18s/step - loss: 2.2628 - accuracy: 0.6470 - val_loss: 0.9479 - val_accuracy: 0.6250\n",
            "\n",
            "Epoch 00008: loss did not improve from 2.32175\n",
            "Epoch 9/30\n",
            "25/25 [==============================] - 448s 18s/step - loss: 2.4497 - accuracy: 0.5985 - val_loss: 0.9772 - val_accuracy: 0.6025\n",
            "\n",
            "Epoch 00009: ReduceLROnPlateau reducing learning rate to 2.499999936844688e-05.\n",
            "\n",
            "Epoch 00009: loss did not improve from 2.32175\n",
            "Epoch 10/30\n",
            "25/25 [==============================] - 505s 20s/step - loss: 2.4477 - accuracy: 0.5829 - val_loss: 0.9014 - val_accuracy: 0.6550\n",
            "\n",
            "Epoch 00010: loss improved from 2.32175 to 2.30181, saving model to drive/My Drive/Pattern Recognition/DR models/model_10_2.h5\n",
            "Epoch 11/30\n",
            "25/25 [==============================] - 449s 18s/step - loss: 2.3600 - accuracy: 0.6257 - val_loss: 0.9285 - val_accuracy: 0.6025\n",
            "\n",
            "Epoch 00011: loss did not improve from 2.30181\n",
            "Epoch 12/30\n",
            "25/25 [==============================] - 448s 18s/step - loss: 2.1901 - accuracy: 0.6419 - val_loss: 0.9419 - val_accuracy: 0.6175\n",
            "\n",
            "Epoch 00012: loss improved from 2.30181 to 2.26182, saving model to drive/My Drive/Pattern Recognition/DR models/model_10_2.h5\n",
            "Epoch 13/30\n",
            "25/25 [==============================] - 449s 18s/step - loss: 2.1619 - accuracy: 0.6259 - val_loss: 0.9335 - val_accuracy: 0.6250\n",
            "\n",
            "Epoch 00013: ReduceLROnPlateau reducing learning rate to 1.249999968422344e-05.\n",
            "\n",
            "Epoch 00013: loss did not improve from 2.26182\n",
            "Epoch 14/30\n",
            "25/25 [==============================] - 505s 20s/step - loss: 2.4230 - accuracy: 0.5822 - val_loss: 0.8241 - val_accuracy: 0.6875\n",
            "\n",
            "Epoch 00014: loss did not improve from 2.26182\n",
            "Epoch 15/30\n",
            "25/25 [==============================] - 443s 18s/step - loss: 2.4025 - accuracy: 0.6294 - val_loss: 0.9087 - val_accuracy: 0.6350\n",
            "\n",
            "Epoch 00015: loss did not improve from 2.26182\n",
            "Epoch 16/30\n",
            "25/25 [==============================] - 442s 18s/step - loss: 2.3076 - accuracy: 0.6246 - val_loss: 0.9039 - val_accuracy: 0.6150\n",
            "\n",
            "Epoch 00016: loss improved from 2.26182 to 2.22922, saving model to drive/My Drive/Pattern Recognition/DR models/model_10_2.h5\n",
            "Epoch 17/30\n",
            "25/25 [==============================] - 448s 18s/step - loss: 2.2538 - accuracy: 0.6279 - val_loss: 0.8913 - val_accuracy: 0.6300\n",
            "\n",
            "Epoch 00017: ReduceLROnPlateau reducing learning rate to 6.24999984211172e-06.\n",
            "\n",
            "Epoch 00017: loss did not improve from 2.22922\n",
            "Epoch 18/30\n",
            "25/25 [==============================] - 447s 18s/step - loss: 2.1436 - accuracy: 0.6410 - val_loss: 0.8562 - val_accuracy: 0.6650\n",
            "\n",
            "Epoch 00018: loss did not improve from 2.22922\n",
            "Epoch 19/30\n",
            "25/25 [==============================] - 448s 18s/step - loss: 2.1652 - accuracy: 0.6557 - val_loss: 0.8717 - val_accuracy: 0.6375\n",
            "Restoring model weights from the end of the best epoch.\n",
            "\n",
            "Epoch 00019: loss improved from 2.22922 to 2.22068, saving model to drive/My Drive/Pattern Recognition/DR models/model_10_2.h5\n",
            "Epoch 00019: early stopping\n"
          ],
          "name": "stdout"
        }
      ]
    },
    {
      "cell_type": "code",
      "metadata": {
        "colab": {
          "base_uri": "https://localhost:8080/"
        },
        "id": "XkuaHooRRfku",
        "outputId": "dfca8744-0084-4e69-874f-21453fb51e79"
      },
      "source": [
        "import pickle\n",
        "\n",
        "a_file = open(\"drive/MyDrive/Pattern Recognition/hft_10_2.pkl\", \"wb\")\n",
        "pickle.dump(history_finetunning, a_file)\n",
        "a_file.close()\n",
        "\n",
        "a_file = open(\"drive/MyDrive/Pattern Recognition/hft_10_2.pkl\", \"rb\")\n",
        "output = pickle.load(a_file)\n",
        "print(output)"
      ],
      "execution_count": 42,
      "outputs": [
        {
          "output_type": "stream",
          "text": [
            "{'loss': [2.4652905464172363, 2.586071252822876, 2.4167113304138184, 2.5864317417144775, 2.369879961013794, 2.5314230918884277, 2.321747064590454, 2.4589762687683105, 2.507697820663452, 2.3018085956573486, 2.3760828971862793, 2.2618179321289062, 2.3143062591552734, 2.351877450942993, 2.4317188262939453, 2.229215383529663, 2.278012275695801, 2.2313339710235596, 2.2206759452819824], 'accuracy': [0.5740000009536743, 0.5559999942779541, 0.5740000009536743, 0.5640000104904175, 0.5979999899864197, 0.5879999995231628, 0.6040816307067871, 0.6259999871253967, 0.5879999995231628, 0.6100000143051147, 0.621999979019165, 0.6179999709129333, 0.5920000076293945, 0.6000000238418579, 0.6179999709129333, 0.6259999871253967, 0.6200000047683716, 0.628000020980835, 0.6539999842643738], 'val_loss': [0.9864193797111511, 0.992320716381073, 1.0101368427276611, 0.9964354634284973, 1.006883978843689, 0.9077864289283752, 0.9813078045845032, 0.9479377865791321, 0.977236807346344, 0.9014028906822205, 0.9285342693328857, 0.941893458366394, 0.9335018396377563, 0.8240618705749512, 0.9087032079696655, 0.9038723111152649, 0.8912947773933411, 0.8561904430389404, 0.8717194199562073], 'val_accuracy': [0.5649999976158142, 0.5375000238418579, 0.6000000238418579, 0.5699999928474426, 0.6100000143051147, 0.625, 0.6324999928474426, 0.625, 0.6025000214576721, 0.6549999713897705, 0.6025000214576721, 0.6175000071525574, 0.625, 0.6875, 0.6349999904632568, 0.6150000095367432, 0.6299999952316284, 0.6650000214576721, 0.637499988079071], 'lr': [1e-04, 1e-04, 1e-04, 1e-04, 5e-05, 5e-05, 5e-05, 5e-05, 5e-05, 2.5e-05, 2.5e-05, 2.5e-05, 2.5e-05, 1.25e-05, 1.25e-05, 1.25e-05, 1.25e-05, 6.25e-06, 6.25e-06]}\n"
          ],
          "name": "stdout"
        }
      ]
    },
    {
      "cell_type": "markdown",
      "metadata": {
        "id": "rK7bKQ91wzoQ"
      },
      "source": [
        "Max_Pooling:"
      ]
    },
    {
      "cell_type": "code",
      "metadata": {
        "colab": {
          "base_uri": "https://localhost:8080/"
        },
        "id": "f758Y9tgs4UJ",
        "outputId": "86af12b7-c4b5-4d42-d6c4-51cd5434d990"
      },
      "source": [
        "history_finetunning = model.fit_generator(generator=train_generator,\n",
        "                                          steps_per_epoch=25,\n",
        "                                          validation_data=valid_generator,\n",
        "                                          validation_steps=20,\n",
        "                                          epochs=30,\n",
        "                                          callbacks=callback_list,\n",
        "                                          class_weight = class_weight,\n",
        "                                          verbose=1).history\n",
        "\n",
        "model.save(\"drive/My Drive/Pattern Recognition/DR models/model_13.h5\")"
      ],
      "execution_count": null,
      "outputs": [
        {
          "output_type": "stream",
          "text": [
            "/usr/local/lib/python3.7/dist-packages/tensorflow/python/keras/engine/training.py:1844: UserWarning: `Model.fit_generator` is deprecated and will be removed in a future version. Please use `Model.fit`, which supports generators.\n",
            "  warnings.warn('`Model.fit_generator` is deprecated and '\n"
          ],
          "name": "stderr"
        },
        {
          "output_type": "stream",
          "text": [
            "Epoch 1/30\n",
            "25/25 [==============================] - 790s 31s/step - loss: 3.4428 - accuracy: 0.4060 - val_loss: 1.3934 - val_accuracy: 0.3750\n",
            "\n",
            "Epoch 00001: loss improved from inf to 3.44280, saving model to drive/My Drive/Pattern Recognition/DR models/model_12_2.h5\n",
            "Epoch 2/30\n",
            "25/25 [==============================] - 790s 32s/step - loss: 3.4774 - accuracy: 0.3800 - val_loss: 1.4042 - val_accuracy: 0.3475\n",
            "\n",
            "Epoch 00002: loss did not improve from 3.44280\n",
            "Epoch 3/30\n",
            "25/25 [==============================] - 782s 31s/step - loss: 3.5542 - accuracy: 0.3660 - val_loss: 1.3811 - val_accuracy: 0.4125\n",
            "\n",
            "Epoch 00003: loss did not improve from 3.44280\n",
            "Epoch 4/30\n",
            "25/25 [==============================] - 779s 31s/step - loss: 3.4577 - accuracy: 0.4040 - val_loss: 1.3901 - val_accuracy: 0.3850\n",
            "\n",
            "Epoch 00004: loss did not improve from 3.44280\n",
            "Epoch 5/30\n",
            "25/25 [==============================] - 791s 32s/step - loss: 3.5487 - accuracy: 0.3520 - val_loss: 1.3868 - val_accuracy: 0.3900\n",
            "\n",
            "Epoch 00005: loss did not improve from 3.44280\n",
            "Epoch 6/30\n",
            "25/25 [==============================] - 782s 31s/step - loss: 3.4918 - accuracy: 0.3860 - val_loss: 1.4189 - val_accuracy: 0.4075\n",
            "\n",
            "Epoch 00006: ReduceLROnPlateau reducing learning rate to 6.24999984211172e-06.\n",
            "\n",
            "Epoch 00006: loss did not improve from 3.44280\n",
            "Epoch 7/30\n",
            "25/25 [==============================] - 785s 32s/step - loss: 3.4529 - accuracy: 0.3780 - val_loss: 1.3735 - val_accuracy: 0.3875\n",
            "\n",
            "Epoch 00007: loss did not improve from 3.44280\n",
            "Epoch 8/30\n",
            "25/25 [==============================] - 785s 32s/step - loss: 3.5259 - accuracy: 0.3640 - val_loss: 1.3962 - val_accuracy: 0.3875\n",
            "\n",
            "Epoch 00008: loss did not improve from 3.44280\n",
            "Epoch 9/30\n",
            "25/25 [==============================] - 797s 32s/step - loss: 3.5102 - accuracy: 0.3680 - val_loss: 1.3849 - val_accuracy: 0.4025\n",
            "\n",
            "Epoch 00009: loss did not improve from 3.44280\n",
            "Epoch 10/30\n",
            "25/25 [==============================] - 791s 32s/step - loss: 3.4275 - accuracy: 0.4020 - val_loss: 1.3558 - val_accuracy: 0.3975\n",
            "\n",
            "Epoch 00010: loss improved from 3.44280 to 3.42749, saving model to drive/My Drive/Pattern Recognition/DR models/model_12_2.h5\n",
            "Epoch 11/30\n",
            "25/25 [==============================] - 786s 32s/step - loss: 3.5674 - accuracy: 0.3640 - val_loss: 1.3786 - val_accuracy: 0.4325\n",
            "\n",
            "Epoch 00011: loss did not improve from 3.42749\n",
            "Epoch 12/30\n",
            "25/25 [==============================] - 789s 32s/step - loss: 3.4615 - accuracy: 0.3980 - val_loss: 1.3717 - val_accuracy: 0.3875\n",
            "\n",
            "Epoch 00012: loss did not improve from 3.42749\n",
            "Epoch 13/30\n",
            "25/25 [==============================] - 797s 32s/step - loss: 3.5223 - accuracy: 0.3620 - val_loss: 1.3864 - val_accuracy: 0.4125\n",
            "\n",
            "Epoch 00013: ReduceLROnPlateau reducing learning rate to 3.12499992105586e-06.\n",
            "\n",
            "Epoch 00013: loss did not improve from 3.42749\n",
            "Epoch 14/30\n",
            "25/25 [==============================] - 795s 32s/step - loss: 3.4699 - accuracy: 0.4260 - val_loss: 1.3605 - val_accuracy: 0.4025\n",
            "\n",
            "Epoch 00014: loss did not improve from 3.42749\n",
            "Epoch 15/30\n",
            "25/25 [==============================] - 790s 32s/step - loss: 3.5260 - accuracy: 0.3840 - val_loss: 1.3967 - val_accuracy: 0.3675\n",
            "Restoring model weights from the end of the best epoch.\n",
            "\n",
            "Epoch 00015: loss did not improve from 3.42749\n",
            "Epoch 00015: early stopping\n"
          ],
          "name": "stdout"
        }
      ]
    },
    {
      "cell_type": "code",
      "metadata": {
        "colab": {
          "base_uri": "https://localhost:8080/"
        },
        "id": "hVTunEd3wuqD",
        "outputId": "c8b176ce-6de5-4475-912a-b7cbc31176d0"
      },
      "source": [
        "history_finetunning = model.fit_generator(generator=train_generator,\n",
        "                                          steps_per_epoch=25,\n",
        "                                          validation_data=valid_generator,\n",
        "                                          validation_steps=20,\n",
        "                                          epochs=30,\n",
        "                                          callbacks=callback_list,\n",
        "                                          class_weight = class_weight,\n",
        "                                          verbose=1).history\n",
        "\n",
        "model.save(\"drive/My Drive/Pattern Recognition/DR models/model_12.h5\")"
      ],
      "execution_count": null,
      "outputs": [
        {
          "output_type": "stream",
          "text": [
            "/usr/local/lib/python3.7/dist-packages/tensorflow/python/keras/engine/training.py:1844: UserWarning: `Model.fit_generator` is deprecated and will be removed in a future version. Please use `Model.fit`, which supports generators.\n",
            "  warnings.warn('`Model.fit_generator` is deprecated and '\n"
          ],
          "name": "stderr"
        },
        {
          "output_type": "stream",
          "text": [
            "Epoch 1/30\n",
            "25/25 [==============================] - 622s 25s/step - loss: 4.0215 - accuracy: 0.2256 - val_loss: 1.6135 - val_accuracy: 0.1950\n",
            "\n",
            "Epoch 00001: loss improved from inf to 4.02258, saving model to drive/My Drive/Pattern Recognition/DR models/model_12_1.h5\n",
            "Epoch 2/30\n",
            "25/25 [==============================] - 618s 25s/step - loss: 4.0003 - accuracy: 0.1631 - val_loss: 1.6034 - val_accuracy: 0.1975\n",
            "\n",
            "Epoch 00002: loss improved from 4.02258 to 4.01681, saving model to drive/My Drive/Pattern Recognition/DR models/model_12_1.h5\n",
            "Epoch 3/30\n",
            "25/25 [==============================] - 616s 25s/step - loss: 4.0020 - accuracy: 0.2225 - val_loss: 1.5839 - val_accuracy: 0.1950\n",
            "\n",
            "Epoch 00003: loss improved from 4.01681 to 3.99235, saving model to drive/My Drive/Pattern Recognition/DR models/model_12_1.h5\n",
            "Epoch 4/30\n",
            "25/25 [==============================] - 612s 25s/step - loss: 4.0238 - accuracy: 0.2754 - val_loss: 1.5733 - val_accuracy: 0.2425\n",
            "\n",
            "Epoch 00004: loss did not improve from 3.99235\n",
            "Epoch 5/30\n",
            "25/25 [==============================] - 611s 25s/step - loss: 3.9299 - accuracy: 0.2433 - val_loss: 1.5819 - val_accuracy: 0.2675\n",
            "\n",
            "Epoch 00005: loss improved from 3.99235 to 3.89770, saving model to drive/My Drive/Pattern Recognition/DR models/model_12_1.h5\n",
            "Epoch 6/30\n",
            "25/25 [==============================] - 610s 25s/step - loss: 3.8780 - accuracy: 0.2949 - val_loss: 1.5504 - val_accuracy: 0.2925\n",
            "\n",
            "Epoch 00006: loss improved from 3.89770 to 3.87917, saving model to drive/My Drive/Pattern Recognition/DR models/model_12_1.h5\n",
            "Epoch 7/30\n",
            "25/25 [==============================] - 609s 25s/step - loss: 3.8536 - accuracy: 0.3191 - val_loss: 1.5152 - val_accuracy: 0.3400\n",
            "\n",
            "Epoch 00007: loss improved from 3.87917 to 3.86860, saving model to drive/My Drive/Pattern Recognition/DR models/model_12_1.h5\n",
            "Epoch 8/30\n",
            "25/25 [==============================] - 610s 25s/step - loss: 3.8616 - accuracy: 0.2791 - val_loss: 1.5676 - val_accuracy: 0.2700\n",
            "\n",
            "Epoch 00008: loss did not improve from 3.86860\n",
            "Epoch 9/30\n",
            "25/25 [==============================] - 610s 25s/step - loss: 3.8738 - accuracy: 0.2826 - val_loss: 1.5510 - val_accuracy: 0.2875\n",
            "\n",
            "Epoch 00009: loss improved from 3.86860 to 3.84810, saving model to drive/My Drive/Pattern Recognition/DR models/model_12_1.h5\n",
            "Epoch 10/30\n",
            "25/25 [==============================] - 591s 24s/step - loss: 3.7007 - accuracy: 0.3799 - val_loss: 1.5420 - val_accuracy: 0.3100\n",
            "\n",
            "Epoch 00010: ReduceLROnPlateau reducing learning rate to 4.999999873689376e-05.\n",
            "\n",
            "Epoch 00010: loss improved from 3.84810 to 3.78017, saving model to drive/My Drive/Pattern Recognition/DR models/model_12_1.h5\n",
            "Epoch 11/30\n",
            "25/25 [==============================] - 610s 25s/step - loss: 3.9057 - accuracy: 0.2778 - val_loss: 1.5206 - val_accuracy: 0.2750\n",
            "\n",
            "Epoch 00011: loss did not improve from 3.78017\n",
            "Epoch 12/30\n",
            "25/25 [==============================] - 609s 24s/step - loss: 3.7000 - accuracy: 0.3188 - val_loss: 1.4824 - val_accuracy: 0.3500\n",
            "\n",
            "Epoch 00012: loss improved from 3.78017 to 3.71959, saving model to drive/My Drive/Pattern Recognition/DR models/model_12_1.h5\n",
            "Epoch 13/30\n",
            "25/25 [==============================] - 610s 25s/step - loss: 3.7708 - accuracy: 0.3443 - val_loss: 1.4533 - val_accuracy: 0.3825\n",
            "\n",
            "Epoch 00013: loss did not improve from 3.71959\n",
            "Epoch 14/30\n",
            "25/25 [==============================] - 611s 25s/step - loss: 3.6665 - accuracy: 0.3362 - val_loss: 1.4818 - val_accuracy: 0.3400\n",
            "\n",
            "Epoch 00014: loss improved from 3.71959 to 3.67118, saving model to drive/My Drive/Pattern Recognition/DR models/model_12_1.h5\n",
            "Epoch 15/30\n",
            "25/25 [==============================] - 610s 24s/step - loss: 3.6309 - accuracy: 0.3914 - val_loss: 1.4912 - val_accuracy: 0.3475\n",
            "\n",
            "Epoch 00015: loss improved from 3.67118 to 3.61235, saving model to drive/My Drive/Pattern Recognition/DR models/model_12_1.h5\n",
            "Epoch 16/30\n",
            "25/25 [==============================] - 611s 25s/step - loss: 3.6264 - accuracy: 0.3773 - val_loss: 1.4536 - val_accuracy: 0.3600\n",
            "\n",
            "Epoch 00016: ReduceLROnPlateau reducing learning rate to 2.499999936844688e-05.\n",
            "\n",
            "Epoch 00016: loss did not improve from 3.61235\n",
            "Epoch 17/30\n",
            "25/25 [==============================] - 612s 25s/step - loss: 3.6203 - accuracy: 0.3580 - val_loss: 1.4876 - val_accuracy: 0.3325\n",
            "\n",
            "Epoch 00017: loss did not improve from 3.61235\n",
            "Epoch 18/30\n",
            "25/25 [==============================] - 610s 25s/step - loss: 3.6385 - accuracy: 0.3482 - val_loss: 1.4271 - val_accuracy: 0.4000\n",
            "\n",
            "Epoch 00018: loss did not improve from 3.61235\n",
            "Epoch 19/30\n",
            "25/25 [==============================] - 610s 25s/step - loss: 3.5078 - accuracy: 0.3779 - val_loss: 1.4672 - val_accuracy: 0.3475\n",
            "\n",
            "Epoch 00019: loss improved from 3.61235 to 3.55378, saving model to drive/My Drive/Pattern Recognition/DR models/model_12_1.h5\n",
            "Epoch 20/30\n",
            "25/25 [==============================] - 611s 25s/step - loss: 3.5318 - accuracy: 0.3988 - val_loss: 1.4844 - val_accuracy: 0.3200\n",
            "\n",
            "Epoch 00020: loss improved from 3.55378 to 3.49311, saving model to drive/My Drive/Pattern Recognition/DR models/model_12_1.h5\n",
            "Epoch 21/30\n",
            "25/25 [==============================] - 612s 25s/step - loss: 3.6620 - accuracy: 0.3251 - val_loss: 1.4556 - val_accuracy: 0.3400\n",
            "\n",
            "Epoch 00021: ReduceLROnPlateau reducing learning rate to 1.249999968422344e-05.\n",
            "\n",
            "Epoch 00021: loss did not improve from 3.49311\n",
            "Epoch 22/30\n",
            "25/25 [==============================] - 612s 25s/step - loss: 3.6049 - accuracy: 0.3384 - val_loss: 1.4228 - val_accuracy: 0.3800\n",
            "\n",
            "Epoch 00022: loss did not improve from 3.49311\n",
            "Epoch 23/30\n",
            "25/25 [==============================] - 613s 25s/step - loss: 3.4574 - accuracy: 0.3655 - val_loss: 1.4342 - val_accuracy: 0.3625\n",
            "\n",
            "Epoch 00023: loss improved from 3.49311 to 3.41920, saving model to drive/My Drive/Pattern Recognition/DR models/model_12_1.h5\n",
            "Epoch 24/30\n",
            "25/25 [==============================] - 614s 25s/step - loss: 3.5810 - accuracy: 0.3419 - val_loss: 1.4284 - val_accuracy: 0.3800\n",
            "\n",
            "Epoch 00024: loss did not improve from 3.41920\n",
            "Epoch 25/30\n",
            "25/25 [==============================] - 614s 25s/step - loss: 3.5348 - accuracy: 0.3956 - val_loss: 1.4209 - val_accuracy: 0.3725\n",
            "\n",
            "Epoch 00025: loss improved from 3.41920 to 3.40215, saving model to drive/My Drive/Pattern Recognition/DR models/model_12_1.h5\n",
            "Epoch 26/30\n",
            "25/25 [==============================] - 612s 25s/step - loss: 3.6310 - accuracy: 0.3457 - val_loss: 1.4151 - val_accuracy: 0.3850\n",
            "\n",
            "Epoch 00026: loss did not improve from 3.40215\n",
            "Epoch 27/30\n",
            "25/25 [==============================] - 613s 25s/step - loss: 3.6449 - accuracy: 0.3208 - val_loss: 1.4123 - val_accuracy: 0.3875\n",
            "\n",
            "Epoch 00027: loss did not improve from 3.40215\n",
            "Epoch 28/30\n",
            "25/25 [==============================] - 612s 25s/step - loss: 3.3682 - accuracy: 0.4159 - val_loss: 1.4061 - val_accuracy: 0.3850\n",
            "\n",
            "Epoch 00028: loss did not improve from 3.40215\n",
            "Epoch 29/30\n",
            "25/25 [==============================] - 613s 25s/step - loss: 3.4391 - accuracy: 0.3668 - val_loss: 1.4026 - val_accuracy: 0.3925\n",
            "\n",
            "Epoch 00029: loss improved from 3.40215 to 3.37286, saving model to drive/My Drive/Pattern Recognition/DR models/model_12_1.h5\n",
            "Epoch 30/30\n",
            "25/25 [==============================] - 613s 25s/step - loss: 3.5096 - accuracy: 0.4054 - val_loss: 1.4250 - val_accuracy: 0.3900\n",
            "\n",
            "Epoch 00030: loss did not improve from 3.37286\n"
          ],
          "name": "stdout"
        }
      ]
    },
    {
      "cell_type": "markdown",
      "metadata": {
        "id": "YC8rg9uLv9Y3"
      },
      "source": [
        "Batch_size = 50:"
      ]
    },
    {
      "cell_type": "code",
      "metadata": {
        "colab": {
          "base_uri": "https://localhost:8080/"
        },
        "id": "lCfvXx9i0Wtf",
        "outputId": "0c1de8cc-c9a9-47f5-aa5a-d1867c565ec2"
      },
      "source": [
        "history_finetunning = model.fit_generator(generator=train_generator,\n",
        "                                          steps_per_epoch=25,\n",
        "                                          validation_data=valid_generator,\n",
        "                                          validation_steps=20,\n",
        "                                          epochs=EPOCHS,\n",
        "                                          callbacks=callback_list,\n",
        "                                          class_weight = class_weight,\n",
        "                                          verbose=1).history\n",
        "\n",
        "model.save(\"drive/My Drive/Pattern Recognition/DR models/model_8.h5\")"
      ],
      "execution_count": null,
      "outputs": [
        {
          "output_type": "stream",
          "text": [
            "/usr/local/lib/python3.7/dist-packages/tensorflow/python/keras/engine/training.py:1844: UserWarning: `Model.fit_generator` is deprecated and will be removed in a future version. Please use `Model.fit`, which supports generators.\n",
            "  warnings.warn('`Model.fit_generator` is deprecated and '\n"
          ],
          "name": "stderr"
        },
        {
          "output_type": "stream",
          "text": [
            "Epoch 1/40\n",
            "25/25 [==============================] - 1238s 49s/step - loss: 3.1149 - accuracy: 0.4670 - val_loss: 1.2279 - val_accuracy: 0.4600\n",
            "\n",
            "Epoch 00001: loss improved from inf to 3.08811, saving model to drive/My Drive/Pattern Recognition/DR models/model_8_2.h5\n",
            "Epoch 2/40\n",
            "25/25 [==============================] - 1231s 49s/step - loss: 3.0381 - accuracy: 0.4758 - val_loss: 1.2370 - val_accuracy: 0.4450\n",
            "\n",
            "Epoch 00002: loss improved from 3.08811 to 3.08081, saving model to drive/My Drive/Pattern Recognition/DR models/model_8_2.h5\n",
            "Epoch 3/40\n",
            "25/25 [==============================] - 1235s 50s/step - loss: 3.1096 - accuracy: 0.4606 - val_loss: 1.2377 - val_accuracy: 0.4750\n",
            "\n",
            "Epoch 00003: loss did not improve from 3.08081\n",
            "Epoch 4/40\n",
            "25/25 [==============================] - 1230s 49s/step - loss: 3.1019 - accuracy: 0.4703 - val_loss: 1.1871 - val_accuracy: 0.5110\n",
            "\n",
            "Epoch 00004: loss improved from 3.08081 to 3.04920, saving model to drive/My Drive/Pattern Recognition/DR models/model_8_2.h5\n",
            "Epoch 5/40\n",
            "25/25 [==============================] - 1244s 50s/step - loss: 2.9162 - accuracy: 0.4975 - val_loss: 1.1903 - val_accuracy: 0.4970\n",
            "\n",
            "Epoch 00005: loss improved from 3.04920 to 2.96867, saving model to drive/My Drive/Pattern Recognition/DR models/model_8_2.h5\n",
            "Epoch 6/40\n",
            "25/25 [==============================] - 1250s 50s/step - loss: 2.8573 - accuracy: 0.5033 - val_loss: 1.1770 - val_accuracy: 0.4980\n",
            "\n",
            "Epoch 00006: loss improved from 2.96867 to 2.92056, saving model to drive/My Drive/Pattern Recognition/DR models/model_8_2.h5\n",
            "Epoch 7/40\n",
            "25/25 [==============================] - 1252s 50s/step - loss: 3.1503 - accuracy: 0.4657 - val_loss: 1.1666 - val_accuracy: 0.5260\n",
            "\n",
            "Epoch 00007: loss did not improve from 2.92056\n",
            "Epoch 8/40\n",
            "25/25 [==============================] - 1247s 50s/step - loss: 2.9661 - accuracy: 0.5020 - val_loss: 1.1718 - val_accuracy: 0.5040\n",
            "\n",
            "Epoch 00008: loss did not improve from 2.92056\n",
            "Epoch 9/40\n",
            "25/25 [==============================] - 1250s 50s/step - loss: 2.9581 - accuracy: 0.4939 - val_loss: 1.1458 - val_accuracy: 0.5250\n",
            "\n",
            "Epoch 00009: loss did not improve from 2.92056\n",
            "Epoch 10/40\n",
            "25/25 [==============================] - 1253s 50s/step - loss: 2.9324 - accuracy: 0.4914 - val_loss: 1.1793 - val_accuracy: 0.5040\n",
            "\n",
            "Epoch 00010: loss improved from 2.92056 to 2.89340, saving model to drive/My Drive/Pattern Recognition/DR models/model_8_2.h5\n",
            "Epoch 11/40\n",
            "25/25 [==============================] - 1244s 50s/step - loss: 2.9161 - accuracy: 0.5270 - val_loss: 1.1572 - val_accuracy: 0.5040\n",
            "\n",
            "Epoch 00011: loss did not improve from 2.89340\n",
            "Epoch 12/40\n",
            "25/25 [==============================] - 1243s 50s/step - loss: 2.8958 - accuracy: 0.4906 - val_loss: 1.1771 - val_accuracy: 0.5040\n",
            "\n",
            "Epoch 00012: ReduceLROnPlateau reducing learning rate to 4.999999873689376e-05.\n",
            "\n",
            "Epoch 00012: loss improved from 2.89340 to 2.88032, saving model to drive/My Drive/Pattern Recognition/DR models/model_8_2.h5\n",
            "Epoch 13/40\n",
            "25/25 [==============================] - 1226s 49s/step - loss: 2.8410 - accuracy: 0.5364 - val_loss: 1.1941 - val_accuracy: 0.4850\n",
            "\n",
            "Epoch 00013: loss improved from 2.88032 to 2.85101, saving model to drive/My Drive/Pattern Recognition/DR models/model_8_2.h5\n",
            "Epoch 14/40\n",
            "25/25 [==============================] - 1243s 50s/step - loss: 2.8977 - accuracy: 0.5272 - val_loss: 1.1336 - val_accuracy: 0.5400\n",
            "\n",
            "Epoch 00014: loss did not improve from 2.85101\n",
            "Epoch 15/40\n",
            "25/25 [==============================] - 1249s 50s/step - loss: 2.7901 - accuracy: 0.5433 - val_loss: 1.1015 - val_accuracy: 0.5360\n",
            "\n",
            "Epoch 00015: loss improved from 2.85101 to 2.80826, saving model to drive/My Drive/Pattern Recognition/DR models/model_8_2.h5\n",
            "Epoch 16/40\n",
            "25/25 [==============================] - 1266s 51s/step - loss: 2.8281 - accuracy: 0.5459 - val_loss: 1.0865 - val_accuracy: 0.5480\n",
            "\n",
            "Epoch 00016: loss improved from 2.80826 to 2.80001, saving model to drive/My Drive/Pattern Recognition/DR models/model_8_2.h5\n",
            "Epoch 17/40\n",
            "25/25 [==============================] - 1253s 50s/step - loss: 2.8419 - accuracy: 0.5076 - val_loss: 1.1065 - val_accuracy: 0.5220\n",
            "\n",
            "Epoch 00017: loss did not improve from 2.80001\n",
            "Epoch 18/40\n",
            "25/25 [==============================] - 1261s 51s/step - loss: 2.7135 - accuracy: 0.5600 - val_loss: 1.1540 - val_accuracy: 0.5120\n",
            "\n",
            "Epoch 00018: loss improved from 2.80001 to 2.78092, saving model to drive/My Drive/Pattern Recognition/DR models/model_8_2.h5\n",
            "Epoch 19/40\n",
            "25/25 [==============================] - ETA: 0s - loss: 2.7495 - accuracy: 0.5358 "
          ],
          "name": "stdout"
        }
      ]
    },
    {
      "cell_type": "code",
      "metadata": {
        "colab": {
          "base_uri": "https://localhost:8080/"
        },
        "id": "tPVNwJTev9BG",
        "outputId": "1a02663b-952d-44ab-c39f-478b32734c3c"
      },
      "source": [
        "history_finetunning = model.fit_generator(generator=train_generator,\n",
        "                                          steps_per_epoch=25,\n",
        "                                          validation_data=valid_generator,\n",
        "                                          validation_steps=20,\n",
        "                                          epochs=EPOCHS,\n",
        "                                          callbacks=callback_list,\n",
        "                                          class_weight = class_weight,\n",
        "                                          verbose=1).history\n",
        "\n",
        "model.save(\"drive/My Drive/Pattern Recognition/DR models/model_8.h5\")"
      ],
      "execution_count": null,
      "outputs": [
        {
          "output_type": "stream",
          "text": [
            "/usr/local/lib/python3.7/dist-packages/tensorflow/python/keras/engine/training.py:1844: UserWarning: `Model.fit_generator` is deprecated and will be removed in a future version. Please use `Model.fit`, which supports generators.\n",
            "  warnings.warn('`Model.fit_generator` is deprecated and '\n"
          ],
          "name": "stderr"
        },
        {
          "output_type": "stream",
          "text": [
            "Epoch 1/40\n",
            "25/25 [==============================] - 1311s 52s/step - loss: 4.0380 - accuracy: 0.2096 - val_loss: 1.6100 - val_accuracy: 0.1920\n",
            "\n",
            "Epoch 00001: loss improved from inf to 4.03802, saving model to drive/My Drive/Pattern Recognition/DR models/model_8_1.h5\n",
            "Epoch 2/40\n",
            "25/25 [==============================] - 1298s 52s/step - loss: 4.0307 - accuracy: 0.2192 - val_loss: 1.6105 - val_accuracy: 0.2350\n",
            "\n",
            "Epoch 00002: loss improved from 4.03802 to 4.03072, saving model to drive/My Drive/Pattern Recognition/DR models/model_8_1.h5\n",
            "Epoch 3/40\n",
            "25/25 [==============================] - 1285s 52s/step - loss: 4.0185 - accuracy: 0.2152 - val_loss: 1.6061 - val_accuracy: 0.2070\n",
            "\n",
            "Epoch 00003: loss improved from 4.03072 to 4.01850, saving model to drive/My Drive/Pattern Recognition/DR models/model_8_1.h5\n",
            "Epoch 4/40\n",
            "25/25 [==============================] - 1262s 51s/step - loss: 4.0263 - accuracy: 0.2570 - val_loss: 1.6028 - val_accuracy: 0.3100\n",
            "\n",
            "Epoch 00004: loss did not improve from 4.01850\n",
            "Epoch 5/40\n",
            "25/25 [==============================] - 1274s 51s/step - loss: 3.9909 - accuracy: 0.2536 - val_loss: 1.5922 - val_accuracy: 0.2410\n",
            "\n",
            "Epoch 00005: loss improved from 4.01850 to 3.99093, saving model to drive/My Drive/Pattern Recognition/DR models/model_8_1.h5\n",
            "Epoch 6/40\n",
            "25/25 [==============================] - 1294s 52s/step - loss: 3.9688 - accuracy: 0.2632 - val_loss: 1.5709 - val_accuracy: 0.3080\n",
            "\n",
            "Epoch 00006: loss improved from 3.99093 to 3.96885, saving model to drive/My Drive/Pattern Recognition/DR models/model_8_1.h5\n",
            "Epoch 7/40\n",
            "25/25 [==============================] - 1281s 52s/step - loss: 3.8918 - accuracy: 0.2776 - val_loss: 1.5297 - val_accuracy: 0.2900\n",
            "\n",
            "Epoch 00007: loss improved from 3.96885 to 3.89176, saving model to drive/My Drive/Pattern Recognition/DR models/model_8_1.h5\n",
            "Epoch 8/40\n",
            "25/25 [==============================] - 1273s 51s/step - loss: 3.8521 - accuracy: 0.2968 - val_loss: 1.5241 - val_accuracy: 0.3120\n",
            "\n",
            "Epoch 00008: loss improved from 3.89176 to 3.85205, saving model to drive/My Drive/Pattern Recognition/DR models/model_8_1.h5\n",
            "Epoch 9/40\n",
            "25/25 [==============================] - 1291s 52s/step - loss: 3.8542 - accuracy: 0.3008 - val_loss: 1.5518 - val_accuracy: 0.2910\n",
            "\n",
            "Epoch 00009: loss did not improve from 3.85205\n",
            "Epoch 10/40\n",
            "25/25 [==============================] - 1268s 51s/step - loss: 3.8338 - accuracy: 0.2864 - val_loss: 1.5022 - val_accuracy: 0.3490\n",
            "\n",
            "Epoch 00010: loss improved from 3.85205 to 3.83384, saving model to drive/My Drive/Pattern Recognition/DR models/model_8_1.h5\n",
            "Epoch 11/40\n",
            "25/25 [==============================] - 1272s 51s/step - loss: 3.7882 - accuracy: 0.3040 - val_loss: 1.5246 - val_accuracy: 0.3070\n",
            "\n",
            "Epoch 00011: loss improved from 3.83384 to 3.78820, saving model to drive/My Drive/Pattern Recognition/DR models/model_8_1.h5\n",
            "Epoch 12/40\n",
            "25/25 [==============================] - 1280s 51s/step - loss: 3.7280 - accuracy: 0.3392 - val_loss: 1.4950 - val_accuracy: 0.3510\n",
            "\n",
            "Epoch 00012: loss improved from 3.78820 to 3.72801, saving model to drive/My Drive/Pattern Recognition/DR models/model_8_1.h5\n",
            "Epoch 13/40\n",
            "25/25 [==============================] - 1269s 51s/step - loss: 3.6897 - accuracy: 0.3432 - val_loss: 1.4960 - val_accuracy: 0.3360\n",
            "\n",
            "Epoch 00013: loss improved from 3.72801 to 3.68972, saving model to drive/My Drive/Pattern Recognition/DR models/model_8_1.h5\n",
            "Epoch 14/40\n",
            "25/25 [==============================] - 1266s 51s/step - loss: 3.7729 - accuracy: 0.3384 - val_loss: 1.4882 - val_accuracy: 0.3470\n",
            "\n",
            "Epoch 00014: loss did not improve from 3.68972\n",
            "Epoch 15/40\n",
            "25/25 [==============================] - 1280s 52s/step - loss: 3.7454 - accuracy: 0.3280 - val_loss: 1.4664 - val_accuracy: 0.3750\n",
            "\n",
            "Epoch 00015: loss did not improve from 3.68972\n",
            "Epoch 16/40\n",
            "25/25 [==============================] - 1272s 51s/step - loss: 3.6891 - accuracy: 0.3488 - val_loss: 1.4758 - val_accuracy: 0.3420\n",
            "\n",
            "Epoch 00016: loss improved from 3.68972 to 3.68912, saving model to drive/My Drive/Pattern Recognition/DR models/model_8_1.h5\n",
            "Epoch 17/40\n",
            "25/25 [==============================] - 1273s 51s/step - loss: 3.6713 - accuracy: 0.3488 - val_loss: 1.4688 - val_accuracy: 0.3370\n",
            "\n",
            "Epoch 00017: loss improved from 3.68912 to 3.67128, saving model to drive/My Drive/Pattern Recognition/DR models/model_8_1.h5\n",
            "Epoch 18/40\n",
            "25/25 [==============================] - 1284s 52s/step - loss: 3.5673 - accuracy: 0.3792 - val_loss: 1.4626 - val_accuracy: 0.3570\n",
            "\n",
            "Epoch 00018: loss improved from 3.67128 to 3.56728, saving model to drive/My Drive/Pattern Recognition/DR models/model_8_1.h5\n",
            "Epoch 19/40\n",
            "25/25 [==============================] - 1275s 51s/step - loss: 3.6029 - accuracy: 0.3584 - val_loss: 1.4541 - val_accuracy: 0.3520\n",
            "\n",
            "Epoch 00019: loss did not improve from 3.56728\n",
            "Epoch 20/40\n",
            "25/25 [==============================] - 1277s 51s/step - loss: 3.5575 - accuracy: 0.3584 - val_loss: 1.4310 - val_accuracy: 0.3740\n",
            "\n",
            "Epoch 00020: loss improved from 3.56728 to 3.55746, saving model to drive/My Drive/Pattern Recognition/DR models/model_8_1.h5\n",
            "Epoch 21/40\n",
            "25/25 [==============================] - 1257s 51s/step - loss: 3.5468 - accuracy: 0.3842 - val_loss: 1.4149 - val_accuracy: 0.3690\n",
            "\n",
            "Epoch 00021: loss improved from 3.55746 to 3.54683, saving model to drive/My Drive/Pattern Recognition/DR models/model_8_1.h5\n",
            "Epoch 22/40\n",
            "25/25 [==============================] - 1290s 52s/step - loss: 3.4116 - accuracy: 0.4160 - val_loss: 1.3591 - val_accuracy: 0.4230\n",
            "\n",
            "Epoch 00022: loss improved from 3.54683 to 3.41155, saving model to drive/My Drive/Pattern Recognition/DR models/model_8_1.h5\n",
            "Epoch 23/40\n",
            "25/25 [==============================] - 1280s 52s/step - loss: 3.5034 - accuracy: 0.3624 - val_loss: 1.3693 - val_accuracy: 0.3990\n",
            "\n",
            "Epoch 00023: loss did not improve from 3.41155\n",
            "Epoch 24/40\n",
            "25/25 [==============================] - 1253s 50s/step - loss: 3.3862 - accuracy: 0.4154 - val_loss: 1.3439 - val_accuracy: 0.4250\n",
            "\n",
            "Epoch 00024: loss improved from 3.41155 to 3.38625, saving model to drive/My Drive/Pattern Recognition/DR models/model_8_1.h5\n",
            "Epoch 25/40\n",
            "25/25 [==============================] - 1262s 51s/step - loss: 3.3827 - accuracy: 0.3998 - val_loss: 1.3248 - val_accuracy: 0.4320\n",
            "\n",
            "Epoch 00025: loss improved from 3.38625 to 3.38271, saving model to drive/My Drive/Pattern Recognition/DR models/model_8_1.h5\n",
            "Epoch 26/40\n",
            "25/25 [==============================] - 1294s 52s/step - loss: 3.2666 - accuracy: 0.4392 - val_loss: 1.2834 - val_accuracy: 0.4500\n",
            "\n",
            "Epoch 00026: loss improved from 3.38271 to 3.26660, saving model to drive/My Drive/Pattern Recognition/DR models/model_8_1.h5\n",
            "Epoch 27/40\n",
            "25/25 [==============================] - 1280s 52s/step - loss: 3.3455 - accuracy: 0.4016 - val_loss: 1.3516 - val_accuracy: 0.4160\n",
            "\n",
            "Epoch 00027: loss did not improve from 3.26660\n",
            "Epoch 28/40\n",
            "25/25 [==============================] - 1249s 50s/step - loss: 3.2788 - accuracy: 0.4335 - val_loss: 1.2932 - val_accuracy: 0.4420\n",
            "\n",
            "Epoch 00028: loss did not improve from 3.26660\n",
            "Epoch 29/40\n",
            "25/25 [==============================] - 1272s 51s/step - loss: 3.2967 - accuracy: 0.4160 - val_loss: 1.2569 - val_accuracy: 0.4580\n",
            "\n",
            "Epoch 00029: loss did not improve from 3.26660\n",
            "Epoch 30/40\n",
            "25/25 [==============================] - 1290s 52s/step - loss: 3.2118 - accuracy: 0.4672 - val_loss: 1.2485 - val_accuracy: 0.4610\n",
            "\n",
            "Epoch 00030: loss improved from 3.26660 to 3.21183, saving model to drive/My Drive/Pattern Recognition/DR models/model_8_1.h5\n",
            "Epoch 31/40\n",
            "25/25 [==============================] - 1283s 52s/step - loss: 3.0808 - accuracy: 0.4688 - val_loss: 1.2388 - val_accuracy: 0.4880\n",
            "\n",
            "Epoch 00031: loss improved from 3.21183 to 3.08082, saving model to drive/My Drive/Pattern Recognition/DR models/model_8_1.h5\n",
            "Epoch 32/40\n",
            "25/25 [==============================] - 1286s 52s/step - loss: 3.0006 - accuracy: 0.5040 - val_loss: 1.2694 - val_accuracy: 0.4550\n",
            "\n",
            "Epoch 00032: loss improved from 3.08082 to 3.00059, saving model to drive/My Drive/Pattern Recognition/DR models/model_8_1.h5\n",
            "Epoch 33/40\n",
            "25/25 [==============================] - 1296s 52s/step - loss: 3.0378 - accuracy: 0.4848 - val_loss: 1.2643 - val_accuracy: 0.4680\n",
            "\n",
            "Epoch 00033: loss did not improve from 3.00059\n",
            "Epoch 34/40\n",
            " 2/25 [=>............................] - ETA: 15:47 - loss: 3.1620 - accuracy: 0.4000"
          ],
          "name": "stdout"
        }
      ]
    },
    {
      "cell_type": "code",
      "metadata": {
        "colab": {
          "base_uri": "https://localhost:8080/"
        },
        "id": "MocUYuq_2_NK",
        "outputId": "c2e480bf-011f-4eaf-ce30-8790df515075"
      },
      "source": [
        "history_finetunning = model.fit_generator(generator=train_generator,\n",
        "                                          steps_per_epoch=25,\n",
        "                                          validation_data=valid_generator,\n",
        "                                          validation_steps=20,\n",
        "                                          epochs=30,\n",
        "                                          callbacks=callback_list,\n",
        "                                          class_weight = class_weight,\n",
        "                                          verbose=1).history\n",
        "\n",
        "model.save(\"drive/My Drive/Pattern Recognition/DR models/model_8.h5\")"
      ],
      "execution_count": null,
      "outputs": [
        {
          "output_type": "stream",
          "text": [
            "/usr/local/lib/python3.7/dist-packages/tensorflow/python/keras/engine/training.py:1844: UserWarning: `Model.fit_generator` is deprecated and will be removed in a future version. Please use `Model.fit`, which supports generators.\n",
            "  warnings.warn('`Model.fit_generator` is deprecated and '\n"
          ],
          "name": "stderr"
        },
        {
          "output_type": "stream",
          "text": [
            "Epoch 1/30\n",
            "25/25 [==============================] - 1244s 50s/step - loss: 2.7756 - accuracy: 0.5148 - val_loss: 1.0859 - val_accuracy: 0.5610\n",
            "\n",
            "Epoch 00001: loss improved from inf to 2.77564, saving model to drive/My Drive/Pattern Recognition/DR models/model_8_3.h5\n",
            "Epoch 2/30\n",
            "25/25 [==============================] - 1235s 50s/step - loss: 2.8064 - accuracy: 0.5088 - val_loss: 1.1378 - val_accuracy: 0.5280\n",
            "\n",
            "Epoch 00002: loss did not improve from 2.77564\n",
            "Epoch 3/30\n",
            "25/25 [==============================] - 1232s 49s/step - loss: 2.8078 - accuracy: 0.5240 - val_loss: 1.1151 - val_accuracy: 0.5510\n",
            "\n",
            "Epoch 00003: loss did not improve from 2.77564\n",
            "Epoch 4/30\n",
            "25/25 [==============================] - 1230s 49s/step - loss: 2.6751 - accuracy: 0.5408 - val_loss: 1.0699 - val_accuracy: 0.5340\n",
            "\n",
            "Epoch 00004: loss improved from 2.77564 to 2.67509, saving model to drive/My Drive/Pattern Recognition/DR models/model_8_3.h5\n",
            "Epoch 5/30\n",
            "25/25 [==============================] - 1233s 50s/step - loss: 2.7541 - accuracy: 0.5368 - val_loss: 1.0790 - val_accuracy: 0.5530\n",
            "\n",
            "Epoch 00005: loss did not improve from 2.67509\n",
            "Epoch 6/30\n",
            "25/25 [==============================] - 1238s 50s/step - loss: 2.6290 - accuracy: 0.5480 - val_loss: 1.0522 - val_accuracy: 0.5590\n",
            "\n",
            "Epoch 00006: loss improved from 2.67509 to 2.62898, saving model to drive/My Drive/Pattern Recognition/DR models/model_8_3.h5\n",
            "Epoch 7/30\n",
            "25/25 [==============================] - 1244s 50s/step - loss: 2.8037 - accuracy: 0.5544 - val_loss: 1.0905 - val_accuracy: 0.5140\n",
            "\n",
            "Epoch 00007: loss did not improve from 2.62898\n",
            "Epoch 8/30\n",
            "25/25 [==============================] - 1242s 50s/step - loss: 2.7741 - accuracy: 0.5456 - val_loss: 1.1394 - val_accuracy: 0.5330\n",
            "\n",
            "Epoch 00008: loss did not improve from 2.62898\n",
            "Epoch 9/30\n",
            "25/25 [==============================] - 1243s 50s/step - loss: 2.6864 - accuracy: 0.5432 - val_loss: 1.0731 - val_accuracy: 0.5500\n",
            "\n",
            "Epoch 00009: ReduceLROnPlateau reducing learning rate to 2.499999936844688e-05.\n",
            "\n",
            "Epoch 00009: loss did not improve from 2.62898\n",
            "Epoch 10/30\n",
            "25/25 [==============================] - 1243s 50s/step - loss: 2.6771 - accuracy: 0.5672 - val_loss: 1.0689 - val_accuracy: 0.5550\n",
            "\n",
            "Epoch 00010: loss did not improve from 2.62898\n",
            "Epoch 11/30\n",
            "25/25 [==============================] - 1248s 50s/step - loss: 2.5783 - accuracy: 0.5520 - val_loss: 1.0504 - val_accuracy: 0.5560\n",
            "\n",
            "Epoch 00011: loss improved from 2.62898 to 2.57830, saving model to drive/My Drive/Pattern Recognition/DR models/model_8_3.h5\n",
            "Epoch 12/30\n",
            "25/25 [==============================] - 1252s 50s/step - loss: 2.6793 - accuracy: 0.5456 - val_loss: 1.0598 - val_accuracy: 0.5530\n",
            "\n",
            "Epoch 00012: loss did not improve from 2.57830\n",
            "Epoch 13/30\n",
            "25/25 [==============================] - 1250s 50s/step - loss: 2.5306 - accuracy: 0.5792 - val_loss: 1.0808 - val_accuracy: 0.5440\n",
            "\n",
            "Epoch 00013: loss improved from 2.57830 to 2.53063, saving model to drive/My Drive/Pattern Recognition/DR models/model_8_3.h5\n",
            "Epoch 14/30\n",
            "25/25 [==============================] - 1261s 51s/step - loss: 2.6401 - accuracy: 0.5616 - val_loss: 1.0530 - val_accuracy: 0.5810\n",
            "\n",
            "Epoch 00014: ReduceLROnPlateau reducing learning rate to 1.249999968422344e-05.\n",
            "\n",
            "Epoch 00014: loss did not improve from 2.53063\n",
            "Epoch 15/30\n",
            "25/25 [==============================] - 1274s 51s/step - loss: 2.5765 - accuracy: 0.5800 - val_loss: 1.0558 - val_accuracy: 0.5470\n",
            "\n",
            "Epoch 00015: loss did not improve from 2.53063\n",
            "Epoch 16/30\n",
            "25/25 [==============================] - 1288s 52s/step - loss: 2.4910 - accuracy: 0.5936 - val_loss: 1.0695 - val_accuracy: 0.5790\n",
            "Restoring model weights from the end of the best epoch.\n",
            "\n",
            "Epoch 00016: loss improved from 2.53063 to 2.49097, saving model to drive/My Drive/Pattern Recognition/DR models/model_8_3.h5\n",
            "Epoch 00016: early stopping\n"
          ],
          "name": "stdout"
        }
      ]
    },
    {
      "cell_type": "code",
      "metadata": {
        "colab": {
          "base_uri": "https://localhost:8080/"
        },
        "id": "bYeMPKHmRY8R",
        "outputId": "4bcf28eb-d65e-4258-c4f5-525eaeaa7858"
      },
      "source": [
        "history_finetunning = model.fit_generator(generator=train_generator,\n",
        "                                          steps_per_epoch=25,\n",
        "                                          validation_data=valid_generator,\n",
        "                                          validation_steps=20,\n",
        "                                          epochs=30,\n",
        "                                          callbacks=callback_list,\n",
        "                                          class_weight = class_weight,\n",
        "                                          verbose=1).history\n",
        "\n",
        "model.save(\"drive/My Drive/Pattern Recognition/DR models/model_9.h5\")"
      ],
      "execution_count": null,
      "outputs": [
        {
          "output_type": "stream",
          "text": [
            "/usr/local/lib/python3.7/dist-packages/tensorflow/python/keras/engine/training.py:1844: UserWarning: `Model.fit_generator` is deprecated and will be removed in a future version. Please use `Model.fit`, which supports generators.\n",
            "  warnings.warn('`Model.fit_generator` is deprecated and '\n"
          ],
          "name": "stderr"
        },
        {
          "output_type": "stream",
          "text": [
            "Epoch 1/30\n",
            "25/25 [==============================] - 1265s 51s/step - loss: 2.7740 - accuracy: 0.5271 - val_loss: 1.0898 - val_accuracy: 0.5390\n",
            "\n",
            "Epoch 00001: loss improved from inf to 2.67567, saving model to drive/My Drive/Pattern Recognition/DR models/model_9_1.h5\n",
            "Epoch 2/30\n",
            "25/25 [==============================] - 1262s 51s/step - loss: 2.8350 - accuracy: 0.5236 - val_loss: 1.0992 - val_accuracy: 0.5310\n",
            "\n",
            "Epoch 00002: loss did not improve from 2.67567\n",
            "Epoch 3/30\n",
            "25/25 [==============================] - 1254s 50s/step - loss: 2.5613 - accuracy: 0.5686 - val_loss: 1.0638 - val_accuracy: 0.5420\n",
            "\n",
            "Epoch 00003: loss improved from 2.67567 to 2.54925, saving model to drive/My Drive/Pattern Recognition/DR models/model_9_1.h5\n",
            "Epoch 4/30\n",
            "25/25 [==============================] - 1253s 50s/step - loss: 2.5438 - accuracy: 0.5522 - val_loss: 1.0538 - val_accuracy: 0.5510\n",
            "\n",
            "Epoch 00004: loss did not improve from 2.54925\n",
            "Epoch 5/30\n",
            "25/25 [==============================] - 1258s 51s/step - loss: 2.6654 - accuracy: 0.5454 - val_loss: 1.1265 - val_accuracy: 0.5220\n",
            "\n",
            "Epoch 00005: loss did not improve from 2.54925\n",
            "Epoch 6/30\n",
            "25/25 [==============================] - 1291s 52s/step - loss: 2.6580 - accuracy: 0.5558 - val_loss: 1.0752 - val_accuracy: 0.5370\n",
            "\n",
            "Epoch 00006: loss did not improve from 2.54925\n",
            "Epoch 7/30\n",
            "25/25 [==============================] - 1295s 52s/step - loss: 2.5801 - accuracy: 0.5506 - val_loss: 1.0351 - val_accuracy: 0.5550\n",
            "\n",
            "Epoch 00007: loss did not improve from 2.54925\n",
            "Epoch 8/30\n",
            "25/25 [==============================] - 1283s 51s/step - loss: 2.5286 - accuracy: 0.6034 - val_loss: 1.0468 - val_accuracy: 0.5880\n",
            "\n",
            "Epoch 00008: loss did not improve from 2.54925\n",
            "Epoch 9/30\n",
            "25/25 [==============================] - 1269s 51s/step - loss: 2.6454 - accuracy: 0.5226 - val_loss: 1.0534 - val_accuracy: 0.5560\n",
            "\n",
            "Epoch 00009: loss did not improve from 2.54925\n",
            "Epoch 10/30\n",
            "25/25 [==============================] - 1257s 51s/step - loss: 2.4445 - accuracy: 0.5704 - val_loss: 1.1011 - val_accuracy: 0.5400\n",
            "\n",
            "Epoch 00010: ReduceLROnPlateau reducing learning rate to 4.999999873689376e-05.\n",
            "\n",
            "Epoch 00010: loss improved from 2.54925 to 2.53815, saving model to drive/My Drive/Pattern Recognition/DR models/model_9_1.h5\n",
            "Epoch 11/30\n",
            "25/25 [==============================] - 1278s 51s/step - loss: 2.6591 - accuracy: 0.5562 - val_loss: 1.0351 - val_accuracy: 0.5640\n",
            "\n",
            "Epoch 00011: loss did not improve from 2.53815\n",
            "Epoch 12/30\n",
            "25/25 [==============================] - 1304s 52s/step - loss: 2.5253 - accuracy: 0.5719 - val_loss: 1.0259 - val_accuracy: 0.5600\n",
            "\n",
            "Epoch 00012: loss improved from 2.53815 to 2.52618, saving model to drive/My Drive/Pattern Recognition/DR models/model_9_1.h5\n",
            "Epoch 13/30\n",
            "25/25 [==============================] - 1287s 51s/step - loss: 2.4766 - accuracy: 0.5732 - val_loss: 0.9882 - val_accuracy: 0.6070\n",
            "\n",
            "Epoch 00013: loss did not improve from 2.52618\n",
            "Epoch 14/30\n",
            "25/25 [==============================] - 1259s 51s/step - loss: 2.5211 - accuracy: 0.5787 - val_loss: 1.0655 - val_accuracy: 0.5480\n",
            "\n",
            "Epoch 00014: loss did not improve from 2.52618\n",
            "Epoch 15/30\n",
            "25/25 [==============================] - 1262s 51s/step - loss: 2.5122 - accuracy: 0.5857 - val_loss: 1.0397 - val_accuracy: 0.5720\n",
            "\n",
            "Epoch 00015: loss improved from 2.52618 to 2.50518, saving model to drive/My Drive/Pattern Recognition/DR models/model_9_1.h5\n",
            "Epoch 16/30\n",
            " 4/25 [===>..........................] - ETA: 14:49 - loss: 2.3124 - accuracy: 0.6012"
          ],
          "name": "stdout"
        }
      ]
    },
    {
      "cell_type": "code",
      "metadata": {
        "colab": {
          "base_uri": "https://localhost:8080/"
        },
        "id": "pohj1POmc7y3",
        "outputId": "8b14367e-c4ed-46de-9f2a-45f5b9599a86"
      },
      "source": [
        "history_finetunning = model.fit_generator(generator=train_generator,\n",
        "                                          steps_per_epoch=25,\n",
        "                                          validation_data=valid_generator,\n",
        "                                          validation_steps=20,\n",
        "                                          epochs=30,\n",
        "                                          callbacks=callback_list,\n",
        "                                          class_weight = class_weight,\n",
        "                                          verbose=1).history\n",
        "\n",
        "model.save(\"drive/My Drive/Pattern Recognition/DR models/model_9.h5\")"
      ],
      "execution_count": null,
      "outputs": [
        {
          "output_type": "stream",
          "text": [
            "/usr/local/lib/python3.7/dist-packages/tensorflow/python/keras/engine/training.py:1844: UserWarning: `Model.fit_generator` is deprecated and will be removed in a future version. Please use `Model.fit`, which supports generators.\n",
            "  warnings.warn('`Model.fit_generator` is deprecated and '\n"
          ],
          "name": "stderr"
        },
        {
          "output_type": "stream",
          "text": [
            "Epoch 1/30\n",
            "25/25 [==============================] - 1254s 50s/step - loss: 2.5715 - accuracy: 0.5768 - val_loss: 1.0631 - val_accuracy: 0.5790\n",
            "\n",
            "Epoch 00001: loss improved from inf to 2.57150, saving model to drive/My Drive/Pattern Recognition/DR models/model_9_2.h5\n",
            "Epoch 2/30\n",
            "25/25 [==============================] - 1314s 53s/step - loss: 2.5358 - accuracy: 0.5872 - val_loss: 1.0092 - val_accuracy: 0.5860\n",
            "\n",
            "Epoch 00002: loss improved from 2.57150 to 2.53583, saving model to drive/My Drive/Pattern Recognition/DR models/model_9_2.h5\n",
            "Epoch 3/30\n",
            "25/25 [==============================] - 1315s 53s/step - loss: 2.5806 - accuracy: 0.5648 - val_loss: 0.9878 - val_accuracy: 0.6030\n",
            "\n",
            "Epoch 00003: loss did not improve from 2.53583\n",
            "Epoch 4/30\n",
            "25/25 [==============================] - 1233s 49s/step - loss: 2.6268 - accuracy: 0.5796 - val_loss: 1.0001 - val_accuracy: 0.6010\n",
            "\n",
            "Epoch 00004: loss did not improve from 2.53583\n",
            "Epoch 5/30\n",
            "25/25 [==============================] - 1301s 52s/step - loss: 2.5478 - accuracy: 0.5784 - val_loss: 1.0061 - val_accuracy: 0.6040\n",
            "\n",
            "Epoch 00005: loss did not improve from 2.53583\n",
            "Epoch 6/30\n",
            "25/25 [==============================] - 1267s 51s/step - loss: 2.5754 - accuracy: 0.5784 - val_loss: 1.0221 - val_accuracy: 0.5840\n",
            "\n",
            "Epoch 00006: ReduceLROnPlateau reducing learning rate to 2.499999936844688e-05.\n",
            "\n",
            "Epoch 00006: loss did not improve from 2.53583\n",
            "Epoch 7/30\n",
            "25/25 [==============================] - 1314s 53s/step - loss: 2.5945 - accuracy: 0.5480 - val_loss: 0.9477 - val_accuracy: 0.6240\n",
            "\n",
            "Epoch 00007: loss did not improve from 2.53583\n",
            "Epoch 8/30\n",
            "25/25 [==============================] - 1290s 52s/step - loss: 2.4596 - accuracy: 0.6008 - val_loss: 0.9866 - val_accuracy: 0.5900\n",
            "\n",
            "Epoch 00008: loss improved from 2.53583 to 2.45956, saving model to drive/My Drive/Pattern Recognition/DR models/model_9_2.h5\n",
            "Epoch 9/30\n",
            "25/25 [==============================] - 1287s 52s/step - loss: 2.4062 - accuracy: 0.6096 - val_loss: 0.9952 - val_accuracy: 0.6090\n",
            "\n",
            "Epoch 00009: loss improved from 2.45956 to 2.40623, saving model to drive/My Drive/Pattern Recognition/DR models/model_9_2.h5\n",
            "Epoch 10/30\n",
            "25/25 [==============================] - 1292s 52s/step - loss: 2.4632 - accuracy: 0.5936 - val_loss: 0.9984 - val_accuracy: 0.5880\n",
            "\n",
            "Epoch 00010: ReduceLROnPlateau reducing learning rate to 1.249999968422344e-05.\n",
            "\n",
            "Epoch 00010: loss did not improve from 2.40623\n",
            "Epoch 11/30\n",
            "25/25 [==============================] - 1329s 54s/step - loss: 2.3722 - accuracy: 0.6104 - val_loss: 0.9355 - val_accuracy: 0.6330\n",
            "\n",
            "Epoch 00011: loss improved from 2.40623 to 2.37218, saving model to drive/My Drive/Pattern Recognition/DR models/model_9_2.h5\n",
            "Epoch 12/30\n",
            "25/25 [==============================] - 1325s 53s/step - loss: 2.3466 - accuracy: 0.6056 - val_loss: 0.9823 - val_accuracy: 0.6110\n",
            "\n",
            "Epoch 00012: loss improved from 2.37218 to 2.34663, saving model to drive/My Drive/Pattern Recognition/DR models/model_9_2.h5\n",
            "Epoch 13/30\n",
            "25/25 [==============================] - 1330s 53s/step - loss: 2.4259 - accuracy: 0.5936 - val_loss: 0.9701 - val_accuracy: 0.6040\n",
            "\n",
            "Epoch 00013: loss did not improve from 2.34663\n",
            "Epoch 14/30\n",
            "25/25 [==============================] - 1303s 52s/step - loss: 2.4248 - accuracy: 0.6160 - val_loss: 0.9918 - val_accuracy: 0.6000\n",
            "\n",
            "Epoch 00014: ReduceLROnPlateau reducing learning rate to 6.24999984211172e-06.\n",
            "\n",
            "Epoch 00014: loss did not improve from 2.34663\n",
            "Epoch 15/30\n",
            "25/25 [==============================] - 1284s 52s/step - loss: 2.4157 - accuracy: 0.5920 - val_loss: 0.9539 - val_accuracy: 0.6040\n",
            "\n",
            "Epoch 00015: loss did not improve from 2.34663\n",
            "Epoch 16/30\n",
            "25/25 [==============================] - 1305s 52s/step - loss: 2.4082 - accuracy: 0.5944 - val_loss: 0.9823 - val_accuracy: 0.6010\n",
            "Restoring model weights from the end of the best epoch.\n",
            "\n",
            "Epoch 00016: loss did not improve from 2.34663\n",
            "Epoch 00016: early stopping\n"
          ],
          "name": "stdout"
        }
      ]
    },
    {
      "cell_type": "code",
      "metadata": {
        "colab": {
          "base_uri": "https://localhost:8080/"
        },
        "id": "lNoAdmaDdVPx",
        "outputId": "f3c07b16-dc3c-459a-b1ab-941c71e50f2b"
      },
      "source": [
        "history_finetunning = model.fit_generator(generator=train_generator,\n",
        "                                          steps_per_epoch=25,\n",
        "                                          validation_data=valid_generator,\n",
        "                                          validation_steps=30,\n",
        "                                          epochs=30,\n",
        "                                          callbacks=callback_list,\n",
        "                                          class_weight = class_weight,\n",
        "                                          verbose=1).history\n",
        "\n",
        "model.save(\"drive/My Drive/Pattern Recognition/DR models/model_10.h5\")"
      ],
      "execution_count": null,
      "outputs": [
        {
          "output_type": "stream",
          "text": [
            "/usr/local/lib/python3.7/dist-packages/tensorflow/python/keras/engine/training.py:1844: UserWarning: `Model.fit_generator` is deprecated and will be removed in a future version. Please use `Model.fit`, which supports generators.\n",
            "  warnings.warn('`Model.fit_generator` is deprecated and '\n"
          ],
          "name": "stderr"
        },
        {
          "output_type": "stream",
          "text": [
            "Epoch 1/30\n",
            "25/25 [==============================] - 1318s 52s/step - loss: 2.4647 - accuracy: 0.5945 - val_loss: 0.9509 - val_accuracy: 0.5987\n",
            "\n",
            "Epoch 00001: loss improved from inf to 2.54415, saving model to drive/My Drive/Pattern Recognition/DR models/model_10_1.h5\n",
            "Epoch 2/30\n",
            "25/25 [==============================] - 1223s 49s/step - loss: 2.5741 - accuracy: 0.5961 - val_loss: 0.9501 - val_accuracy: 0.6033\n",
            "\n",
            "Epoch 00002: loss improved from 2.54415 to 2.50622, saving model to drive/My Drive/Pattern Recognition/DR models/model_10_1.h5\n",
            "Epoch 3/30\n",
            "25/25 [==============================] - 1210s 49s/step - loss: 2.3823 - accuracy: 0.5996 - val_loss: 0.9548 - val_accuracy: 0.6087\n",
            "\n",
            "Epoch 00003: loss improved from 2.50622 to 2.42669, saving model to drive/My Drive/Pattern Recognition/DR models/model_10_1.h5\n",
            "Epoch 4/30\n",
            "25/25 [==============================] - 1203s 48s/step - loss: 2.3230 - accuracy: 0.6159 - val_loss: 0.9655 - val_accuracy: 0.5860\n",
            "\n",
            "Epoch 00004: loss did not improve from 2.42669\n",
            "Epoch 5/30\n",
            "25/25 [==============================] - 1197s 48s/step - loss: 2.3524 - accuracy: 0.6062 - val_loss: 0.9472 - val_accuracy: 0.6147\n",
            "\n",
            "Epoch 00005: loss improved from 2.42669 to 2.37371, saving model to drive/My Drive/Pattern Recognition/DR models/model_10_1.h5\n",
            "Epoch 6/30\n",
            "25/25 [==============================] - 1198s 48s/step - loss: 2.4991 - accuracy: 0.6082 - val_loss: 0.9619 - val_accuracy: 0.5940\n",
            "\n",
            "Epoch 00006: loss did not improve from 2.37371\n",
            "Epoch 7/30\n",
            "25/25 [==============================] - 1206s 49s/step - loss: 2.4321 - accuracy: 0.6092 - val_loss: 0.9477 - val_accuracy: 0.6127\n",
            "\n",
            "Epoch 00007: loss did not improve from 2.37371\n",
            "Epoch 8/30\n",
            "25/25 [==============================] - 1213s 49s/step - loss: 2.5319 - accuracy: 0.6007 - val_loss: 0.9195 - val_accuracy: 0.6280\n",
            "\n",
            "Epoch 00008: loss did not improve from 2.37371\n",
            "Epoch 9/30\n",
            "25/25 [==============================] - 1286s 52s/step - loss: 2.4194 - accuracy: 0.5799 - val_loss: 0.9427 - val_accuracy: 0.6033\n",
            "\n",
            "Epoch 00009: loss did not improve from 2.37371\n",
            "Epoch 10/30\n",
            "25/25 [==============================] - 1327s 54s/step - loss: 2.3195 - accuracy: 0.6297 - val_loss: 0.9312 - val_accuracy: 0.6147\n",
            "\n",
            "Epoch 00010: loss improved from 2.37371 to 2.28156, saving model to drive/My Drive/Pattern Recognition/DR models/model_10_1.h5\n",
            "Epoch 11/30\n",
            "25/25 [==============================] - 1245s 50s/step - loss: 2.3333 - accuracy: 0.5982 - val_loss: 0.9594 - val_accuracy: 0.6127\n",
            "\n",
            "Epoch 00011: ReduceLROnPlateau reducing learning rate to 4.999999873689376e-05.\n",
            "\n",
            "Epoch 00011: loss did not improve from 2.28156\n",
            "Epoch 12/30\n",
            "25/25 [==============================] - 1218s 49s/step - loss: 2.3753 - accuracy: 0.5999 - val_loss: 0.9309 - val_accuracy: 0.6267\n",
            "\n",
            "Epoch 00012: loss did not improve from 2.28156\n",
            "Epoch 13/30\n",
            "25/25 [==============================] - 1206s 49s/step - loss: 2.3589 - accuracy: 0.6277 - val_loss: 0.9378 - val_accuracy: 0.6207\n",
            "Restoring model weights from the end of the best epoch.\n",
            "\n",
            "Epoch 00013: loss improved from 2.28156 to 2.26397, saving model to drive/My Drive/Pattern Recognition/DR models/model_10_1.h5\n",
            "Epoch 00013: early stopping\n"
          ],
          "name": "stdout"
        }
      ]
    },
    {
      "cell_type": "code",
      "metadata": {
        "colab": {
          "base_uri": "https://localhost:8080/"
        },
        "id": "EvBIw1DQZXUI",
        "outputId": "5ccf2eda-029d-4428-8484-cbb69a4dd79b"
      },
      "source": [
        "history_finetunning = model.fit_generator(generator=train_generator,\n",
        "                                          steps_per_epoch=25,\n",
        "                                          validation_data=valid_generator,\n",
        "                                          validation_steps=30,\n",
        "                                          epochs=30,\n",
        "                                          callbacks=callback_list,\n",
        "                                          class_weight = class_weight,\n",
        "                                          verbose=1).history\n",
        "\n",
        "model.save(\"drive/My Drive/Pattern Recognition/DR models/model_11.h5\")"
      ],
      "execution_count": null,
      "outputs": [
        {
          "output_type": "stream",
          "text": [
            "/usr/local/lib/python3.7/dist-packages/tensorflow/python/keras/engine/training.py:1844: UserWarning: `Model.fit_generator` is deprecated and will be removed in a future version. Please use `Model.fit`, which supports generators.\n",
            "  warnings.warn('`Model.fit_generator` is deprecated and '\n"
          ],
          "name": "stderr"
        },
        {
          "output_type": "stream",
          "text": [
            "Epoch 1/30\n",
            "25/25 [==============================] - 1407s 57s/step - loss: 2.5612 - accuracy: 0.5745 - val_loss: 0.9458 - val_accuracy: 0.6160\n",
            "\n",
            "Epoch 00001: loss improved from inf to 2.46177, saving model to drive/My Drive/Pattern Recognition/DR models/model_11_1.h5\n",
            "Epoch 2/30\n",
            "25/25 [==============================] - 1424s 57s/step - loss: 2.4388 - accuracy: 0.6144 - val_loss: 0.9532 - val_accuracy: 0.6020\n",
            "\n",
            "Epoch 00002: loss improved from 2.46177 to 2.42646, saving model to drive/My Drive/Pattern Recognition/DR models/model_11_1.h5\n",
            "Epoch 3/30\n",
            "25/25 [==============================] - 1371s 55s/step - loss: 2.3234 - accuracy: 0.6295 - val_loss: 0.9727 - val_accuracy: 0.5720\n",
            "\n",
            "Epoch 00003: loss improved from 2.42646 to 2.37654, saving model to drive/My Drive/Pattern Recognition/DR models/model_11_1.h5\n",
            "Epoch 4/30\n",
            "25/25 [==============================] - 1357s 55s/step - loss: 2.5109 - accuracy: 0.5987 - val_loss: 0.9320 - val_accuracy: 0.6053\n",
            "\n",
            "Epoch 00004: loss did not improve from 2.37654\n",
            "Epoch 5/30\n",
            "25/25 [==============================] - 1333s 55s/step - loss: 2.3577 - accuracy: 0.5894 - val_loss: 0.9225 - val_accuracy: 0.6100\n",
            "\n",
            "Epoch 00005: loss did not improve from 2.37654\n",
            "Epoch 6/30\n",
            "25/25 [==============================] - 1357s 55s/step - loss: 2.3955 - accuracy: 0.6102 - val_loss: 0.9470 - val_accuracy: 0.6040\n",
            "\n",
            "Epoch 00006: loss did not improve from 2.37654\n",
            "Epoch 7/30\n",
            "25/25 [==============================] - 1356s 55s/step - loss: 2.4730 - accuracy: 0.5774 - val_loss: 0.9262 - val_accuracy: 0.6280\n",
            "\n",
            "Epoch 00007: loss did not improve from 2.37654\n",
            "Epoch 8/30\n",
            "25/25 [==============================] - 1377s 56s/step - loss: 2.4075 - accuracy: 0.5701 - val_loss: 0.9225 - val_accuracy: 0.6167\n",
            "\n",
            "Epoch 00008: ReduceLROnPlateau reducing learning rate to 4.999999873689376e-05.\n",
            "\n",
            "Epoch 00008: loss improved from 2.37654 to 2.35628, saving model to drive/My Drive/Pattern Recognition/DR models/model_11_1.h5\n",
            "Epoch 9/30\n",
            "25/25 [==============================] - 1413s 57s/step - loss: 2.2310 - accuracy: 0.6382 - val_loss: 0.8782 - val_accuracy: 0.6387\n",
            "\n",
            "Epoch 00009: loss improved from 2.35628 to 2.25328, saving model to drive/My Drive/Pattern Recognition/DR models/model_11_1.h5\n",
            "Epoch 10/30\n",
            "25/25 [==============================] - 1391s 56s/step - loss: 2.3261 - accuracy: 0.6306 - val_loss: 0.8844 - val_accuracy: 0.6267\n",
            "\n",
            "Epoch 00010: loss did not improve from 2.25328\n",
            "Epoch 11/30\n",
            "25/25 [==============================] - 1409s 57s/step - loss: 2.1791 - accuracy: 0.6431 - val_loss: 0.8896 - val_accuracy: 0.6300\n",
            "\n",
            "Epoch 00011: loss improved from 2.25328 to 2.24639, saving model to drive/My Drive/Pattern Recognition/DR models/model_11_1.h5\n",
            "Epoch 12/30\n",
            "25/25 [==============================] - 1440s 58s/step - loss: 2.4435 - accuracy: 0.5996 - val_loss: 0.8583 - val_accuracy: 0.6420\n",
            "\n",
            "Epoch 00012: loss did not improve from 2.24639\n",
            "Epoch 13/30\n",
            "25/25 [==============================] - 1332s 54s/step - loss: 2.2542 - accuracy: 0.6212 - val_loss: 0.8688 - val_accuracy: 0.6420\n",
            "\n",
            "Epoch 00013: loss did not improve from 2.24639\n",
            "Epoch 14/30\n",
            "25/25 [==============================] - 1392s 56s/step - loss: 2.2251 - accuracy: 0.6577 - val_loss: 0.9069 - val_accuracy: 0.6067\n",
            "\n",
            "Epoch 00014: loss did not improve from 2.24639\n",
            "Epoch 15/30\n",
            "25/25 [==============================] - 1404s 57s/step - loss: 2.1166 - accuracy: 0.6379 - val_loss: 0.8619 - val_accuracy: 0.6393\n",
            "\n",
            "Epoch 00015: ReduceLROnPlateau reducing learning rate to 2.499999936844688e-05.\n",
            "\n",
            "Epoch 00015: loss improved from 2.24639 to 2.18602, saving model to drive/My Drive/Pattern Recognition/DR models/model_11_1.h5\n",
            "Epoch 16/30\n",
            "25/25 [==============================] - 1398s 56s/step - loss: 2.1958 - accuracy: 0.6354 - val_loss: 0.8543 - val_accuracy: 0.6340\n",
            "\n",
            "Epoch 00016: loss improved from 2.18602 to 2.16636, saving model to drive/My Drive/Pattern Recognition/DR models/model_11_1.h5\n",
            "Epoch 17/30\n",
            "25/25 [==============================] - 1431s 57s/step - loss: 2.1344 - accuracy: 0.6226 - val_loss: 0.8633 - val_accuracy: 0.6407\n",
            "\n",
            "Epoch 00017: loss improved from 2.16636 to 2.10738, saving model to drive/My Drive/Pattern Recognition/DR models/model_11_1.h5\n",
            "Epoch 18/30\n",
            "25/25 [==============================] - 1449s 58s/step - loss: 2.1792 - accuracy: 0.6238 - val_loss: 0.8654 - val_accuracy: 0.6373\n",
            "\n",
            "Epoch 00018: loss did not improve from 2.10738\n",
            "Epoch 19/30\n",
            "25/25 [==============================] - ETA: 0s - loss: 2.0503 - accuracy: 0.6675 "
          ],
          "name": "stdout"
        }
      ]
    },
    {
      "cell_type": "code",
      "metadata": {
        "colab": {
          "base_uri": "https://localhost:8080/"
        },
        "id": "2MsgeEXnwUci",
        "outputId": "3c2b4b60-812f-4003-c0f7-fb28e61fa402"
      },
      "source": [
        "history_finetunning = model.fit_generator(generator=train_generator,\n",
        "                                          steps_per_epoch=25,\n",
        "                                          validation_data=valid_generator,\n",
        "                                          validation_steps=30,\n",
        "                                          epochs=30,\n",
        "                                          callbacks=callback_list,\n",
        "                                          class_weight = class_weight,\n",
        "                                          verbose=1).history\n",
        "\n",
        "model.save(\"drive/My Drive/Pattern Recognition/DR models/model_11.h5\")"
      ],
      "execution_count": null,
      "outputs": [
        {
          "output_type": "stream",
          "text": [
            "/usr/local/lib/python3.7/dist-packages/tensorflow/python/keras/engine/training.py:1844: UserWarning: `Model.fit_generator` is deprecated and will be removed in a future version. Please use `Model.fit`, which supports generators.\n",
            "  warnings.warn('`Model.fit_generator` is deprecated and '\n"
          ],
          "name": "stderr"
        },
        {
          "output_type": "stream",
          "text": [
            "Epoch 1/30\n",
            "25/25 [==============================] - 1394s 56s/step - loss: 2.3818 - accuracy: 0.6052 - val_loss: 0.8775 - val_accuracy: 0.6480\n",
            "\n",
            "Epoch 00001: loss improved from inf to 2.41103, saving model to drive/My Drive/Pattern Recognition/DR models/model_11_2.h5\n",
            "Epoch 2/30\n",
            "25/25 [==============================] - 1394s 56s/step - loss: 2.2723 - accuracy: 0.6269 - val_loss: 0.8852 - val_accuracy: 0.6373\n",
            "\n",
            "Epoch 00002: loss improved from 2.41103 to 2.34355, saving model to drive/My Drive/Pattern Recognition/DR models/model_11_2.h5\n",
            "Epoch 3/30\n",
            "25/25 [==============================] - 1372s 55s/step - loss: 2.2922 - accuracy: 0.6147 - val_loss: 0.8969 - val_accuracy: 0.6353\n",
            "\n",
            "Epoch 00003: loss improved from 2.34355 to 2.30222, saving model to drive/My Drive/Pattern Recognition/DR models/model_11_2.h5\n",
            "Epoch 4/30\n",
            "25/25 [==============================] - 1411s 57s/step - loss: 2.2887 - accuracy: 0.5951 - val_loss: 0.8870 - val_accuracy: 0.6347\n",
            "\n",
            "Epoch 00004: ReduceLROnPlateau reducing learning rate to 4.999999873689376e-05.\n",
            "\n",
            "Epoch 00004: loss improved from 2.30222 to 2.27909, saving model to drive/My Drive/Pattern Recognition/DR models/model_11_2.h5\n",
            "Epoch 5/30\n",
            "25/25 [==============================] - 1388s 56s/step - loss: 2.2926 - accuracy: 0.6160 - val_loss: 0.8618 - val_accuracy: 0.6393\n",
            "\n",
            "Epoch 00005: loss did not improve from 2.27909\n",
            "Epoch 6/30\n",
            "25/25 [==============================] - 1419s 57s/step - loss: 2.1069 - accuracy: 0.6412 - val_loss: 0.8414 - val_accuracy: 0.6573\n",
            "\n",
            "Epoch 00006: loss improved from 2.27909 to 2.14308, saving model to drive/My Drive/Pattern Recognition/DR models/model_11_2.h5\n",
            "Epoch 7/30\n",
            "25/25 [==============================] - 1396s 56s/step - loss: 2.2404 - accuracy: 0.6392 - val_loss: 0.8759 - val_accuracy: 0.6387\n",
            "\n",
            "Epoch 00007: loss did not improve from 2.14308\n",
            "Epoch 8/30\n",
            "25/25 [==============================] - 1462s 59s/step - loss: 2.0518 - accuracy: 0.6486 - val_loss: 0.8619 - val_accuracy: 0.6500\n",
            "\n",
            "Epoch 00008: loss improved from 2.14308 to 2.00409, saving model to drive/My Drive/Pattern Recognition/DR models/model_11_2.h5\n",
            "Epoch 9/30\n",
            "25/25 [==============================] - 1435s 58s/step - loss: 2.2533 - accuracy: 0.6162 - val_loss: 0.8399 - val_accuracy: 0.6580\n",
            "\n",
            "Epoch 00009: loss did not improve from 2.00409\n",
            "Epoch 10/30\n",
            "25/25 [==============================] - 1440s 58s/step - loss: 2.2160 - accuracy: 0.6247 - val_loss: 0.8379 - val_accuracy: 0.6653\n",
            "\n",
            "Epoch 00010: loss did not improve from 2.00409\n",
            "Epoch 11/30\n",
            "25/25 [==============================] - 1472s 60s/step - loss: 2.0848 - accuracy: 0.6684 - val_loss: 0.8759 - val_accuracy: 0.6480\n",
            "\n",
            "Epoch 00011: loss did not improve from 2.00409\n",
            "Epoch 12/30\n",
            "25/25 [==============================] - 1439s 58s/step - loss: 2.2073 - accuracy: 0.6105 - val_loss: 0.8423 - val_accuracy: 0.6507\n",
            "\n",
            "Epoch 00012: loss did not improve from 2.00409\n",
            "Epoch 13/30\n",
            "25/25 [==============================] - 1453s 59s/step - loss: 2.1670 - accuracy: 0.6270 - val_loss: 0.8296 - val_accuracy: 0.6567\n",
            "\n",
            "Epoch 00013: loss did not improve from 2.00409\n",
            "Epoch 14/30\n",
            "25/25 [==============================] - 1439s 58s/step - loss: 2.2274 - accuracy: 0.6336 - val_loss: 0.8462 - val_accuracy: 0.6460\n",
            "\n",
            "Epoch 00014: loss did not improve from 2.00409\n",
            "Epoch 15/30\n",
            "25/25 [==============================] - 1434s 58s/step - loss: 2.1346 - accuracy: 0.6531 - val_loss: 0.8199 - val_accuracy: 0.6580\n",
            "\n",
            "Epoch 00015: loss did not improve from 2.00409\n",
            "Epoch 16/30\n",
            "25/25 [==============================] - 1428s 58s/step - loss: 2.0679 - accuracy: 0.6811 - val_loss: 0.8261 - val_accuracy: 0.6553\n",
            "\n",
            "Epoch 00016: loss did not improve from 2.00409\n",
            "Epoch 17/30\n",
            "25/25 [==============================] - 1441s 58s/step - loss: 2.0974 - accuracy: 0.6629 - val_loss: 0.8589 - val_accuracy: 0.6320\n",
            "\n",
            "Epoch 00017: loss did not improve from 2.00409\n",
            "Epoch 18/30\n",
            "25/25 [==============================] - 1434s 58s/step - loss: 2.2248 - accuracy: 0.6243 - val_loss: 0.8348 - val_accuracy: 0.6707\n",
            "\n",
            "Epoch 00018: ReduceLROnPlateau reducing learning rate to 2.499999936844688e-05.\n",
            "\n",
            "Epoch 00018: loss did not improve from 2.00409\n",
            "Epoch 19/30\n",
            "25/25 [==============================] - 1456s 59s/step - loss: 2.0869 - accuracy: 0.6612 - val_loss: 0.7970 - val_accuracy: 0.6727\n",
            "\n",
            "Epoch 00019: loss did not improve from 2.00409\n",
            "Epoch 20/30\n",
            "25/25 [==============================] - 1444s 58s/step - loss: 1.9881 - accuracy: 0.6579 - val_loss: 0.8284 - val_accuracy: 0.6580\n",
            "\n",
            "Epoch 00020: loss did not improve from 2.00409\n",
            "Epoch 21/30\n",
            "18/25 [====================>.........] - ETA: 5:06 - loss: 2.0553 - accuracy: 0.6643"
          ],
          "name": "stdout"
        }
      ]
    },
    {
      "cell_type": "markdown",
      "metadata": {
        "id": "8y0NwhUybaMS"
      },
      "source": [
        "With no learning rate set and less steps per epoch and validation steps and oversampling:"
      ]
    },
    {
      "cell_type": "code",
      "metadata": {
        "colab": {
          "base_uri": "https://localhost:8080/"
        },
        "id": "Lo5Z0mABUZBZ",
        "outputId": "b0d00d09-651e-4085-8058-69a733c70b35"
      },
      "source": [
        "history_finetunning = model.fit_generator(generator=train_generator,\n",
        "                                          steps_per_epoch=50,\n",
        "                                          validation_data=valid_generator,\n",
        "                                          validation_steps=50,\n",
        "                                          epochs=EPOCHS,\n",
        "                                          callbacks=callback_list,\n",
        "                                          class_weight = class_weight,\n",
        "                                          verbose=1).history\n",
        "\n",
        "model.save(\"drive/My Drive/Pattern Recognition/DR models/model_4.h5\")"
      ],
      "execution_count": null,
      "outputs": [
        {
          "output_type": "stream",
          "text": [
            "/usr/local/lib/python3.7/dist-packages/tensorflow/python/keras/engine/training.py:1844: UserWarning: `Model.fit_generator` is deprecated and will be removed in a future version. Please use `Model.fit`, which supports generators.\n",
            "  warnings.warn('`Model.fit_generator` is deprecated and '\n"
          ],
          "name": "stderr"
        },
        {
          "output_type": "stream",
          "text": [
            "Epoch 1/40\n",
            "50/50 [==============================] - 381s 8s/step - loss: 4.0451 - accuracy: 0.2379 - val_loss: 1.6096 - val_accuracy: 0.2275\n",
            "Epoch 2/40\n",
            "50/50 [==============================] - 367s 7s/step - loss: 4.0047 - accuracy: 0.2019 - val_loss: 1.6086 - val_accuracy: 0.2175\n",
            "Epoch 3/40\n",
            "50/50 [==============================] - 365s 7s/step - loss: 4.0341 - accuracy: 0.1874 - val_loss: 1.6064 - val_accuracy: 0.2450\n",
            "Epoch 4/40\n",
            "50/50 [==============================] - 363s 7s/step - loss: 4.0300 - accuracy: 0.2046 - val_loss: 1.6009 - val_accuracy: 0.1875\n",
            "Epoch 5/40\n",
            "50/50 [==============================] - 363s 7s/step - loss: 3.9832 - accuracy: 0.2401 - val_loss: 1.6080 - val_accuracy: 0.2125\n",
            "Epoch 6/40\n",
            "50/50 [==============================] - 364s 7s/step - loss: 4.0112 - accuracy: 0.1741 - val_loss: 1.6068 - val_accuracy: 0.2300\n",
            "Epoch 7/40\n",
            "50/50 [==============================] - 365s 7s/step - loss: 4.0211 - accuracy: 0.1989 - val_loss: 1.6092 - val_accuracy: 0.1900\n",
            "\n",
            "Epoch 00007: ReduceLROnPlateau reducing learning rate to 0.0005000000237487257.\n",
            "Epoch 8/40\n",
            "50/50 [==============================] - 363s 7s/step - loss: 4.0328 - accuracy: 0.2616 - val_loss: 1.6076 - val_accuracy: 0.2125\n",
            "Epoch 9/40\n",
            "50/50 [==============================] - 363s 7s/step - loss: 4.0186 - accuracy: 0.1861 - val_loss: 1.6066 - val_accuracy: 0.2050\n",
            "Restoring model weights from the end of the best epoch.\n",
            "Epoch 00009: early stopping\n"
          ],
          "name": "stdout"
        }
      ]
    },
    {
      "cell_type": "code",
      "metadata": {
        "id": "_tSFNkY0OaKW"
      },
      "source": [
        "model = load_model(\"drive/My Drive/Pattern Recognition/DR models/model_4.h5\")"
      ],
      "execution_count": 30,
      "outputs": []
    },
    {
      "cell_type": "code",
      "metadata": {
        "id": "zUT7YVhvOY9d"
      },
      "source": [
        "predictions = model.predict(test_generator)"
      ],
      "execution_count": 31,
      "outputs": []
    },
    {
      "cell_type": "code",
      "metadata": {
        "colab": {
          "base_uri": "https://localhost:8080/"
        },
        "id": "xKp2sWwgOY9d",
        "outputId": "ed8ffb42-9780-44fa-8ba0-c5bc6a0703e7"
      },
      "source": [
        "# model 4\n",
        "import numpy as np\n",
        "from sklearn.metrics import precision_recall_fscore_support, classification_report\n",
        "\n",
        "preds_classes = np.argmax(predictions, axis=-1)\n",
        "\n",
        "y_true = test_generator.classes\n",
        "y_pred = preds_classes\n",
        "\n",
        "print(precision_recall_fscore_support(y_true, y_pred, average='macro'))\n",
        "print(precision_recall_fscore_support(y_true, y_pred, average='micro'))\n",
        "print(precision_recall_fscore_support(y_true, y_pred, average='weighted'))\n",
        "print(classification_report(y_true, y_pred))"
      ],
      "execution_count": 32,
      "outputs": [
        {
          "output_type": "stream",
          "text": [
            "(0.17513513513513515, 0.21569140241909118, 0.12320723719302737, None)\n",
            "(0.31528279181708785, 0.31528279181708785, 0.31528279181708785, None)\n",
            "(0.6251666829284158, 0.31528279181708785, 0.3804556874976748, None)\n",
            "              precision    recall  f1-score   support\n",
            "\n",
            "           0       0.80      0.34      0.48       644\n",
            "           1       0.08      0.74      0.14        57\n",
            "           2       0.00      0.00      0.00       113\n",
            "           3       0.00      0.00      0.00         7\n",
            "           4       0.00      0.00      0.00        10\n",
            "\n",
            "    accuracy                           0.32       831\n",
            "   macro avg       0.18      0.22      0.12       831\n",
            "weighted avg       0.63      0.32      0.38       831\n",
            "\n"
          ],
          "name": "stdout"
        },
        {
          "output_type": "stream",
          "text": [
            "/usr/local/lib/python3.7/dist-packages/sklearn/metrics/_classification.py:1272: UndefinedMetricWarning: Precision and F-score are ill-defined and being set to 0.0 in labels with no predicted samples. Use `zero_division` parameter to control this behavior.\n",
            "  _warn_prf(average, modifier, msg_start, len(result))\n"
          ],
          "name": "stderr"
        }
      ]
    },
    {
      "cell_type": "markdown",
      "metadata": {
        "id": "e9UQozmwbo6D"
      },
      "source": [
        "With less steps per epoch and validation steps and oversampling:"
      ]
    },
    {
      "cell_type": "code",
      "metadata": {
        "colab": {
          "base_uri": "https://localhost:8080/"
        },
        "id": "OkF9vONmbXAX",
        "outputId": "33aebac4-55bd-4d39-9786-5c129021c360"
      },
      "source": [
        "history_finetunning = model.fit_generator(generator=train_generator,\n",
        "                                          steps_per_epoch=50,\n",
        "                                          validation_data=valid_generator,\n",
        "                                          validation_steps=25,\n",
        "                                          epochs=EPOCHS,\n",
        "                                          callbacks=callback_list,\n",
        "                                          class_weight = class_weight,\n",
        "                                          verbose=1).history\n",
        "\n",
        "model.save(\"drive/My Drive/Pattern Recognition/DR models/model_5.h5\")"
      ],
      "execution_count": null,
      "outputs": [
        {
          "output_type": "stream",
          "text": [
            "/usr/local/lib/python3.7/dist-packages/tensorflow/python/keras/engine/training.py:1844: UserWarning: `Model.fit_generator` is deprecated and will be removed in a future version. Please use `Model.fit`, which supports generators.\n",
            "  warnings.warn('`Model.fit_generator` is deprecated and '\n"
          ],
          "name": "stderr"
        },
        {
          "output_type": "stream",
          "text": [
            "Epoch 1/40\n",
            "50/50 [==============================] - 333s 7s/step - loss: 4.0412 - accuracy: 0.2114 - val_loss: 1.6088 - val_accuracy: 0.2250\n",
            "Epoch 2/40\n",
            "50/50 [==============================] - 347s 7s/step - loss: 4.0100 - accuracy: 0.2322 - val_loss: 1.6085 - val_accuracy: 0.2300\n",
            "Epoch 3/40\n",
            "50/50 [==============================] - 337s 7s/step - loss: 4.0118 - accuracy: 0.2567 - val_loss: 1.6050 - val_accuracy: 0.2300\n",
            "Epoch 4/40\n",
            "50/50 [==============================] - 338s 7s/step - loss: 3.9999 - accuracy: 0.2655 - val_loss: 1.6159 - val_accuracy: 0.1550\n",
            "Epoch 5/40\n",
            "50/50 [==============================] - 339s 7s/step - loss: 4.0385 - accuracy: 0.2063 - val_loss: 1.6077 - val_accuracy: 0.2000\n",
            "Epoch 6/40\n",
            "50/50 [==============================] - 340s 7s/step - loss: 4.0092 - accuracy: 0.2303 - val_loss: 1.6158 - val_accuracy: 0.2050\n",
            "\n",
            "Epoch 00006: ReduceLROnPlateau reducing learning rate to 4.999999873689376e-05.\n",
            "Epoch 7/40\n",
            "50/50 [==============================] - 335s 7s/step - loss: 3.9924 - accuracy: 0.1816 - val_loss: 1.5894 - val_accuracy: 0.1900\n",
            "Epoch 8/40\n",
            "50/50 [==============================] - 333s 7s/step - loss: 3.9862 - accuracy: 0.2084 - val_loss: 1.5837 - val_accuracy: 0.2150\n",
            "Epoch 9/40\n",
            "50/50 [==============================] - 349s 7s/step - loss: 3.9638 - accuracy: 0.2576 - val_loss: 1.6353 - val_accuracy: 0.1800\n",
            "Epoch 10/40\n",
            "50/50 [==============================] - 336s 7s/step - loss: 3.9492 - accuracy: 0.2850 - val_loss: 1.5879 - val_accuracy: 0.3000\n",
            "Epoch 11/40\n",
            "50/50 [==============================] - 336s 7s/step - loss: 3.9894 - accuracy: 0.2539 - val_loss: 1.5706 - val_accuracy: 0.2000\n",
            "Epoch 12/40\n",
            "50/50 [==============================] - 336s 7s/step - loss: 3.9103 - accuracy: 0.2498 - val_loss: 1.5524 - val_accuracy: 0.2950\n",
            "Epoch 13/40\n",
            "50/50 [==============================] - 335s 7s/step - loss: 3.9122 - accuracy: 0.3122 - val_loss: 1.5607 - val_accuracy: 0.2500\n",
            "Epoch 14/40\n",
            "50/50 [==============================] - 336s 7s/step - loss: 3.8794 - accuracy: 0.3084 - val_loss: 1.5566 - val_accuracy: 0.2950\n",
            "Epoch 15/40\n",
            "50/50 [==============================] - 328s 7s/step - loss: 3.8385 - accuracy: 0.3216 - val_loss: 1.5223 - val_accuracy: 0.2950\n",
            "Epoch 16/40\n",
            "50/50 [==============================] - 334s 7s/step - loss: 3.8476 - accuracy: 0.3288 - val_loss: 1.5311 - val_accuracy: 0.2750\n",
            "Epoch 17/40\n",
            "50/50 [==============================] - 336s 7s/step - loss: 3.8604 - accuracy: 0.3034 - val_loss: 1.5552 - val_accuracy: 0.2650\n",
            "Epoch 18/40\n",
            "50/50 [==============================] - 335s 7s/step - loss: 3.9221 - accuracy: 0.2654 - val_loss: 1.4847 - val_accuracy: 0.3150\n",
            "Epoch 19/40\n",
            "50/50 [==============================] - 335s 7s/step - loss: 3.8161 - accuracy: 0.2823 - val_loss: 1.4723 - val_accuracy: 0.3200\n",
            "Epoch 20/40\n",
            "50/50 [==============================] - 334s 7s/step - loss: 3.9101 - accuracy: 0.3038 - val_loss: 1.5131 - val_accuracy: 0.3350\n",
            "Epoch 21/40\n",
            "50/50 [==============================] - 334s 7s/step - loss: 3.9078 - accuracy: 0.3224 - val_loss: 1.5109 - val_accuracy: 0.3400\n",
            "Epoch 22/40\n",
            "50/50 [==============================] - 333s 7s/step - loss: 3.7884 - accuracy: 0.3238 - val_loss: 1.5438 - val_accuracy: 0.2850\n",
            "\n",
            "Epoch 00022: ReduceLROnPlateau reducing learning rate to 2.499999936844688e-05.\n",
            "Epoch 23/40\n",
            "50/50 [==============================] - 335s 7s/step - loss: 3.8854 - accuracy: 0.2528 - val_loss: 1.5411 - val_accuracy: 0.3050\n",
            "Epoch 24/40\n",
            "50/50 [==============================] - 334s 7s/step - loss: 3.7727 - accuracy: 0.3198 - val_loss: 1.4802 - val_accuracy: 0.3850\n",
            "Restoring model weights from the end of the best epoch.\n",
            "Epoch 00024: early stopping\n"
          ],
          "name": "stdout"
        }
      ]
    },
    {
      "cell_type": "code",
      "metadata": {
        "id": "JFk9kvF4P5r6"
      },
      "source": [
        "model = load_model(\"drive/My Drive/Pattern Recognition/DR models/model_5.h5\")"
      ],
      "execution_count": 36,
      "outputs": []
    },
    {
      "cell_type": "code",
      "metadata": {
        "id": "tXJd9CYkP5r7"
      },
      "source": [
        "predictions = model.predict(test_generator)"
      ],
      "execution_count": 37,
      "outputs": []
    },
    {
      "cell_type": "code",
      "metadata": {
        "colab": {
          "base_uri": "https://localhost:8080/"
        },
        "id": "bveezemtP5r8",
        "outputId": "9cf3b9ca-34a1-4703-863b-7bc72e1f3ed0"
      },
      "source": [
        "# model 5\n",
        "import numpy as np\n",
        "from sklearn.metrics import precision_recall_fscore_support, classification_report\n",
        "\n",
        "preds_classes = np.argmax(predictions, axis=-1)\n",
        "\n",
        "y_true = test_generator.classes\n",
        "y_pred = preds_classes\n",
        "\n",
        "print(precision_recall_fscore_support(y_true, y_pred, average='macro'))\n",
        "print(precision_recall_fscore_support(y_true, y_pred, average='micro'))\n",
        "print(precision_recall_fscore_support(y_true, y_pred, average='weighted'))\n",
        "print(classification_report(y_true, y_pred))"
      ],
      "execution_count": 38,
      "outputs": [
        {
          "output_type": "stream",
          "text": [
            "(0.202432220137796, 0.1590284965973996, 0.1188489504133676, None)\n",
            "(0.2009626955475331, 0.2009626955475331, 0.2009626955475331, None)\n",
            "(0.6440401948485218, 0.2009626955475331, 0.28777375192829263, None)\n",
            "              precision    recall  f1-score   support\n",
            "\n",
            "           0       0.80      0.21      0.34       644\n",
            "           1       0.06      0.09      0.07        57\n",
            "           2       0.14      0.19      0.16       113\n",
            "           3       0.00      0.00      0.00         7\n",
            "           4       0.01      0.30      0.03        10\n",
            "\n",
            "    accuracy                           0.20       831\n",
            "   macro avg       0.20      0.16      0.12       831\n",
            "weighted avg       0.64      0.20      0.29       831\n",
            "\n"
          ],
          "name": "stdout"
        }
      ]
    },
    {
      "cell_type": "markdown",
      "metadata": {
        "id": "T6lFXFkNnC3J"
      },
      "source": [
        "Just with oversampling:"
      ]
    },
    {
      "cell_type": "code",
      "metadata": {
        "colab": {
          "base_uri": "https://localhost:8080/"
        },
        "id": "XAd5vzAZYsuT",
        "outputId": "d77fd988-a465-4b32-e230-59d09afc7ddc"
      },
      "source": [
        "history_finetunning = model.fit_generator(generator=train_generator,\n",
        "                                          steps_per_epoch=200,\n",
        "                                          validation_data=valid_generator,\n",
        "                                          validation_steps=30,\n",
        "                                          epochs=30,\n",
        "                                          callbacks=callback_list,\n",
        "                                          class_weight = class_weight,\n",
        "                                          verbose=1).history\n",
        "\n",
        "model.save(\"drive/My Drive/Pattern Recognition/DR models/model_7.h5\")"
      ],
      "execution_count": null,
      "outputs": [
        {
          "output_type": "stream",
          "text": [
            "/usr/local/lib/python3.7/dist-packages/tensorflow/python/keras/engine/training.py:1844: UserWarning: `Model.fit_generator` is deprecated and will be removed in a future version. Please use `Model.fit`, which supports generators.\n",
            "  warnings.warn('`Model.fit_generator` is deprecated and '\n"
          ],
          "name": "stderr"
        },
        {
          "output_type": "stream",
          "text": [
            "Epoch 1/30\n",
            "200/200 [==============================] - 1227s 6s/step - loss: 4.0198 - accuracy: 0.2051 - val_loss: 1.5925 - val_accuracy: 0.2458\n",
            "\n",
            "Epoch 00001: loss improved from inf to 4.01647, saving model to drive/My Drive/Pattern Recognition/DR models/model_6.h5\n",
            "Epoch 2/30\n",
            "200/200 [==============================] - 1203s 6s/step - loss: 3.9509 - accuracy: 0.2568 - val_loss: 1.5866 - val_accuracy: 0.2417\n",
            "\n",
            "Epoch 00002: loss improved from 4.01647 to 3.94878, saving model to drive/My Drive/Pattern Recognition/DR models/model_6.h5\n",
            "Epoch 3/30\n",
            "200/200 [==============================] - 1227s 6s/step - loss: 3.9050 - accuracy: 0.2779 - val_loss: 1.5375 - val_accuracy: 0.3000\n",
            "\n",
            "Epoch 00003: loss improved from 3.94878 to 3.90380, saving model to drive/My Drive/Pattern Recognition/DR models/model_6.h5\n",
            "Epoch 4/30\n",
            "200/200 [==============================] - 1199s 6s/step - loss: 3.8180 - accuracy: 0.2988 - val_loss: 1.5229 - val_accuracy: 0.3125\n",
            "\n",
            "Epoch 00004: loss improved from 3.90380 to 3.81847, saving model to drive/My Drive/Pattern Recognition/DR models/model_6.h5\n",
            "Epoch 5/30\n",
            "200/200 [==============================] - 1190s 6s/step - loss: 3.7643 - accuracy: 0.3429 - val_loss: 1.5229 - val_accuracy: 0.3292\n",
            "\n",
            "Epoch 00005: loss improved from 3.81847 to 3.78183, saving model to drive/My Drive/Pattern Recognition/DR models/model_6.h5\n",
            "Epoch 6/30\n",
            "200/200 [==============================] - 1201s 6s/step - loss: 3.7647 - accuracy: 0.3089 - val_loss: 1.5456 - val_accuracy: 0.2958\n",
            "\n",
            "Epoch 00006: loss improved from 3.78183 to 3.75296, saving model to drive/My Drive/Pattern Recognition/DR models/model_6.h5\n",
            "Epoch 7/30\n",
            "200/200 [==============================] - 1191s 6s/step - loss: 3.7269 - accuracy: 0.3356 - val_loss: 1.5073 - val_accuracy: 0.3333\n",
            "\n",
            "Epoch 00007: loss improved from 3.75296 to 3.68930, saving model to drive/My Drive/Pattern Recognition/DR models/model_6.h5\n",
            "Epoch 8/30\n",
            "200/200 [==============================] - 1192s 6s/step - loss: 3.6841 - accuracy: 0.3606 - val_loss: 1.4253 - val_accuracy: 0.3583\n",
            "\n",
            "Epoch 00008: loss improved from 3.68930 to 3.66916, saving model to drive/My Drive/Pattern Recognition/DR models/model_6.h5\n",
            "Epoch 9/30\n",
            "200/200 [==============================] - 1191s 6s/step - loss: 3.5347 - accuracy: 0.3666 - val_loss: 1.5394 - val_accuracy: 0.3375\n",
            "\n",
            "Epoch 00009: loss improved from 3.66916 to 3.54751, saving model to drive/My Drive/Pattern Recognition/DR models/model_6.h5\n",
            "Epoch 10/30\n",
            "200/200 [==============================] - 1194s 6s/step - loss: 3.4512 - accuracy: 0.3738 - val_loss: 1.3653 - val_accuracy: 0.3583\n",
            "\n",
            "Epoch 00010: loss improved from 3.54751 to 3.40242, saving model to drive/My Drive/Pattern Recognition/DR models/model_6.h5\n",
            "Epoch 11/30\n",
            "200/200 [==============================] - 1211s 6s/step - loss: 3.3089 - accuracy: 0.4440 - val_loss: 1.2378 - val_accuracy: 0.4875\n",
            "\n",
            "Epoch 00011: loss improved from 3.40242 to 3.28775, saving model to drive/My Drive/Pattern Recognition/DR models/model_6.h5\n",
            "Epoch 12/30\n",
            "200/200 [==============================] - 1190s 6s/step - loss: 3.2508 - accuracy: 0.4294 - val_loss: 1.2844 - val_accuracy: 0.4625\n",
            "\n",
            "Epoch 00012: loss improved from 3.28775 to 3.20855, saving model to drive/My Drive/Pattern Recognition/DR models/model_6.h5\n",
            "Epoch 13/30\n",
            "200/200 [==============================] - 1187s 6s/step - loss: 3.1100 - accuracy: 0.4907 - val_loss: 1.2325 - val_accuracy: 0.4833\n",
            "\n",
            "Epoch 00013: loss improved from 3.20855 to 3.09272, saving model to drive/My Drive/Pattern Recognition/DR models/model_6.h5\n",
            "Epoch 14/30\n",
            "200/200 [==============================] - 1187s 6s/step - loss: 3.0769 - accuracy: 0.4948 - val_loss: 1.2140 - val_accuracy: 0.4708\n",
            "\n",
            "Epoch 00014: loss improved from 3.09272 to 3.05558, saving model to drive/My Drive/Pattern Recognition/DR models/model_6.h5\n",
            "Epoch 15/30\n",
            "200/200 [==============================] - 1211s 6s/step - loss: 2.8725 - accuracy: 0.5217 - val_loss: 1.2341 - val_accuracy: 0.4625\n",
            "\n",
            "Epoch 00015: loss improved from 3.05558 to 2.92123, saving model to drive/My Drive/Pattern Recognition/DR models/model_6.h5\n",
            "Epoch 16/30\n",
            "200/200 [==============================] - 1193s 6s/step - loss: 2.9239 - accuracy: 0.5238 - val_loss: 1.1663 - val_accuracy: 0.5042\n",
            "\n",
            "Epoch 00016: loss improved from 2.92123 to 2.88336, saving model to drive/My Drive/Pattern Recognition/DR models/model_6.h5\n",
            "Epoch 17/30\n",
            "200/200 [==============================] - 1189s 6s/step - loss: 2.7880 - accuracy: 0.5284 - val_loss: 1.0500 - val_accuracy: 0.5500\n",
            "\n",
            "Epoch 00017: loss improved from 2.88336 to 2.83071, saving model to drive/My Drive/Pattern Recognition/DR models/model_6.h5\n",
            "Epoch 18/30\n",
            "200/200 [==============================] - 1188s 6s/step - loss: 2.7890 - accuracy: 0.5530 - val_loss: 1.2392 - val_accuracy: 0.4792\n",
            "\n",
            "Epoch 00018: loss improved from 2.83071 to 2.83007, saving model to drive/My Drive/Pattern Recognition/DR models/model_6.h5\n",
            "Epoch 19/30\n",
            "200/200 [==============================] - 1212s 6s/step - loss: 2.6891 - accuracy: 0.5254 - val_loss: 1.2060 - val_accuracy: 0.5167\n",
            "\n",
            "Epoch 00019: loss improved from 2.83007 to 2.71396, saving model to drive/My Drive/Pattern Recognition/DR models/model_6.h5\n",
            "Epoch 20/30\n",
            "200/200 [==============================] - 1192s 6s/step - loss: 2.6701 - accuracy: 0.5605 - val_loss: 1.1159 - val_accuracy: 0.5542\n",
            "\n",
            "Epoch 00020: ReduceLROnPlateau reducing learning rate to 4.999999873689376e-05.\n",
            "\n",
            "Epoch 00020: loss improved from 2.71396 to 2.64159, saving model to drive/My Drive/Pattern Recognition/DR models/model_6.h5\n",
            "Epoch 21/30\n",
            "200/200 [==============================] - 1194s 6s/step - loss: 2.7812 - accuracy: 0.5474 - val_loss: 1.0640 - val_accuracy: 0.5083\n",
            "\n",
            "Epoch 00021: loss did not improve from 2.64159\n",
            "Epoch 22/30\n",
            "200/200 [==============================] - 1192s 6s/step - loss: 2.6165 - accuracy: 0.5694 - val_loss: 1.0822 - val_accuracy: 0.5875\n",
            "Restoring model weights from the end of the best epoch.\n",
            "\n",
            "Epoch 00022: loss improved from 2.64159 to 2.54626, saving model to drive/My Drive/Pattern Recognition/DR models/model_6.h5\n",
            "Epoch 00022: early stopping\n"
          ],
          "name": "stdout"
        }
      ]
    },
    {
      "cell_type": "code",
      "metadata": {
        "id": "6IVXVEhIKBdz"
      },
      "source": [
        "model.save(\"drive/My Drive/Pattern Recognition/DR models/model_4.h5\")"
      ],
      "execution_count": null,
      "outputs": []
    },
    {
      "cell_type": "markdown",
      "metadata": {
        "id": "90aNjpIHoOvX"
      },
      "source": [
        "Batch_size = 1:"
      ]
    },
    {
      "cell_type": "code",
      "metadata": {
        "colab": {
          "base_uri": "https://localhost:8080/"
        },
        "id": "q62YcSI6CZkw",
        "outputId": "735eb41c-8429-4812-c3ed-9541dbc484e1"
      },
      "source": [
        "\n",
        "history_finetunning = model.fit_generator(generator=train_generator,\n",
        "                                          steps_per_epoch=250,\n",
        "                                          validation_data=valid_generator,\n",
        "                                          validation_steps=50,\n",
        "                                          epochs=EPOCHS,\n",
        "                                          callbacks=callback_list,\n",
        "                                          verbose=1).history"
      ],
      "execution_count": null,
      "outputs": [
        {
          "output_type": "stream",
          "text": [
            "/usr/local/lib/python3.6/dist-packages/tensorflow/python/keras/engine/training.py:1844: UserWarning: `Model.fit_generator` is deprecated and will be removed in a future version. Please use `Model.fit`, which supports generators.\n",
            "  warnings.warn('`Model.fit_generator` is deprecated and '\n"
          ],
          "name": "stderr"
        },
        {
          "output_type": "stream",
          "text": [
            "Epoch 1/40\n",
            "250/250 [==============================] - 205s 816ms/step - loss: 1.1091 - accuracy: 0.6116 - val_loss: 0.9784 - val_accuracy: 0.7000\n",
            "Epoch 2/40\n",
            "250/250 [==============================] - 204s 815ms/step - loss: 0.9770 - accuracy: 0.7039 - val_loss: 1.0911 - val_accuracy: 0.6800\n",
            "Epoch 3/40\n",
            "250/250 [==============================] - 203s 809ms/step - loss: 0.9914 - accuracy: 0.6923 - val_loss: 0.7883 - val_accuracy: 0.7800\n",
            "Epoch 4/40\n",
            "250/250 [==============================] - 201s 802ms/step - loss: 0.9212 - accuracy: 0.7070 - val_loss: 0.9634 - val_accuracy: 0.6800\n",
            "Epoch 5/40\n",
            "250/250 [==============================] - 199s 796ms/step - loss: 0.8504 - accuracy: 0.7464 - val_loss: 1.0965 - val_accuracy: 0.6400\n",
            "Epoch 6/40\n",
            "250/250 [==============================] - 199s 795ms/step - loss: 1.0113 - accuracy: 0.6798 - val_loss: 0.8518 - val_accuracy: 0.8000\n",
            "\n",
            "Epoch 00006: ReduceLROnPlateau reducing learning rate to 4.999999873689376e-05.\n",
            "Epoch 7/40\n",
            "250/250 [==============================] - 199s 795ms/step - loss: 0.8282 - accuracy: 0.7670 - val_loss: 0.9904 - val_accuracy: 0.6400\n",
            "Epoch 8/40\n",
            "250/250 [==============================] - 198s 792ms/step - loss: 0.8846 - accuracy: 0.7539 - val_loss: 1.1029 - val_accuracy: 0.6400\n",
            "Restoring model weights from the end of the best epoch.\n",
            "Epoch 00008: early stopping\n"
          ],
          "name": "stdout"
        }
      ]
    },
    {
      "cell_type": "code",
      "metadata": {
        "id": "XDnPwD8kCZkw"
      },
      "source": [
        "model.save(\"drive/My Drive/Pattern Recognition/DR models/model_1.h5\")"
      ],
      "execution_count": null,
      "outputs": []
    },
    {
      "cell_type": "code",
      "metadata": {
        "id": "Q2uY_7AixESo"
      },
      "source": [
        "predictions = model.predict(valid_generator)"
      ],
      "execution_count": null,
      "outputs": []
    },
    {
      "cell_type": "code",
      "metadata": {
        "colab": {
          "base_uri": "https://localhost:8080/"
        },
        "id": "sDamYwiWOnNB",
        "outputId": "21a4cc78-9db0-4ed1-bb59-3e0c73e9d26a"
      },
      "source": [
        "predictions"
      ],
      "execution_count": null,
      "outputs": [
        {
          "output_type": "execute_result",
          "data": {
            "text/plain": [
              "array([[4.6461427e-01, 3.0867976e-01, 1.5297706e-01, 6.2619038e-02,\n",
              "        1.1109843e-02],\n",
              "       [9.8844096e-02, 1.0196337e-01, 1.7014882e-01, 1.5224902e-01,\n",
              "        4.7679466e-01],\n",
              "       [7.1308978e-02, 6.3465007e-02, 1.6203310e-01, 6.6580802e-02,\n",
              "        6.3661218e-01],\n",
              "       ...,\n",
              "       [4.1842997e-01, 3.2605332e-01, 2.2623132e-01, 2.8989028e-02,\n",
              "        2.9638433e-04],\n",
              "       [2.6091916e-04, 3.0992038e-04, 4.1392650e-03, 9.4818145e-01,\n",
              "        4.7108416e-02],\n",
              "       [1.6789385e-03, 5.2429264e-04, 1.3080289e-02, 2.5927734e-01,\n",
              "        7.2543913e-01]], dtype=float32)"
            ]
          },
          "metadata": {
            "tags": []
          },
          "execution_count": 20
        }
      ]
    },
    {
      "cell_type": "code",
      "metadata": {
        "colab": {
          "base_uri": "https://localhost:8080/"
        },
        "id": "XudUkT7gyjdw",
        "outputId": "4ab05c99-a142-42a5-8861-9dd395792681"
      },
      "source": [
        "predictions"
      ],
      "execution_count": null,
      "outputs": [
        {
          "output_type": "execute_result",
          "data": {
            "text/plain": [
              "array([[0.6715579 , 0.10145899, 0.15127386, 0.05675539, 0.01895384],\n",
              "       [0.7612569 , 0.07559527, 0.11751086, 0.03613423, 0.00950279],\n",
              "       [0.6724057 , 0.10363457, 0.14567545, 0.05760143, 0.02068286],\n",
              "       ...,\n",
              "       [0.75193506, 0.07833469, 0.12235157, 0.03775736, 0.00962128],\n",
              "       [0.6802097 , 0.09952138, 0.14387153, 0.05623673, 0.02016068],\n",
              "       [0.6989943 , 0.095365  , 0.13686578, 0.05134447, 0.01743051]],\n",
              "      dtype=float32)"
            ]
          },
          "metadata": {
            "tags": []
          },
          "execution_count": 27
        }
      ]
    },
    {
      "cell_type": "code",
      "metadata": {
        "id": "BRnDl4R-y_mv"
      },
      "source": [
        "preds_classes = np.argmax(predictions, axis=-1)"
      ],
      "execution_count": null,
      "outputs": []
    },
    {
      "cell_type": "code",
      "metadata": {
        "colab": {
          "base_uri": "https://localhost:8080/"
        },
        "id": "RZDIIZexzA_Y",
        "outputId": "28a43d8a-c780-4fa5-a2b4-8558b7106932"
      },
      "source": [
        "preds_classes"
      ],
      "execution_count": null,
      "outputs": [
        {
          "output_type": "execute_result",
          "data": {
            "text/plain": [
              "array([0, 0, 0, 0, 0, 0, 0, 0, 0, 0, 0, 0, 0, 0, 0, 0, 0, 0, 0, 0, 0, 0,\n",
              "       0, 0, 0, 0, 0, 0, 0, 0, 0, 0, 0, 0, 0, 0, 0, 0, 0, 0, 0, 0, 0, 0,\n",
              "       0, 0, 0, 0, 0, 0, 0, 0, 0, 0, 0, 0, 0, 0, 0, 0, 0, 0, 0, 0, 0, 0,\n",
              "       0, 0, 0, 0, 0, 0, 0, 0, 0, 0, 0, 0, 0, 0, 0, 0, 0, 0, 0, 0, 0, 0,\n",
              "       0, 0, 0, 0, 0, 0, 0, 0, 0, 0, 0, 0, 0, 0, 0, 0, 0, 0, 0, 0, 0, 0,\n",
              "       0, 0, 0, 0, 0, 0, 0, 0, 0, 0, 0, 0, 0, 0, 0, 0, 0, 0, 0, 0, 0, 0,\n",
              "       0, 0, 0, 0, 0, 0, 0, 0, 0, 0, 0, 0, 0, 0, 0, 0, 0, 0, 0, 0, 0, 0,\n",
              "       0, 0, 0, 0, 0, 0, 0, 0, 0, 0, 0, 0, 0, 0, 0, 0, 0, 0, 0, 0, 0, 0,\n",
              "       0, 0, 0, 0, 0, 0, 0, 0, 0, 0, 0, 0, 0, 0, 0, 0, 0, 0, 0, 0, 0, 0,\n",
              "       0, 0, 0, 0, 0, 0, 0, 0, 0, 0, 0, 0, 0, 0, 0, 0, 0, 0, 0, 0, 0, 0,\n",
              "       0, 0, 0, 0, 0, 0, 0, 0, 0, 0, 0, 0, 0, 0, 0, 0, 0, 0, 0, 0, 0, 0,\n",
              "       0, 0, 0, 0, 0, 0, 0, 0, 0, 0, 0, 0, 0, 0, 0, 0, 0, 0, 0, 0, 0, 0,\n",
              "       0, 0, 0, 0, 0, 0, 0, 0, 0, 0, 0, 0, 0, 0, 0, 0, 0, 0, 0, 0, 0, 0,\n",
              "       0, 0, 0, 0, 0, 0, 0, 0, 0, 0, 0, 0, 0, 0, 0, 0, 0, 0, 0, 0, 0, 0,\n",
              "       0, 0, 0, 0, 0, 0, 0, 0, 0, 0, 0, 0, 0, 0, 0, 0, 0, 0, 0, 0, 0, 0,\n",
              "       0, 0, 0, 0, 0, 0, 0, 0, 0, 0, 0, 0, 0, 0, 0, 0, 0, 0, 0, 0, 0, 0,\n",
              "       0, 0, 0, 0, 0, 0, 0, 0, 0, 0, 0, 0, 0, 0, 0, 0, 0, 0, 0, 0, 0, 0,\n",
              "       0, 0, 0, 0, 0, 0, 0, 0, 0, 0, 0, 0, 0, 0, 0, 0, 0, 0, 0, 0, 0, 0,\n",
              "       0, 0, 0, 0, 0, 0, 0, 0, 0, 0, 0, 0, 0, 0, 0, 0, 0, 0, 0, 0, 0, 0,\n",
              "       0, 0, 0, 0, 0, 0, 0, 0, 0, 0, 0, 0, 0, 0, 0, 0, 0, 0, 0, 0, 0, 0,\n",
              "       0, 0, 0, 0, 0, 0, 0, 0, 0, 0, 0, 0, 0, 0, 0, 0, 0, 0, 0, 0, 0, 0,\n",
              "       0, 0, 0, 0, 0, 0, 0, 0, 0, 0, 0, 0, 0, 0, 0, 0, 0, 0, 0, 0, 0, 0,\n",
              "       0, 0, 0, 0, 0, 0, 0, 0, 0, 0, 0, 0, 0, 0, 0, 0, 0, 0, 0, 0, 0, 0,\n",
              "       0, 0, 0, 0, 0, 0, 0, 0, 0, 0, 0, 0, 0, 0, 0, 0, 0, 0, 0, 0, 0, 0,\n",
              "       0, 0, 0, 0, 0, 0, 0, 0, 0, 0, 0, 0, 0, 0, 0, 0, 0, 0, 0, 0, 0, 0,\n",
              "       0, 0, 0, 0, 0, 0, 0, 0, 0, 0, 0, 0, 0, 0, 0, 0, 0, 0, 0, 0, 0, 0,\n",
              "       0, 0, 0, 0, 0, 0, 0, 0, 0, 0, 0, 0, 0, 0, 0, 0, 0, 0, 0, 0, 0, 0,\n",
              "       0, 0, 0, 0, 0, 0, 0, 0, 0, 0, 0, 0, 0, 0, 0, 0, 0, 0, 0, 0, 0, 0,\n",
              "       0, 0, 0, 0, 0, 0, 0, 0, 0, 0, 0, 0, 0, 0, 0, 0, 0, 0, 0, 0, 0, 0,\n",
              "       0, 0, 0, 0, 0, 0, 0, 0, 0, 0, 0, 0, 0, 0, 0, 0, 0, 0, 0, 0, 0, 0,\n",
              "       0, 0, 0, 0, 0, 0, 0, 0, 0, 0, 0, 0, 0, 0, 0, 0, 0, 0, 0, 0, 0, 0,\n",
              "       0, 0, 0, 0, 0, 0, 0, 0, 0, 0, 0, 0, 0, 0, 0, 0, 0, 0, 0, 0, 0, 0,\n",
              "       0, 0, 0, 0, 0, 0, 0, 0, 0, 0, 0, 0, 0, 0, 0, 0, 0, 0, 0, 0, 0, 0,\n",
              "       0, 0, 0, 0, 0, 0, 0, 0, 0, 0, 0, 0, 0, 0, 0, 0, 0, 0, 0, 0, 0, 0,\n",
              "       0, 0, 0, 0, 0, 0, 0, 0, 0, 0, 0, 0, 0, 0, 0, 0, 0, 0, 0, 0, 0, 0,\n",
              "       0, 0, 0, 0, 0, 0, 0, 0, 0, 0, 0, 0, 0, 0, 0, 0, 0, 0, 0, 0, 0, 0,\n",
              "       0, 0, 0, 0, 0, 0, 0, 0])"
            ]
          },
          "metadata": {
            "tags": []
          },
          "execution_count": 29
        }
      ]
    },
    {
      "cell_type": "code",
      "metadata": {
        "colab": {
          "base_uri": "https://localhost:8080/"
        },
        "id": "UMBG-4pEzFBH",
        "outputId": "749931a4-501f-4bd2-b1eb-13592af118fa"
      },
      "source": [
        "print(valid_generator.classes)"
      ],
      "execution_count": null,
      "outputs": [
        {
          "output_type": "stream",
          "text": [
            "[0, 0, 0, 0, 0, 0, 0, 0, 0, 0, 0, 0, 0, 0, 1, 1, 0, 0, 0, 0, 0, 0, 0, 0, 0, 0, 2, 2, 0, 0, 0, 0, 0, 0, 3, 2, 3, 3, 0, 0, 0, 0, 0, 0, 1, 1, 0, 0, 0, 0, 1, 0, 0, 0, 2, 2, 2, 2, 2, 2, 0, 0, 1, 1, 0, 2, 0, 0, 0, 0, 0, 0, 1, 0, 0, 0, 0, 0, 2, 2, 2, 2, 0, 0, 0, 0, 0, 0, 0, 0, 0, 0, 0, 0, 0, 0, 0, 0, 0, 0, 0, 0, 2, 0, 2, 0, 1, 1, 4, 4, 0, 0, 0, 0, 0, 0, 0, 0, 1, 2, 3, 4, 1, 1, 0, 0, 2, 2, 2, 2, 0, 0, 0, 0, 0, 2, 0, 0, 0, 0, 0, 0, 0, 0, 0, 0, 0, 0, 0, 0, 4, 4, 1, 0, 2, 2, 0, 2, 0, 0, 1, 2, 0, 0, 0, 0, 0, 2, 0, 0, 3, 3, 0, 0, 2, 2, 0, 0, 0, 0, 3, 3, 2, 2, 0, 0, 0, 0, 0, 0, 0, 0, 0, 0, 3, 3, 0, 0, 0, 0, 0, 0, 2, 2, 0, 0, 0, 0, 0, 0, 0, 0, 1, 0, 0, 0, 2, 2, 0, 0, 0, 0, 0, 0, 2, 2, 0, 0, 1, 1, 0, 0, 0, 0, 0, 0, 0, 0, 1, 0, 0, 0, 1, 0, 0, 0, 0, 0, 2, 2, 0, 0, 0, 0, 2, 2, 0, 0, 0, 0, 0, 0, 0, 0, 0, 0, 0, 0, 1, 0, 0, 0, 0, 0, 0, 0, 0, 0, 0, 0, 0, 2, 0, 0, 0, 0, 0, 0, 0, 0, 0, 0, 1, 1, 0, 0, 0, 0, 0, 0, 0, 0, 4, 3, 0, 0, 0, 0, 0, 0, 0, 0, 0, 0, 0, 0, 2, 2, 0, 0, 2, 2, 1, 1, 0, 0, 0, 0, 0, 1, 0, 0, 0, 0, 0, 0, 0, 0, 3, 2, 0, 0, 0, 0, 0, 0, 0, 0, 0, 0, 2, 2, 0, 0, 1, 0, 0, 0, 2, 0, 0, 0, 2, 2, 3, 3, 0, 0, 0, 0, 0, 0, 0, 0, 0, 0, 4, 4, 0, 0, 0, 0, 0, 0, 2, 2, 0, 0, 0, 0, 0, 0, 1, 0, 2, 2, 3, 3, 2, 2, 0, 0, 0, 0, 0, 0, 2, 0, 0, 0, 0, 0, 0, 0, 0, 0, 0, 0, 0, 0, 0, 4, 4, 0, 0, 0, 0, 0, 0, 1, 1, 0, 0, 0, 0, 0, 0, 0, 0, 2, 2, 0, 0, 3, 4, 0, 0, 0, 0, 0, 0, 0, 0, 0, 0, 0, 0, 0, 0, 0, 0, 0, 0, 0, 0, 0, 0, 1, 1, 0, 0, 0, 0, 0, 0, 0, 0, 0, 0, 0, 0, 2, 2, 2, 0, 0, 0, 0, 0, 2, 2, 0, 0, 3, 3, 0, 0, 0, 0, 0, 0, 2, 2, 0, 0, 2, 2, 0, 0, 0, 0, 0, 0, 2, 2, 0, 0, 2, 1, 3, 3, 0, 0, 0, 0, 2, 2, 2, 3, 2, 2, 0, 0, 0, 0, 0, 0, 0, 0, 0, 1, 0, 0, 0, 0, 0, 0, 1, 1, 2, 2, 0, 0, 2, 0, 0, 0, 0, 0, 0, 0, 2, 4, 0, 0, 0, 0, 0, 0, 0, 0, 0, 0, 0, 0, 0, 0, 1, 0, 0, 1, 0, 0, 0, 0, 0, 0, 2, 2, 0, 1, 1, 1, 1, 1, 0, 0, 0, 0, 2, 0, 0, 0, 2, 2, 2, 2, 0, 0, 0, 0, 0, 0, 0, 0, 0, 0, 2, 2, 0, 0, 0, 0, 0, 0, 1, 0, 0, 0, 2, 2, 0, 0, 0, 0, 0, 0, 0, 0, 0, 0, 0, 0, 0, 0, 0, 0, 0, 0, 2, 1, 0, 2, 0, 0, 2, 2, 0, 0, 4, 2, 0, 0, 2, 2, 2, 1, 4, 0, 2, 2, 2, 0, 0, 0, 0, 0, 1, 2, 0, 0, 2, 2, 0, 0, 0, 0, 0, 0, 0, 0, 0, 1, 0, 0, 0, 0, 0, 0, 0, 0, 0, 0, 0, 0, 2, 0, 0, 0, 2, 2, 1, 0, 2, 0, 0, 0, 0, 0, 0, 0, 0, 2, 0, 0, 0, 0, 0, 2, 0, 0, 0, 0, 0, 0, 2, 2, 0, 0, 0, 0, 2, 2, 0, 0, 0, 0, 0, 0, 1, 0, 0, 0, 0, 0, 0, 0, 0, 0, 2, 2, 2, 2, 0, 0, 2, 2, 0, 0, 0, 0, 0, 0, 2, 2, 2, 2, 0, 0, 0, 0, 2, 1, 0, 0, 0, 0, 0, 0, 0, 0, 0, 0, 2, 3, 0, 0, 0, 0, 0]\n"
          ],
          "name": "stdout"
        }
      ]
    },
    {
      "cell_type": "code",
      "metadata": {
        "colab": {
          "base_uri": "https://localhost:8080/",
          "height": 322
        },
        "id": "bYaTN_tAzxMg",
        "outputId": "552d2486-b59a-431e-8246-e40aece85da1"
      },
      "source": [
        "import matplotlib.pyplot as plt\n",
        "\n",
        "x = valid_generator.classes\n",
        "plt.hist(x, bins = 4)\n",
        "plt.show()"
      ],
      "execution_count": null,
      "outputs": [
        {
          "output_type": "display_data",
          "data": {
            "image/png": "[encoded data removed]",
            "text/plain": [
              "<Figure size 720x360 with 1 Axes>"
            ]
          },
          "metadata": {
            "tags": []
          }
        }
      ]
    },
    {
      "cell_type": "code",
      "metadata": {
        "colab": {
          "base_uri": "https://localhost:8080/"
        },
        "id": "EljOCSHuzc7J",
        "outputId": "e76655f0-ab47-4026-bead-f4a9f7e61cc1"
      },
      "source": [
        "import numpy as np\n",
        "from sklearn.metrics import precision_recall_fscore_support, classification_report\n",
        "\n",
        "y_true = valid_generator.classes\n",
        "y_pred = preds_classes\n",
        "\n",
        "print(precision_recall_fscore_support(y_true, y_pred, average='macro'))\n",
        "print(precision_recall_fscore_support(y_true, y_pred, average='micro'))\n",
        "print(precision_recall_fscore_support(y_true, y_pred, average='weighted'))\n",
        "print(classification_report(y_true, y_pred))"
      ],
      "execution_count": null,
      "outputs": [
        {
          "output_type": "stream",
          "text": [
            "(0.14575, 0.2, 0.16861894432393348, None)\n",
            "(0.72875, 0.72875, 0.72875, None)\n",
            "(0.5310765625, 0.72875, 0.6144052783803327, None)\n",
            "              precision    recall  f1-score   support\n",
            "\n",
            "           0       0.73      1.00      0.84       583\n",
            "           1       0.00      0.00      0.00        51\n",
            "           2       0.00      0.00      0.00       129\n",
            "           3       0.00      0.00      0.00        23\n",
            "           4       0.00      0.00      0.00        14\n",
            "\n",
            "    accuracy                           0.73       800\n",
            "   macro avg       0.15      0.20      0.17       800\n",
            "weighted avg       0.53      0.73      0.61       800\n",
            "\n"
          ],
          "name": "stdout"
        },
        {
          "output_type": "stream",
          "text": [
            "/usr/local/lib/python3.6/dist-packages/sklearn/metrics/_classification.py:1272: UndefinedMetricWarning: Precision and F-score are ill-defined and being set to 0.0 in labels with no predicted samples. Use `zero_division` parameter to control this behavior.\n",
            "  _warn_prf(average, modifier, msg_start, len(result))\n"
          ],
          "name": "stderr"
        }
      ]
    },
    {
      "cell_type": "markdown",
      "metadata": {
        "id": "RLJ-Vpc9PmtY"
      },
      "source": [
        "With class weight:"
      ]
    },
    {
      "cell_type": "code",
      "metadata": {
        "colab": {
          "base_uri": "https://localhost:8080/"
        },
        "id": "vLqVZv5XzNrq",
        "outputId": "f6d4c332-33f4-492b-e614-3bc115851790"
      },
      "source": [
        "history_finetunning = model.fit_generator(generator=train_generator,\n",
        "                                          steps_per_epoch=250,\n",
        "                                          validation_data=valid_generator,\n",
        "                                          validation_steps=50,\n",
        "                                          epochs=EPOCHS,\n",
        "                                          callbacks=callback_list,\n",
        "                                          verbose=1,\n",
        "                                          class_weight = class_weight ).history\n",
        "\n",
        "model.save(\"drive/My Drive/Pattern Recognition/DR models/model_2.h5\")"
      ],
      "execution_count": null,
      "outputs": [
        {
          "output_type": "stream",
          "text": [
            "/usr/local/lib/python3.6/dist-packages/tensorflow/python/keras/engine/training.py:1844: UserWarning: `Model.fit_generator` is deprecated and will be removed in a future version. Please use `Model.fit`, which supports generators.\n",
            "  warnings.warn('`Model.fit_generator` is deprecated and '\n"
          ],
          "name": "stderr"
        },
        {
          "output_type": "stream",
          "text": [
            "Epoch 1/40\n",
            "250/250 [==============================] - 192s 767ms/step - loss: 3.6494 - accuracy: 0.7400 - val_loss: 1.4384 - val_accuracy: 0.6000\n",
            "Epoch 2/40\n",
            "250/250 [==============================] - 188s 752ms/step - loss: 3.3264 - accuracy: 0.6400 - val_loss: 1.2476 - val_accuracy: 0.8000\n",
            "Epoch 3/40\n",
            "250/250 [==============================] - 187s 746ms/step - loss: 3.7676 - accuracy: 0.4120 - val_loss: 1.4590 - val_accuracy: 0.5800\n",
            "Epoch 4/40\n",
            "250/250 [==============================] - 187s 745ms/step - loss: 4.8939 - accuracy: 0.3680 - val_loss: 1.5707 - val_accuracy: 0.2600\n",
            "Epoch 5/40\n",
            "250/250 [==============================] - 185s 741ms/step - loss: 3.9068 - accuracy: 0.2680 - val_loss: 1.5218 - val_accuracy: 0.1600\n",
            "\n",
            "Epoch 00005: ReduceLROnPlateau reducing learning rate to 2.499999936844688e-05.\n",
            "Epoch 6/40\n",
            "250/250 [==============================] - 185s 740ms/step - loss: 4.0517 - accuracy: 0.2080 - val_loss: 1.5463 - val_accuracy: 0.0800\n",
            "Epoch 7/40\n",
            "250/250 [==============================] - 185s 738ms/step - loss: 3.9197 - accuracy: 0.1560 - val_loss: 1.5171 - val_accuracy: 0.1400\n",
            "Restoring model weights from the end of the best epoch.\n",
            "Epoch 00007: early stopping\n"
          ],
          "name": "stdout"
        }
      ]
    },
    {
      "cell_type": "code",
      "metadata": {
        "id": "30YPAbdZNbfr"
      },
      "source": [
        "predictions = model.predict(test_generator)"
      ],
      "execution_count": null,
      "outputs": []
    },
    {
      "cell_type": "code",
      "metadata": {
        "colab": {
          "base_uri": "https://localhost:8080/"
        },
        "id": "P3-Xp2TKNbfr",
        "outputId": "9ed2b84d-7968-4657-f82d-426fd1581347"
      },
      "source": [
        "# model 2\n",
        "import numpy as np\n",
        "from sklearn.metrics import precision_recall_fscore_support, classification_report\n",
        "\n",
        "preds_classes = np.argmax(predictions, axis=-1)\n",
        "\n",
        "y_true = test_generator.classes\n",
        "y_pred = preds_classes\n",
        "\n",
        "print(precision_recall_fscore_support(y_true, y_pred, average='macro'))\n",
        "print(precision_recall_fscore_support(y_true, y_pred, average='micro'))\n",
        "print(precision_recall_fscore_support(y_true, y_pred, average='weighted'))\n",
        "print(classification_report(y_true, y_pred))"
      ],
      "execution_count": 26,
      "outputs": [
        {
          "output_type": "stream",
          "text": [
            "(0.15499398315282792, 0.2, 0.17464406779661015, None)\n",
            "(0.7749699157641395, 0.7749699157641395, 0.7749699157641396, None)\n",
            "(0.6005783703394776, 0.7749699157641395, 0.6767194925452283, None)\n",
            "              precision    recall  f1-score   support\n",
            "\n",
            "           0       0.77      1.00      0.87       644\n",
            "           1       0.00      0.00      0.00        57\n",
            "           2       0.00      0.00      0.00       113\n",
            "           3       0.00      0.00      0.00         7\n",
            "           4       0.00      0.00      0.00        10\n",
            "\n",
            "    accuracy                           0.77       831\n",
            "   macro avg       0.15      0.20      0.17       831\n",
            "weighted avg       0.60      0.77      0.68       831\n",
            "\n"
          ],
          "name": "stdout"
        },
        {
          "output_type": "stream",
          "text": [
            "/usr/local/lib/python3.7/dist-packages/sklearn/metrics/_classification.py:1272: UndefinedMetricWarning: Precision and F-score are ill-defined and being set to 0.0 in labels with no predicted samples. Use `zero_division` parameter to control this behavior.\n",
            "  _warn_prf(average, modifier, msg_start, len(result))\n"
          ],
          "name": "stderr"
        }
      ]
    },
    {
      "cell_type": "code",
      "metadata": {
        "id": "mr4hbryl-KKE"
      },
      "source": [
        "import keras\n",
        "\n",
        "model = keras.models.load_model(\"drive/My Drive/Pattern Recognition/DR models/model_10_1.h5\")"
      ],
      "execution_count": 24,
      "outputs": []
    },
    {
      "cell_type": "code",
      "metadata": {
        "id": "CWfbFxoqsF2T"
      },
      "source": [
        "predictions = model.predict(test_generator)"
      ],
      "execution_count": 25,
      "outputs": []
    },
    {
      "cell_type": "code",
      "metadata": {
        "colab": {
          "base_uri": "https://localhost:8080/"
        },
        "id": "1Vr18kU7u_oo",
        "outputId": "4fdffc1a-61a5-41a1-a7ce-bbdeb12458ba"
      },
      "source": [
        "# model 10, test set oversampled\n",
        "import numpy as np\n",
        "from sklearn.metrics import precision_recall_fscore_support, classification_report\n",
        "\n",
        "preds_classes = np.argmax(predictions, axis=-1)\n",
        "\n",
        "y_true = test_generator.classes\n",
        "y_pred = preds_classes\n",
        "\n",
        "print(precision_recall_fscore_support(y_true, y_pred, average='macro'))\n",
        "print(precision_recall_fscore_support(y_true, y_pred, average='micro'))\n",
        "print(precision_recall_fscore_support(y_true, y_pred, average='weighted'))\n",
        "print(classification_report(y_true, y_pred))"
      ],
      "execution_count": 19,
      "outputs": [
        {
          "output_type": "stream",
          "text": [
            "(0.35067768897879675, 0.34582694053391677, 0.34574116370491204, None)\n",
            "(0.352333746385791, 0.352333746385791, 0.352333746385791, None)\n",
            "(0.35538450890565954, 0.352333746385791, 0.3510863869491836, None)\n",
            "              precision    recall  f1-score   support\n",
            "\n",
            "           0       0.33      0.39      0.36       651\n",
            "           1       0.34      0.26      0.29       618\n",
            "           2       0.37      0.41      0.39       571\n",
            "           3       0.25      0.28      0.27       207\n",
            "           4       0.46      0.39      0.42       374\n",
            "\n",
            "    accuracy                           0.35      2421\n",
            "   macro avg       0.35      0.35      0.35      2421\n",
            "weighted avg       0.36      0.35      0.35      2421\n",
            "\n"
          ],
          "name": "stdout"
        }
      ]
    },
    {
      "cell_type": "code",
      "metadata": {
        "id": "YhJELWhBLnV4"
      },
      "source": [
        "predictions = model.predict(test_generator)"
      ],
      "execution_count": 26,
      "outputs": []
    },
    {
      "cell_type": "code",
      "metadata": {
        "colab": {
          "base_uri": "https://localhost:8080/"
        },
        "id": "ju8t948sLkbD",
        "outputId": "b39a94d3-7771-4411-da77-d6f5850489e4"
      },
      "source": [
        "# model 10_3\n",
        "import numpy as np\n",
        "from sklearn.metrics import precision_recall_fscore_support, classification_report\n",
        "\n",
        "preds_classes = np.argmax(predictions, axis=-1)\n",
        "\n",
        "y_true = test_generator.classes\n",
        "y_pred = preds_classes\n",
        "\n",
        "print(precision_recall_fscore_support(y_true, y_pred, average='macro'))\n",
        "print(precision_recall_fscore_support(y_true, y_pred, average='micro'))\n",
        "print(precision_recall_fscore_support(y_true, y_pred, average='weighted'))\n",
        "print(classification_report(y_true, y_pred))"
      ],
      "execution_count": 27,
      "outputs": [
        {
          "output_type": "stream",
          "text": [
            "(0.21298951526680088, 0.14940142777104362, 0.07709935739001483, None)\n",
            "(0.09626955475330927, 0.09626955475330927, 0.09626955475330927, None)\n",
            "(0.6745163512665417, 0.09626955475330927, 0.13162496512726984, None)\n",
            "              precision    recall  f1-score   support\n",
            "\n",
            "           0       0.84      0.07      0.13       644\n",
            "           1       0.07      0.04      0.05        57\n",
            "           2       0.14      0.24      0.18       113\n",
            "           3       0.00      0.00      0.00         7\n",
            "           4       0.01      0.40      0.03        10\n",
            "\n",
            "    accuracy                           0.10       831\n",
            "   macro avg       0.21      0.15      0.08       831\n",
            "weighted avg       0.67      0.10      0.13       831\n",
            "\n"
          ],
          "name": "stdout"
        }
      ]
    },
    {
      "cell_type": "code",
      "metadata": {
        "colab": {
          "base_uri": "https://localhost:8080/"
        },
        "id": "dENPWKEEAJL-",
        "outputId": "1a59961a-b74a-4406-8707-2f0f42f012d6"
      },
      "source": [
        "# model 12\n",
        "import numpy as np\n",
        "from sklearn.metrics import precision_recall_fscore_support, classification_report\n",
        "\n",
        "preds_classes = np.argmax(predictions, axis=-1)\n",
        "\n",
        "y_true = test_generator.classes\n",
        "y_pred = preds_classes\n",
        "\n",
        "print(precision_recall_fscore_support(y_true, y_pred, average='macro'))\n",
        "print(precision_recall_fscore_support(y_true, y_pred, average='micro'))\n",
        "print(precision_recall_fscore_support(y_true, y_pred, average='weighted'))\n",
        "print(classification_report(y_true, y_pred))"
      ],
      "execution_count": null,
      "outputs": [
        {
          "output_type": "stream",
          "text": [
            "(0.1982912660049952, 0.1968518641737086, 0.12443130794228303, None)\n",
            "(0.20818291215403129, 0.20818291215403129, 0.20818291215403129, None)\n",
            "(0.6182807750474557, 0.20818291215403129, 0.2881846511514965, None)\n",
            "              precision    recall  f1-score   support\n",
            "\n",
            "           0       0.77      0.21      0.33       644\n",
            "           1       0.07      0.19      0.10        57\n",
            "           2       0.14      0.18      0.16       113\n",
            "           3       0.00      0.00      0.00         7\n",
            "           4       0.02      0.40      0.03        10\n",
            "\n",
            "    accuracy                           0.21       831\n",
            "   macro avg       0.20      0.20      0.12       831\n",
            "weighted avg       0.62      0.21      0.29       831\n",
            "\n"
          ],
          "name": "stdout"
        }
      ]
    },
    {
      "cell_type": "code",
      "metadata": {
        "colab": {
          "base_uri": "https://localhost:8080/"
        },
        "id": "6i8IkT3si-8g",
        "outputId": "cec7bdd1-6fa8-4b00-be53-bbc6913120c2"
      },
      "source": [
        "# model 11_2 with oversampling\n",
        "import numpy as np\n",
        "from sklearn.metrics import precision_recall_fscore_support, classification_report\n",
        "\n",
        "preds_classes = np.argmax(predictions, axis=-1)\n",
        "\n",
        "y_true = test_generator.classes\n",
        "y_pred = preds_classes\n",
        "\n",
        "print(precision_recall_fscore_support(y_true, y_pred, average='macro'))\n",
        "print(precision_recall_fscore_support(y_true, y_pred, average='micro'))\n",
        "print(precision_recall_fscore_support(y_true, y_pred, average='weighted'))\n",
        "print(classification_report(y_true, y_pred))"
      ],
      "execution_count": null,
      "outputs": [
        {
          "output_type": "stream",
          "text": [
            "(0.3417892574410467, 0.33200091779798313, 0.3334083326051451, None)\n",
            "(0.343207786711807, 0.343207786711807, 0.343207786711807, None)\n",
            "(0.3501368098091383, 0.343207786711807, 0.3428719101119621, None)\n",
            "              precision    recall  f1-score   support\n",
            "\n",
            "           0       0.33      0.44      0.38       615\n",
            "           1       0.32      0.29      0.30       608\n",
            "           2       0.38      0.31      0.34       568\n",
            "           3       0.21      0.24      0.23       205\n",
            "           4       0.47      0.38      0.42       367\n",
            "\n",
            "    accuracy                           0.34      2363\n",
            "   macro avg       0.34      0.33      0.33      2363\n",
            "weighted avg       0.35      0.34      0.34      2363\n",
            "\n"
          ],
          "name": "stdout"
        }
      ]
    },
    {
      "cell_type": "code",
      "metadata": {
        "colab": {
          "base_uri": "https://localhost:8080/"
        },
        "id": "GTbVNMNmk8RC",
        "outputId": "8915ff19-eb7f-4541-b9f4-41b94096006f"
      },
      "source": [
        "# model 11_2\n",
        "import numpy as np\n",
        "from sklearn.metrics import precision_recall_fscore_support, classification_report\n",
        "\n",
        "preds_classes = np.argmax(predictions, axis=-1)\n",
        "\n",
        "y_true = test_generator.classes\n",
        "y_pred = preds_classes\n",
        "\n",
        "print(precision_recall_fscore_support(y_true, y_pred, average='macro'))\n",
        "print(precision_recall_fscore_support(y_true, y_pred, average='micro'))\n",
        "print(precision_recall_fscore_support(y_true, y_pred, average='weighted'))\n",
        "print(classification_report(y_true, y_pred))"
      ],
      "execution_count": null,
      "outputs": [
        {
          "output_type": "stream",
          "text": [
            "(0.23354255676519492, 0.303430787434149, 0.2123836216277161, None)\n",
            "(0.4055354993983153, 0.4055354993983153, 0.4055354993983153, None)\n",
            "(0.6574886453381429, 0.4055354993983153, 0.4854665065771123, None)\n",
            "              precision    recall  f1-score   support\n",
            "\n",
            "           0       0.80      0.45      0.57       644\n",
            "           1       0.07      0.26      0.11        57\n",
            "           2       0.21      0.27      0.24       113\n",
            "           3       0.02      0.14      0.04         7\n",
            "           4       0.06      0.40      0.11        10\n",
            "\n",
            "    accuracy                           0.41       831\n",
            "   macro avg       0.23      0.30      0.21       831\n",
            "weighted avg       0.66      0.41      0.49       831\n",
            "\n"
          ],
          "name": "stdout"
        }
      ]
    },
    {
      "cell_type": "code",
      "metadata": {
        "colab": {
          "base_uri": "https://localhost:8080/"
        },
        "id": "XAAvk_mlVYGH",
        "outputId": "0afbda5f-5bde-435b-a81e-c387ac2909c2"
      },
      "source": [
        "# model 10\n",
        "import numpy as np\n",
        "from sklearn.metrics import precision_recall_fscore_support, classification_report\n",
        "\n",
        "preds_classes = np.argmax(predictions, axis=-1)\n",
        "\n",
        "y_true = test_generator.classes\n",
        "y_pred = preds_classes\n",
        "\n",
        "print(precision_recall_fscore_support(y_true, y_pred, average='macro'))\n",
        "print(precision_recall_fscore_support(y_true, y_pred, average='micro'))\n",
        "print(precision_recall_fscore_support(y_true, y_pred, average='weighted'))\n",
        "print(classification_report(y_true, y_pred))"
      ],
      "execution_count": null,
      "outputs": [
        {
          "output_type": "stream",
          "text": [
            "(0.24430931413363863, 0.35386145239975664, 0.2300609855408962, None)\n",
            "(0.4055354993983153, 0.4055354993983153, 0.4055354993983153, None)\n",
            "(0.667902702578615, 0.4055354993983153, 0.4787922385678441, None)\n",
            "              precision    recall  f1-score   support\n",
            "\n",
            "           0       0.82      0.42      0.56       644\n",
            "           1       0.09      0.28      0.13        57\n",
            "           2       0.20      0.38      0.27       113\n",
            "           3       0.04      0.29      0.07         7\n",
            "           4       0.07      0.40      0.12        10\n",
            "\n",
            "    accuracy                           0.41       831\n",
            "   macro avg       0.24      0.35      0.23       831\n",
            "weighted avg       0.67      0.41      0.48       831\n",
            "\n"
          ],
          "name": "stdout"
        }
      ]
    },
    {
      "cell_type": "code",
      "metadata": {
        "colab": {
          "base_uri": "https://localhost:8080/"
        },
        "id": "FuBW7h2zTJLw",
        "outputId": "fb378330-2214-4fa0-eec2-4888fbed398d"
      },
      "source": [
        "# model 9\n",
        "import numpy as np\n",
        "from sklearn.metrics import precision_recall_fscore_support, classification_report\n",
        "\n",
        "preds_classes = np.argmax(predictions, axis=-1)\n",
        "\n",
        "y_true = valid_generator.classes\n",
        "y_pred = preds_classes\n",
        "\n",
        "print(precision_recall_fscore_support(y_true, y_pred, average='macro'))\n",
        "print(precision_recall_fscore_support(y_true, y_pred, average='micro'))\n",
        "print(precision_recall_fscore_support(y_true, y_pred, average='weighted'))\n",
        "print(classification_report(y_true, y_pred))"
      ],
      "execution_count": null,
      "outputs": [
        {
          "output_type": "stream",
          "text": [
            "(0.20503090202718927, 0.20493105322206745, 0.2027238799257983, None)\n",
            "(0.20556107249255212, 0.20556107249255212, 0.20556107249255212, None)\n",
            "(0.20635208209906558, 0.20556107249255212, 0.20364345541495724, None)\n",
            "              precision    recall  f1-score   support\n",
            "\n",
            "           0       0.19      0.20      0.19       534\n",
            "           1       0.21      0.21      0.21       633\n",
            "           2       0.21      0.13      0.16       626\n",
            "           3       0.23      0.26      0.25       661\n",
            "           4       0.18      0.22      0.20       567\n",
            "\n",
            "    accuracy                           0.21      3021\n",
            "   macro avg       0.21      0.20      0.20      3021\n",
            "weighted avg       0.21      0.21      0.20      3021\n",
            "\n"
          ],
          "name": "stdout"
        }
      ]
    },
    {
      "cell_type": "code",
      "metadata": {
        "colab": {
          "base_uri": "https://localhost:8080/"
        },
        "id": "4_pvndzYDJwo",
        "outputId": "dc627f00-50cd-45ec-e86f-40d274810a4f"
      },
      "source": [
        "# model 7\n",
        "import numpy as np\n",
        "from sklearn.metrics import precision_recall_fscore_support, classification_report\n",
        "\n",
        "preds_classes = np.argmax(predictions, axis=-1)\n",
        "\n",
        "y_true = valid_generator.classes\n",
        "y_pred = preds_classes\n",
        "\n",
        "print(precision_recall_fscore_support(y_true, y_pred, average='macro'))\n",
        "print(precision_recall_fscore_support(y_true, y_pred, average='micro'))\n",
        "print(precision_recall_fscore_support(y_true, y_pred, average='weighted'))\n",
        "print(classification_report(y_true, y_pred))"
      ],
      "execution_count": null,
      "outputs": [
        {
          "output_type": "stream",
          "text": [
            "(0.19091801509129527, 0.19684849452583092, 0.11679235738897228, None)\n",
            "(0.2025, 0.2025, 0.2025, None)\n",
            "(0.5590815217022712, 0.2025, 0.2678530093855987, None)\n",
            "              precision    recall  f1-score   support\n",
            "\n",
            "           0       0.74      0.22      0.34       583\n",
            "           1       0.07      0.41      0.11        51\n",
            "           2       0.11      0.03      0.05       129\n",
            "           3       0.03      0.17      0.05        23\n",
            "           4       0.02      0.14      0.03        14\n",
            "\n",
            "    accuracy                           0.20       800\n",
            "   macro avg       0.19      0.20      0.12       800\n",
            "weighted avg       0.56      0.20      0.27       800\n",
            "\n"
          ],
          "name": "stdout"
        }
      ]
    },
    {
      "cell_type": "code",
      "metadata": {
        "colab": {
          "base_uri": "https://localhost:8080/"
        },
        "id": "YWErm_scA5Lu",
        "outputId": "246a80db-cfd4-4e97-a093-c4ba0b843c23"
      },
      "source": [
        "# model 6\n",
        "import numpy as np\n",
        "from sklearn.metrics import precision_recall_fscore_support, classification_report\n",
        "\n",
        "preds_classes = np.argmax(predictions, axis=-1)\n",
        "\n",
        "y_true = valid_generator.classes\n",
        "y_pred = preds_classes\n",
        "\n",
        "print(precision_recall_fscore_support(y_true, y_pred, average='macro'))\n",
        "print(precision_recall_fscore_support(y_true, y_pred, average='micro'))\n",
        "print(precision_recall_fscore_support(y_true, y_pred, average='weighted'))\n",
        "print(classification_report(y_true, y_pred))"
      ],
      "execution_count": null,
      "outputs": [
        {
          "output_type": "stream",
          "text": [
            "(0.1730596489752127, 0.1559277784132989, 0.10468496313686985, None)\n",
            "(0.1925, 0.1925, 0.19249999999999998, None)\n",
            "(0.5259551506738639, 0.1925, 0.26162988172978285, None)\n",
            "              precision    recall  f1-score   support\n",
            "\n",
            "           0       0.70      0.22      0.34       583\n",
            "           1       0.05      0.29      0.08        51\n",
            "           2       0.09      0.03      0.05       129\n",
            "           3       0.02      0.09      0.03        23\n",
            "           4       0.02      0.14      0.03        14\n",
            "\n",
            "    accuracy                           0.19       800\n",
            "   macro avg       0.17      0.16      0.10       800\n",
            "weighted avg       0.53      0.19      0.26       800\n",
            "\n"
          ],
          "name": "stdout"
        }
      ]
    },
    {
      "cell_type": "code",
      "metadata": {
        "colab": {
          "base_uri": "https://localhost:8080/"
        },
        "id": "84YwRG9D96KC",
        "outputId": "ffa7e470-57d1-4c7f-cf45-0a8edeba2f12"
      },
      "source": [
        "preds_classes = np.argmax(predictions, axis=-1)\n",
        "\n",
        "import numpy as np\n",
        "from sklearn.metrics import precision_recall_fscore_support, classification_report\n",
        "\n",
        "y_true = valid_generator.classes\n",
        "y_pred = preds_classes\n",
        "\n",
        "print(precision_recall_fscore_support(y_true, y_pred, average='macro'))\n",
        "print(precision_recall_fscore_support(y_true, y_pred, average='micro'))\n",
        "print(precision_recall_fscore_support(y_true, y_pred, average='weighted'))\n",
        "print(classification_report(y_true, y_pred))"
      ],
      "execution_count": null,
      "outputs": [
        {
          "output_type": "stream",
          "text": [
            "(0.14575, 0.2, 0.16861894432393348, None)\n",
            "(0.72875, 0.72875, 0.72875, None)\n",
            "(0.5310765625, 0.72875, 0.6144052783803327, None)\n",
            "              precision    recall  f1-score   support\n",
            "\n",
            "           0       0.73      1.00      0.84       583\n",
            "           1       0.00      0.00      0.00        51\n",
            "           2       0.00      0.00      0.00       129\n",
            "           3       0.00      0.00      0.00        23\n",
            "           4       0.00      0.00      0.00        14\n",
            "\n",
            "    accuracy                           0.73       800\n",
            "   macro avg       0.15      0.20      0.17       800\n",
            "weighted avg       0.53      0.73      0.61       800\n",
            "\n"
          ],
          "name": "stdout"
        },
        {
          "output_type": "stream",
          "text": [
            "/usr/local/lib/python3.6/dist-packages/sklearn/metrics/_classification.py:1272: UndefinedMetricWarning: Precision and F-score are ill-defined and being set to 0.0 in labels with no predicted samples. Use `zero_division` parameter to control this behavior.\n",
            "  _warn_prf(average, modifier, msg_start, len(result))\n"
          ],
          "name": "stderr"
        }
      ]
    },
    {
      "cell_type": "markdown",
      "metadata": {
        "id": "AVz3tmqPPqm1"
      },
      "source": [
        "with batch size = 8:"
      ]
    },
    {
      "cell_type": "code",
      "metadata": {
        "colab": {
          "base_uri": "https://localhost:8080/"
        },
        "id": "l2pF-dt0PtiG",
        "outputId": "35bb45dd-f578-4686-db96-ecdeacd8b14e"
      },
      "source": [
        "history_finetunning = model.fit_generator(generator=train_generator,\n",
        "                                          steps_per_epoch=250,\n",
        "                                          validation_data=valid_generator,\n",
        "                                          validation_steps=50,\n",
        "                                          epochs=EPOCHS,\n",
        "                                          callbacks=callback_list,\n",
        "                                          verbose=1,\n",
        "                                          class_weight = class_weight).history"
      ],
      "execution_count": null,
      "outputs": [
        {
          "output_type": "stream",
          "text": [
            "/usr/local/lib/python3.7/dist-packages/tensorflow/python/keras/engine/training.py:1844: UserWarning: `Model.fit_generator` is deprecated and will be removed in a future version. Please use `Model.fit`, which supports generators.\n",
            "  warnings.warn('`Model.fit_generator` is deprecated and '\n"
          ],
          "name": "stderr"
        },
        {
          "output_type": "stream",
          "text": [
            "Epoch 1/40\n",
            "250/250 [==============================] - 1547s 6s/step - loss: 4.1245 - accuracy: 0.2600 - val_loss: 1.6072 - val_accuracy: 0.0200\n",
            "Epoch 2/40\n",
            "250/250 [==============================] - 1512s 6s/step - loss: 4.1367 - accuracy: 0.0710 - val_loss: 1.6108 - val_accuracy: 0.0250\n",
            "Epoch 3/40\n",
            "250/250 [==============================] - 1509s 6s/step - loss: 3.9207 - accuracy: 0.2875 - val_loss: 1.5772 - val_accuracy: 0.2775\n",
            "Epoch 4/40\n",
            "250/250 [==============================] - 1501s 6s/step - loss: 4.1891 - accuracy: 0.1120 - val_loss: 1.6189 - val_accuracy: 0.0350\n",
            "Epoch 5/40\n",
            "250/250 [==============================] - 1495s 6s/step - loss: 4.0077 - accuracy: 0.1345 - val_loss: 1.6154 - val_accuracy: 0.0225\n",
            "Epoch 6/40\n",
            "250/250 [==============================] - 1497s 6s/step - loss: 4.3043 - accuracy: 0.1510 - val_loss: 1.5939 - val_accuracy: 0.2250\n",
            "\n",
            "Epoch 00006: ReduceLROnPlateau reducing learning rate to 4.999999873689376e-05.\n",
            "Epoch 7/40\n",
            "250/250 [==============================] - 1498s 6s/step - loss: 4.1160 - accuracy: 0.2115 - val_loss: 1.6221 - val_accuracy: 0.0650\n",
            "Epoch 8/40\n",
            "250/250 [==============================] - 1492s 6s/step - loss: 3.9626 - accuracy: 0.1110 - val_loss: 1.5574 - val_accuracy: 0.1350\n",
            "Epoch 9/40\n",
            "250/250 [==============================] - 1491s 6s/step - loss: 3.8515 - accuracy: 0.1920 - val_loss: 1.5768 - val_accuracy: 0.1450\n",
            "Epoch 10/40\n",
            "250/250 [==============================] - 1493s 6s/step - loss: 4.0262 - accuracy: 0.1170 - val_loss: 1.6314 - val_accuracy: 0.0850\n",
            "Epoch 11/40\n",
            "250/250 [==============================] - 1496s 6s/step - loss: 3.9634 - accuracy: 0.1335 - val_loss: 1.5706 - val_accuracy: 0.1625\n",
            "\n",
            "Epoch 00011: ReduceLROnPlateau reducing learning rate to 2.499999936844688e-05.\n",
            "Epoch 12/40\n",
            "250/250 [==============================] - 1496s 6s/step - loss: 3.8479 - accuracy: 0.1795 - val_loss: 1.6080 - val_accuracy: 0.1125\n",
            "Epoch 13/40\n",
            "250/250 [==============================] - 1495s 6s/step - loss: 3.7055 - accuracy: 0.1755 - val_loss: 1.5976 - val_accuracy: 0.1525\n",
            "Restoring model weights from the end of the best epoch.\n",
            "Epoch 00013: early stopping\n"
          ],
          "name": "stdout"
        }
      ]
    },
    {
      "cell_type": "code",
      "metadata": {
        "id": "bKuda0ydiUY9"
      },
      "source": [
        "model.save(\"drive/My Drive/Pattern Recognition/DR models/model_3.h5\")"
      ],
      "execution_count": null,
      "outputs": []
    },
    {
      "cell_type": "code",
      "metadata": {
        "id": "RS-LD2zRPXUY"
      },
      "source": [
        "model = load_model(\"drive/My Drive/Pattern Recognition/DR models/model_3.h5\")"
      ],
      "execution_count": 33,
      "outputs": []
    },
    {
      "cell_type": "code",
      "metadata": {
        "id": "JVae-XyiPXUa"
      },
      "source": [
        "predictions = model.predict(test_generator)"
      ],
      "execution_count": 34,
      "outputs": []
    },
    {
      "cell_type": "code",
      "metadata": {
        "colab": {
          "base_uri": "https://localhost:8080/"
        },
        "id": "6aPaH2rXPXUb",
        "outputId": "9f65eb21-9a0b-4689-e200-b9d89fdf5f34"
      },
      "source": [
        "# model 3\n",
        "import numpy as np\n",
        "from sklearn.metrics import precision_recall_fscore_support, classification_report\n",
        "\n",
        "preds_classes = np.argmax(predictions, axis=-1)\n",
        "\n",
        "y_true = test_generator.classes\n",
        "y_pred = preds_classes\n",
        "\n",
        "print(precision_recall_fscore_support(y_true, y_pred, average='macro'))\n",
        "print(precision_recall_fscore_support(y_true, y_pred, average='micro'))\n",
        "print(precision_recall_fscore_support(y_true, y_pred, average='weighted'))\n",
        "print(classification_report(y_true, y_pred))"
      ],
      "execution_count": 35,
      "outputs": [
        {
          "output_type": "stream",
          "text": [
            "(0.20320601783289724, 0.24076792597114177, 0.08811629715213684, None)\n",
            "(0.11311672683513839, 0.11311672683513839, 0.11311672683513839, None)\n",
            "(0.6326536693804442, 0.11311672683513839, 0.16268673327001865, None)\n",
            "              precision    recall  f1-score   support\n",
            "\n",
            "           0       0.79      0.10      0.18       644\n",
            "           1       0.05      0.18      0.08        57\n",
            "           2       0.14      0.10      0.12       113\n",
            "           3       0.01      0.43      0.02         7\n",
            "           4       0.02      0.40      0.04        10\n",
            "\n",
            "    accuracy                           0.11       831\n",
            "   macro avg       0.20      0.24      0.09       831\n",
            "weighted avg       0.63      0.11      0.16       831\n",
            "\n"
          ],
          "name": "stdout"
        }
      ]
    },
    {
      "cell_type": "code",
      "metadata": {
        "id": "ebjzglBgiPf1",
        "colab": {
          "base_uri": "https://localhost:8080/"
        },
        "outputId": "4a67fd70-cea6-4b53-85d0-4ab52840f352"
      },
      "source": [
        "# model 8\n",
        "\n",
        "import numpy as np\n",
        "from sklearn.metrics import precision_recall_fscore_support, classification_report\n",
        "\n",
        "y_true = valid_generator.classes\n",
        "y_pred = preds_classes\n",
        "\n",
        "print(precision_recall_fscore_support(y_true, y_pred, average='macro'))\n",
        "print(precision_recall_fscore_support(y_true, y_pred, average='micro'))\n",
        "print(precision_recall_fscore_support(y_true, y_pred, average='weighted'))\n",
        "print(classification_report(y_true, y_pred))"
      ],
      "execution_count": null,
      "outputs": [
        {
          "output_type": "stream",
          "text": [
            "(0.20192078562872245, 0.20010885526063343, 0.19809580028422763, None)\n",
            "(0.19953130231001004, 0.19953130231001004, 0.19953130231001004, None)\n",
            "(0.20391179028360706, 0.19953130231001004, 0.19864350364876682, None)\n",
            "              precision    recall  f1-score   support\n",
            "\n",
            "           0       0.20      0.21      0.20       575\n",
            "           1       0.20      0.26      0.23       593\n",
            "           2       0.24      0.15      0.19       651\n",
            "           3       0.21      0.20      0.20       649\n",
            "           4       0.16      0.18      0.17       519\n",
            "\n",
            "    accuracy                           0.20      2987\n",
            "   macro avg       0.20      0.20      0.20      2987\n",
            "weighted avg       0.20      0.20      0.20      2987\n",
            "\n"
          ],
          "name": "stdout"
        }
      ]
    }
  ]
}